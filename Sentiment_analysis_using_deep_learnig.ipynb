{
  "nbformat": 4,
  "nbformat_minor": 0,
  "metadata": {
    "colab": {
      "provenance": []
    },
    "kernelspec": {
      "name": "python3",
      "display_name": "Python 3"
    },
    "language_info": {
      "name": "python"
    },
    "accelerator": "GPU",
    "gpuClass": "standard"
  },
  "cells": [
    {
      "cell_type": "code",
      "source": [
        "import tensorflow as tf\n",
        "physical_devices = tf.config.list_physical_devices('GPU')\n",
        "tf.config.experimental.set_memory_growth(physical_devices[0], enable = True)\n",
        "from tensorflow import keras\n",
        "from tensorflow.keras.layers import MultiHeadAttention, LayerNormalization, Dropout, Layer, SimpleRNN, LSTM, Flatten\n",
        "from tensorflow.keras.layers import Embedding, Input, GlobalAveragePooling1D, Dense\n",
        "from tensorflow.keras.datasets import imdb\n",
        "from tensorflow.keras.models import Sequential, Model\n",
        "import numpy as np\n",
        "import warnings\n",
        "warnings.filterwarnings(\"ignore\", category=np.VisibleDeprecationWarning)\n"
      ],
      "metadata": {
        "id": "69iFLr-kTTL6"
      },
      "execution_count": 95,
      "outputs": []
    },
    {
      "cell_type": "code",
      "source": [
        "print(physical_devices)"
      ],
      "metadata": {
        "colab": {
          "base_uri": "https://localhost:8080/"
        },
        "id": "apz7iAQlTeGu",
        "outputId": "5dc22b1d-9e21-4679-9775-0edb6b0b1ea6"
      },
      "execution_count": 96,
      "outputs": [
        {
          "output_type": "stream",
          "name": "stdout",
          "text": [
            "[PhysicalDevice(name='/physical_device:GPU:0', device_type='GPU')]\n"
          ]
        }
      ]
    },
    {
      "cell_type": "code",
      "source": [
        "import os\n",
        "import re\n",
        "import numpy as np\n",
        "import pandas as pd\n",
        "\n",
        "# text treatement\n",
        "import nltk\n",
        "from nltk.tokenize import word_tokenize\n",
        "import string\n",
        "from nltk.corpus import stopwords\n",
        "from nltk.stem.porter import PorterStemmer\n",
        "from nltk.sentiment.vader import SentimentIntensityAnalyzer\n",
        "import re\n",
        "\n",
        "nltk.download('stopwords')\n",
        "\n",
        "from nltk.corpus import stopwords\n",
        "from nltk.stem.porter import PorterStemmer\n",
        "ps = PorterStemmer()\n",
        "\n",
        "all_stopwords = stopwords.words('english')\n",
        "all_stopwords.remove('not')\n",
        "\n",
        "\n",
        "import csv,sys\n",
        "from sklearn.feature_extraction.text import CountVectorizer, TfidfVectorizer\n",
        "from sklearn.feature_extraction.text import TfidfTransformer\n",
        "from sklearn.model_selection import GridSearchCV \n",
        "from sklearn.pipeline import Pipeline\n",
        "from sklearn.naive_bayes import MultinomialNB\n",
        "from sklearn.linear_model import LogisticRegression\n",
        "from sklearn import svm \n",
        "from sklearn.tree import DecisionTreeClassifier\n",
        "from sklearn.ensemble import RandomForestClassifier \n",
        "from sklearn.model_selection import train_test_split\n",
        "from sklearn.metrics import confusion_matrix, accuracy_score, precision_score, recall_score, f1_score\n",
        "from sklearn.feature_selection import SelectKBest,chi2 \n"
      ],
      "metadata": {
        "colab": {
          "base_uri": "https://localhost:8080/"
        },
        "id": "6O2mSdVYTgMd",
        "outputId": "c86dcbd9-bb54-49ad-f64d-5323d5a47757"
      },
      "execution_count": 97,
      "outputs": [
        {
          "output_type": "stream",
          "name": "stderr",
          "text": [
            "[nltk_data] Downloading package stopwords to /root/nltk_data...\n",
            "[nltk_data]   Package stopwords is already up-to-date!\n"
          ]
        }
      ]
    },
    {
      "cell_type": "code",
      "source": [
        "dataset_train = pd.read_csv('project2_training_data.txt', delimiter= '\\r\\n' , header = None, names=['text'])\n",
        "dataset_labels = pd.read_csv('project2_training_data_labels.txt', delimiter= '\\r\\n' , header = None, names=['text'])"
      ],
      "metadata": {
        "colab": {
          "base_uri": "https://localhost:8080/"
        },
        "id": "cOAfX03nTif8",
        "outputId": "2a5c3943-61a2-4f46-a73b-5ed25dbbf45b"
      },
      "execution_count": 98,
      "outputs": [
        {
          "output_type": "stream",
          "name": "stderr",
          "text": [
            "/usr/local/lib/python3.7/dist-packages/pandas/util/_decorators.py:311: ParserWarning: Falling back to the 'python' engine because the 'c' engine does not support regex separators (separators > 1 char and different from '\\s+' are interpreted as regex); you can avoid this warning by specifying engine='python'.\n",
            "  return func(*args, **kwargs)\n"
          ]
        }
      ]
    },
    {
      "cell_type": "code",
      "source": [
        "dataset_train.head()"
      ],
      "metadata": {
        "colab": {
          "base_uri": "https://localhost:8080/",
          "height": 204
        },
        "id": "tGlHaTNlmm6z",
        "outputId": "c3c4bb25-8fc4-476f-80f9-aab46438a7d4"
      },
      "execution_count": 99,
      "outputs": [
        {
          "output_type": "execute_result",
          "data": {
            "text/plain": [
              "                                                text\n",
              "0  Merrill Lynch analyst Campbell Morgan upgraded...\n",
              "1  Eriikka S+Âderstr+Âm has previously held sever...\n",
              "2  The webcast may be followed online on the comp...\n",
              "3  Typical end-uses include roof structures , flo...\n",
              "4  The sale will be finalized in September or Oct..."
            ],
            "text/html": [
              "\n",
              "  <div id=\"df-1c4e53c4-0349-4998-9055-f5e1d7b9d15a\">\n",
              "    <div class=\"colab-df-container\">\n",
              "      <div>\n",
              "<style scoped>\n",
              "    .dataframe tbody tr th:only-of-type {\n",
              "        vertical-align: middle;\n",
              "    }\n",
              "\n",
              "    .dataframe tbody tr th {\n",
              "        vertical-align: top;\n",
              "    }\n",
              "\n",
              "    .dataframe thead th {\n",
              "        text-align: right;\n",
              "    }\n",
              "</style>\n",
              "<table border=\"1\" class=\"dataframe\">\n",
              "  <thead>\n",
              "    <tr style=\"text-align: right;\">\n",
              "      <th></th>\n",
              "      <th>text</th>\n",
              "    </tr>\n",
              "  </thead>\n",
              "  <tbody>\n",
              "    <tr>\n",
              "      <th>0</th>\n",
              "      <td>Merrill Lynch analyst Campbell Morgan upgraded...</td>\n",
              "    </tr>\n",
              "    <tr>\n",
              "      <th>1</th>\n",
              "      <td>Eriikka S+Âderstr+Âm has previously held sever...</td>\n",
              "    </tr>\n",
              "    <tr>\n",
              "      <th>2</th>\n",
              "      <td>The webcast may be followed online on the comp...</td>\n",
              "    </tr>\n",
              "    <tr>\n",
              "      <th>3</th>\n",
              "      <td>Typical end-uses include roof structures , flo...</td>\n",
              "    </tr>\n",
              "    <tr>\n",
              "      <th>4</th>\n",
              "      <td>The sale will be finalized in September or Oct...</td>\n",
              "    </tr>\n",
              "  </tbody>\n",
              "</table>\n",
              "</div>\n",
              "      <button class=\"colab-df-convert\" onclick=\"convertToInteractive('df-1c4e53c4-0349-4998-9055-f5e1d7b9d15a')\"\n",
              "              title=\"Convert this dataframe to an interactive table.\"\n",
              "              style=\"display:none;\">\n",
              "        \n",
              "  <svg xmlns=\"http://www.w3.org/2000/svg\" height=\"24px\"viewBox=\"0 0 24 24\"\n",
              "       width=\"24px\">\n",
              "    <path d=\"M0 0h24v24H0V0z\" fill=\"none\"/>\n",
              "    <path d=\"M18.56 5.44l.94 2.06.94-2.06 2.06-.94-2.06-.94-.94-2.06-.94 2.06-2.06.94zm-11 1L8.5 8.5l.94-2.06 2.06-.94-2.06-.94L8.5 2.5l-.94 2.06-2.06.94zm10 10l.94 2.06.94-2.06 2.06-.94-2.06-.94-.94-2.06-.94 2.06-2.06.94z\"/><path d=\"M17.41 7.96l-1.37-1.37c-.4-.4-.92-.59-1.43-.59-.52 0-1.04.2-1.43.59L10.3 9.45l-7.72 7.72c-.78.78-.78 2.05 0 2.83L4 21.41c.39.39.9.59 1.41.59.51 0 1.02-.2 1.41-.59l7.78-7.78 2.81-2.81c.8-.78.8-2.07 0-2.86zM5.41 20L4 18.59l7.72-7.72 1.47 1.35L5.41 20z\"/>\n",
              "  </svg>\n",
              "      </button>\n",
              "      \n",
              "  <style>\n",
              "    .colab-df-container {\n",
              "      display:flex;\n",
              "      flex-wrap:wrap;\n",
              "      gap: 12px;\n",
              "    }\n",
              "\n",
              "    .colab-df-convert {\n",
              "      background-color: #E8F0FE;\n",
              "      border: none;\n",
              "      border-radius: 50%;\n",
              "      cursor: pointer;\n",
              "      display: none;\n",
              "      fill: #1967D2;\n",
              "      height: 32px;\n",
              "      padding: 0 0 0 0;\n",
              "      width: 32px;\n",
              "    }\n",
              "\n",
              "    .colab-df-convert:hover {\n",
              "      background-color: #E2EBFA;\n",
              "      box-shadow: 0px 1px 2px rgba(60, 64, 67, 0.3), 0px 1px 3px 1px rgba(60, 64, 67, 0.15);\n",
              "      fill: #174EA6;\n",
              "    }\n",
              "\n",
              "    [theme=dark] .colab-df-convert {\n",
              "      background-color: #3B4455;\n",
              "      fill: #D2E3FC;\n",
              "    }\n",
              "\n",
              "    [theme=dark] .colab-df-convert:hover {\n",
              "      background-color: #434B5C;\n",
              "      box-shadow: 0px 1px 3px 1px rgba(0, 0, 0, 0.15);\n",
              "      filter: drop-shadow(0px 1px 2px rgba(0, 0, 0, 0.3));\n",
              "      fill: #FFFFFF;\n",
              "    }\n",
              "  </style>\n",
              "\n",
              "      <script>\n",
              "        const buttonEl =\n",
              "          document.querySelector('#df-1c4e53c4-0349-4998-9055-f5e1d7b9d15a button.colab-df-convert');\n",
              "        buttonEl.style.display =\n",
              "          google.colab.kernel.accessAllowed ? 'block' : 'none';\n",
              "\n",
              "        async function convertToInteractive(key) {\n",
              "          const element = document.querySelector('#df-1c4e53c4-0349-4998-9055-f5e1d7b9d15a');\n",
              "          const dataTable =\n",
              "            await google.colab.kernel.invokeFunction('convertToInteractive',\n",
              "                                                     [key], {});\n",
              "          if (!dataTable) return;\n",
              "\n",
              "          const docLinkHtml = 'Like what you see? Visit the ' +\n",
              "            '<a target=\"_blank\" href=https://colab.research.google.com/notebooks/data_table.ipynb>data table notebook</a>'\n",
              "            + ' to learn more about interactive tables.';\n",
              "          element.innerHTML = '';\n",
              "          dataTable['output_type'] = 'display_data';\n",
              "          await google.colab.output.renderOutput(dataTable, element);\n",
              "          const docLink = document.createElement('div');\n",
              "          docLink.innerHTML = docLinkHtml;\n",
              "          element.appendChild(docLink);\n",
              "        }\n",
              "      </script>\n",
              "    </div>\n",
              "  </div>\n",
              "  "
            ]
          },
          "metadata": {},
          "execution_count": 99
        }
      ]
    },
    {
      "cell_type": "code",
      "source": [
        "dataset_train = dataset_train.dropna(axis='columns')"
      ],
      "metadata": {
        "id": "x0FRl3_KVXyG"
      },
      "execution_count": 100,
      "outputs": []
    },
    {
      "cell_type": "code",
      "source": [
        "dataset_train.head()"
      ],
      "metadata": {
        "colab": {
          "base_uri": "https://localhost:8080/",
          "height": 204
        },
        "id": "9CJy54r1Va7N",
        "outputId": "eb0258c8-ad8b-4179-85a0-5c576276b385"
      },
      "execution_count": 101,
      "outputs": [
        {
          "output_type": "execute_result",
          "data": {
            "text/plain": [
              "                                                text\n",
              "0  Merrill Lynch analyst Campbell Morgan upgraded...\n",
              "1  Eriikka S+Âderstr+Âm has previously held sever...\n",
              "2  The webcast may be followed online on the comp...\n",
              "3  Typical end-uses include roof structures , flo...\n",
              "4  The sale will be finalized in September or Oct..."
            ],
            "text/html": [
              "\n",
              "  <div id=\"df-198ee982-bc82-4f59-bb40-7eed4a4bd902\">\n",
              "    <div class=\"colab-df-container\">\n",
              "      <div>\n",
              "<style scoped>\n",
              "    .dataframe tbody tr th:only-of-type {\n",
              "        vertical-align: middle;\n",
              "    }\n",
              "\n",
              "    .dataframe tbody tr th {\n",
              "        vertical-align: top;\n",
              "    }\n",
              "\n",
              "    .dataframe thead th {\n",
              "        text-align: right;\n",
              "    }\n",
              "</style>\n",
              "<table border=\"1\" class=\"dataframe\">\n",
              "  <thead>\n",
              "    <tr style=\"text-align: right;\">\n",
              "      <th></th>\n",
              "      <th>text</th>\n",
              "    </tr>\n",
              "  </thead>\n",
              "  <tbody>\n",
              "    <tr>\n",
              "      <th>0</th>\n",
              "      <td>Merrill Lynch analyst Campbell Morgan upgraded...</td>\n",
              "    </tr>\n",
              "    <tr>\n",
              "      <th>1</th>\n",
              "      <td>Eriikka S+Âderstr+Âm has previously held sever...</td>\n",
              "    </tr>\n",
              "    <tr>\n",
              "      <th>2</th>\n",
              "      <td>The webcast may be followed online on the comp...</td>\n",
              "    </tr>\n",
              "    <tr>\n",
              "      <th>3</th>\n",
              "      <td>Typical end-uses include roof structures , flo...</td>\n",
              "    </tr>\n",
              "    <tr>\n",
              "      <th>4</th>\n",
              "      <td>The sale will be finalized in September or Oct...</td>\n",
              "    </tr>\n",
              "  </tbody>\n",
              "</table>\n",
              "</div>\n",
              "      <button class=\"colab-df-convert\" onclick=\"convertToInteractive('df-198ee982-bc82-4f59-bb40-7eed4a4bd902')\"\n",
              "              title=\"Convert this dataframe to an interactive table.\"\n",
              "              style=\"display:none;\">\n",
              "        \n",
              "  <svg xmlns=\"http://www.w3.org/2000/svg\" height=\"24px\"viewBox=\"0 0 24 24\"\n",
              "       width=\"24px\">\n",
              "    <path d=\"M0 0h24v24H0V0z\" fill=\"none\"/>\n",
              "    <path d=\"M18.56 5.44l.94 2.06.94-2.06 2.06-.94-2.06-.94-.94-2.06-.94 2.06-2.06.94zm-11 1L8.5 8.5l.94-2.06 2.06-.94-2.06-.94L8.5 2.5l-.94 2.06-2.06.94zm10 10l.94 2.06.94-2.06 2.06-.94-2.06-.94-.94-2.06-.94 2.06-2.06.94z\"/><path d=\"M17.41 7.96l-1.37-1.37c-.4-.4-.92-.59-1.43-.59-.52 0-1.04.2-1.43.59L10.3 9.45l-7.72 7.72c-.78.78-.78 2.05 0 2.83L4 21.41c.39.39.9.59 1.41.59.51 0 1.02-.2 1.41-.59l7.78-7.78 2.81-2.81c.8-.78.8-2.07 0-2.86zM5.41 20L4 18.59l7.72-7.72 1.47 1.35L5.41 20z\"/>\n",
              "  </svg>\n",
              "      </button>\n",
              "      \n",
              "  <style>\n",
              "    .colab-df-container {\n",
              "      display:flex;\n",
              "      flex-wrap:wrap;\n",
              "      gap: 12px;\n",
              "    }\n",
              "\n",
              "    .colab-df-convert {\n",
              "      background-color: #E8F0FE;\n",
              "      border: none;\n",
              "      border-radius: 50%;\n",
              "      cursor: pointer;\n",
              "      display: none;\n",
              "      fill: #1967D2;\n",
              "      height: 32px;\n",
              "      padding: 0 0 0 0;\n",
              "      width: 32px;\n",
              "    }\n",
              "\n",
              "    .colab-df-convert:hover {\n",
              "      background-color: #E2EBFA;\n",
              "      box-shadow: 0px 1px 2px rgba(60, 64, 67, 0.3), 0px 1px 3px 1px rgba(60, 64, 67, 0.15);\n",
              "      fill: #174EA6;\n",
              "    }\n",
              "\n",
              "    [theme=dark] .colab-df-convert {\n",
              "      background-color: #3B4455;\n",
              "      fill: #D2E3FC;\n",
              "    }\n",
              "\n",
              "    [theme=dark] .colab-df-convert:hover {\n",
              "      background-color: #434B5C;\n",
              "      box-shadow: 0px 1px 3px 1px rgba(0, 0, 0, 0.15);\n",
              "      filter: drop-shadow(0px 1px 2px rgba(0, 0, 0, 0.3));\n",
              "      fill: #FFFFFF;\n",
              "    }\n",
              "  </style>\n",
              "\n",
              "      <script>\n",
              "        const buttonEl =\n",
              "          document.querySelector('#df-198ee982-bc82-4f59-bb40-7eed4a4bd902 button.colab-df-convert');\n",
              "        buttonEl.style.display =\n",
              "          google.colab.kernel.accessAllowed ? 'block' : 'none';\n",
              "\n",
              "        async function convertToInteractive(key) {\n",
              "          const element = document.querySelector('#df-198ee982-bc82-4f59-bb40-7eed4a4bd902');\n",
              "          const dataTable =\n",
              "            await google.colab.kernel.invokeFunction('convertToInteractive',\n",
              "                                                     [key], {});\n",
              "          if (!dataTable) return;\n",
              "\n",
              "          const docLinkHtml = 'Like what you see? Visit the ' +\n",
              "            '<a target=\"_blank\" href=https://colab.research.google.com/notebooks/data_table.ipynb>data table notebook</a>'\n",
              "            + ' to learn more about interactive tables.';\n",
              "          element.innerHTML = '';\n",
              "          dataTable['output_type'] = 'display_data';\n",
              "          await google.colab.output.renderOutput(dataTable, element);\n",
              "          const docLink = document.createElement('div');\n",
              "          docLink.innerHTML = docLinkHtml;\n",
              "          element.appendChild(docLink);\n",
              "        }\n",
              "      </script>\n",
              "    </div>\n",
              "  </div>\n",
              "  "
            ]
          },
          "metadata": {},
          "execution_count": 101
        }
      ]
    },
    {
      "cell_type": "code",
      "source": [
        "dataset_labels.head()"
      ],
      "metadata": {
        "colab": {
          "base_uri": "https://localhost:8080/",
          "height": 204
        },
        "id": "SKO4MjtdVdkL",
        "outputId": "c863d174-033e-4282-cd69-c30479cf563d"
      },
      "execution_count": 102,
      "outputs": [
        {
          "output_type": "execute_result",
          "data": {
            "text/plain": [
              "       text\n",
              "0  positive\n",
              "1   neutral\n",
              "2   neutral\n",
              "3   neutral\n",
              "4   neutral"
            ],
            "text/html": [
              "\n",
              "  <div id=\"df-e78d571a-23c2-441b-83c7-5835875777a4\">\n",
              "    <div class=\"colab-df-container\">\n",
              "      <div>\n",
              "<style scoped>\n",
              "    .dataframe tbody tr th:only-of-type {\n",
              "        vertical-align: middle;\n",
              "    }\n",
              "\n",
              "    .dataframe tbody tr th {\n",
              "        vertical-align: top;\n",
              "    }\n",
              "\n",
              "    .dataframe thead th {\n",
              "        text-align: right;\n",
              "    }\n",
              "</style>\n",
              "<table border=\"1\" class=\"dataframe\">\n",
              "  <thead>\n",
              "    <tr style=\"text-align: right;\">\n",
              "      <th></th>\n",
              "      <th>text</th>\n",
              "    </tr>\n",
              "  </thead>\n",
              "  <tbody>\n",
              "    <tr>\n",
              "      <th>0</th>\n",
              "      <td>positive</td>\n",
              "    </tr>\n",
              "    <tr>\n",
              "      <th>1</th>\n",
              "      <td>neutral</td>\n",
              "    </tr>\n",
              "    <tr>\n",
              "      <th>2</th>\n",
              "      <td>neutral</td>\n",
              "    </tr>\n",
              "    <tr>\n",
              "      <th>3</th>\n",
              "      <td>neutral</td>\n",
              "    </tr>\n",
              "    <tr>\n",
              "      <th>4</th>\n",
              "      <td>neutral</td>\n",
              "    </tr>\n",
              "  </tbody>\n",
              "</table>\n",
              "</div>\n",
              "      <button class=\"colab-df-convert\" onclick=\"convertToInteractive('df-e78d571a-23c2-441b-83c7-5835875777a4')\"\n",
              "              title=\"Convert this dataframe to an interactive table.\"\n",
              "              style=\"display:none;\">\n",
              "        \n",
              "  <svg xmlns=\"http://www.w3.org/2000/svg\" height=\"24px\"viewBox=\"0 0 24 24\"\n",
              "       width=\"24px\">\n",
              "    <path d=\"M0 0h24v24H0V0z\" fill=\"none\"/>\n",
              "    <path d=\"M18.56 5.44l.94 2.06.94-2.06 2.06-.94-2.06-.94-.94-2.06-.94 2.06-2.06.94zm-11 1L8.5 8.5l.94-2.06 2.06-.94-2.06-.94L8.5 2.5l-.94 2.06-2.06.94zm10 10l.94 2.06.94-2.06 2.06-.94-2.06-.94-.94-2.06-.94 2.06-2.06.94z\"/><path d=\"M17.41 7.96l-1.37-1.37c-.4-.4-.92-.59-1.43-.59-.52 0-1.04.2-1.43.59L10.3 9.45l-7.72 7.72c-.78.78-.78 2.05 0 2.83L4 21.41c.39.39.9.59 1.41.59.51 0 1.02-.2 1.41-.59l7.78-7.78 2.81-2.81c.8-.78.8-2.07 0-2.86zM5.41 20L4 18.59l7.72-7.72 1.47 1.35L5.41 20z\"/>\n",
              "  </svg>\n",
              "      </button>\n",
              "      \n",
              "  <style>\n",
              "    .colab-df-container {\n",
              "      display:flex;\n",
              "      flex-wrap:wrap;\n",
              "      gap: 12px;\n",
              "    }\n",
              "\n",
              "    .colab-df-convert {\n",
              "      background-color: #E8F0FE;\n",
              "      border: none;\n",
              "      border-radius: 50%;\n",
              "      cursor: pointer;\n",
              "      display: none;\n",
              "      fill: #1967D2;\n",
              "      height: 32px;\n",
              "      padding: 0 0 0 0;\n",
              "      width: 32px;\n",
              "    }\n",
              "\n",
              "    .colab-df-convert:hover {\n",
              "      background-color: #E2EBFA;\n",
              "      box-shadow: 0px 1px 2px rgba(60, 64, 67, 0.3), 0px 1px 3px 1px rgba(60, 64, 67, 0.15);\n",
              "      fill: #174EA6;\n",
              "    }\n",
              "\n",
              "    [theme=dark] .colab-df-convert {\n",
              "      background-color: #3B4455;\n",
              "      fill: #D2E3FC;\n",
              "    }\n",
              "\n",
              "    [theme=dark] .colab-df-convert:hover {\n",
              "      background-color: #434B5C;\n",
              "      box-shadow: 0px 1px 3px 1px rgba(0, 0, 0, 0.15);\n",
              "      filter: drop-shadow(0px 1px 2px rgba(0, 0, 0, 0.3));\n",
              "      fill: #FFFFFF;\n",
              "    }\n",
              "  </style>\n",
              "\n",
              "      <script>\n",
              "        const buttonEl =\n",
              "          document.querySelector('#df-e78d571a-23c2-441b-83c7-5835875777a4 button.colab-df-convert');\n",
              "        buttonEl.style.display =\n",
              "          google.colab.kernel.accessAllowed ? 'block' : 'none';\n",
              "\n",
              "        async function convertToInteractive(key) {\n",
              "          const element = document.querySelector('#df-e78d571a-23c2-441b-83c7-5835875777a4');\n",
              "          const dataTable =\n",
              "            await google.colab.kernel.invokeFunction('convertToInteractive',\n",
              "                                                     [key], {});\n",
              "          if (!dataTable) return;\n",
              "\n",
              "          const docLinkHtml = 'Like what you see? Visit the ' +\n",
              "            '<a target=\"_blank\" href=https://colab.research.google.com/notebooks/data_table.ipynb>data table notebook</a>'\n",
              "            + ' to learn more about interactive tables.';\n",
              "          element.innerHTML = '';\n",
              "          dataTable['output_type'] = 'display_data';\n",
              "          await google.colab.output.renderOutput(dataTable, element);\n",
              "          const docLink = document.createElement('div');\n",
              "          docLink.innerHTML = docLinkHtml;\n",
              "          element.appendChild(docLink);\n",
              "        }\n",
              "      </script>\n",
              "    </div>\n",
              "  </div>\n",
              "  "
            ]
          },
          "metadata": {},
          "execution_count": 102
        }
      ]
    },
    {
      "cell_type": "code",
      "source": [
        "result = pd.concat([dataset_train, dataset_labels], axis=1, join='inner')"
      ],
      "metadata": {
        "id": "MqO4irPtVhhT"
      },
      "execution_count": 103,
      "outputs": []
    },
    {
      "cell_type": "code",
      "source": [
        "result.head()"
      ],
      "metadata": {
        "colab": {
          "base_uri": "https://localhost:8080/",
          "height": 204
        },
        "id": "12Q22H8oVj9l",
        "outputId": "bc590b41-e58e-4d19-cee1-b5375364f0b4"
      },
      "execution_count": 104,
      "outputs": [
        {
          "output_type": "execute_result",
          "data": {
            "text/plain": [
              "                                                text      text\n",
              "0  Merrill Lynch analyst Campbell Morgan upgraded...  positive\n",
              "1  Eriikka S+Âderstr+Âm has previously held sever...   neutral\n",
              "2  The webcast may be followed online on the comp...   neutral\n",
              "3  Typical end-uses include roof structures , flo...   neutral\n",
              "4  The sale will be finalized in September or Oct...   neutral"
            ],
            "text/html": [
              "\n",
              "  <div id=\"df-710b7bcf-725c-4e80-978b-c5a7977e1ae5\">\n",
              "    <div class=\"colab-df-container\">\n",
              "      <div>\n",
              "<style scoped>\n",
              "    .dataframe tbody tr th:only-of-type {\n",
              "        vertical-align: middle;\n",
              "    }\n",
              "\n",
              "    .dataframe tbody tr th {\n",
              "        vertical-align: top;\n",
              "    }\n",
              "\n",
              "    .dataframe thead th {\n",
              "        text-align: right;\n",
              "    }\n",
              "</style>\n",
              "<table border=\"1\" class=\"dataframe\">\n",
              "  <thead>\n",
              "    <tr style=\"text-align: right;\">\n",
              "      <th></th>\n",
              "      <th>text</th>\n",
              "      <th>text</th>\n",
              "    </tr>\n",
              "  </thead>\n",
              "  <tbody>\n",
              "    <tr>\n",
              "      <th>0</th>\n",
              "      <td>Merrill Lynch analyst Campbell Morgan upgraded...</td>\n",
              "      <td>positive</td>\n",
              "    </tr>\n",
              "    <tr>\n",
              "      <th>1</th>\n",
              "      <td>Eriikka S+Âderstr+Âm has previously held sever...</td>\n",
              "      <td>neutral</td>\n",
              "    </tr>\n",
              "    <tr>\n",
              "      <th>2</th>\n",
              "      <td>The webcast may be followed online on the comp...</td>\n",
              "      <td>neutral</td>\n",
              "    </tr>\n",
              "    <tr>\n",
              "      <th>3</th>\n",
              "      <td>Typical end-uses include roof structures , flo...</td>\n",
              "      <td>neutral</td>\n",
              "    </tr>\n",
              "    <tr>\n",
              "      <th>4</th>\n",
              "      <td>The sale will be finalized in September or Oct...</td>\n",
              "      <td>neutral</td>\n",
              "    </tr>\n",
              "  </tbody>\n",
              "</table>\n",
              "</div>\n",
              "      <button class=\"colab-df-convert\" onclick=\"convertToInteractive('df-710b7bcf-725c-4e80-978b-c5a7977e1ae5')\"\n",
              "              title=\"Convert this dataframe to an interactive table.\"\n",
              "              style=\"display:none;\">\n",
              "        \n",
              "  <svg xmlns=\"http://www.w3.org/2000/svg\" height=\"24px\"viewBox=\"0 0 24 24\"\n",
              "       width=\"24px\">\n",
              "    <path d=\"M0 0h24v24H0V0z\" fill=\"none\"/>\n",
              "    <path d=\"M18.56 5.44l.94 2.06.94-2.06 2.06-.94-2.06-.94-.94-2.06-.94 2.06-2.06.94zm-11 1L8.5 8.5l.94-2.06 2.06-.94-2.06-.94L8.5 2.5l-.94 2.06-2.06.94zm10 10l.94 2.06.94-2.06 2.06-.94-2.06-.94-.94-2.06-.94 2.06-2.06.94z\"/><path d=\"M17.41 7.96l-1.37-1.37c-.4-.4-.92-.59-1.43-.59-.52 0-1.04.2-1.43.59L10.3 9.45l-7.72 7.72c-.78.78-.78 2.05 0 2.83L4 21.41c.39.39.9.59 1.41.59.51 0 1.02-.2 1.41-.59l7.78-7.78 2.81-2.81c.8-.78.8-2.07 0-2.86zM5.41 20L4 18.59l7.72-7.72 1.47 1.35L5.41 20z\"/>\n",
              "  </svg>\n",
              "      </button>\n",
              "      \n",
              "  <style>\n",
              "    .colab-df-container {\n",
              "      display:flex;\n",
              "      flex-wrap:wrap;\n",
              "      gap: 12px;\n",
              "    }\n",
              "\n",
              "    .colab-df-convert {\n",
              "      background-color: #E8F0FE;\n",
              "      border: none;\n",
              "      border-radius: 50%;\n",
              "      cursor: pointer;\n",
              "      display: none;\n",
              "      fill: #1967D2;\n",
              "      height: 32px;\n",
              "      padding: 0 0 0 0;\n",
              "      width: 32px;\n",
              "    }\n",
              "\n",
              "    .colab-df-convert:hover {\n",
              "      background-color: #E2EBFA;\n",
              "      box-shadow: 0px 1px 2px rgba(60, 64, 67, 0.3), 0px 1px 3px 1px rgba(60, 64, 67, 0.15);\n",
              "      fill: #174EA6;\n",
              "    }\n",
              "\n",
              "    [theme=dark] .colab-df-convert {\n",
              "      background-color: #3B4455;\n",
              "      fill: #D2E3FC;\n",
              "    }\n",
              "\n",
              "    [theme=dark] .colab-df-convert:hover {\n",
              "      background-color: #434B5C;\n",
              "      box-shadow: 0px 1px 3px 1px rgba(0, 0, 0, 0.15);\n",
              "      filter: drop-shadow(0px 1px 2px rgba(0, 0, 0, 0.3));\n",
              "      fill: #FFFFFF;\n",
              "    }\n",
              "  </style>\n",
              "\n",
              "      <script>\n",
              "        const buttonEl =\n",
              "          document.querySelector('#df-710b7bcf-725c-4e80-978b-c5a7977e1ae5 button.colab-df-convert');\n",
              "        buttonEl.style.display =\n",
              "          google.colab.kernel.accessAllowed ? 'block' : 'none';\n",
              "\n",
              "        async function convertToInteractive(key) {\n",
              "          const element = document.querySelector('#df-710b7bcf-725c-4e80-978b-c5a7977e1ae5');\n",
              "          const dataTable =\n",
              "            await google.colab.kernel.invokeFunction('convertToInteractive',\n",
              "                                                     [key], {});\n",
              "          if (!dataTable) return;\n",
              "\n",
              "          const docLinkHtml = 'Like what you see? Visit the ' +\n",
              "            '<a target=\"_blank\" href=https://colab.research.google.com/notebooks/data_table.ipynb>data table notebook</a>'\n",
              "            + ' to learn more about interactive tables.';\n",
              "          element.innerHTML = '';\n",
              "          dataTable['output_type'] = 'display_data';\n",
              "          await google.colab.output.renderOutput(dataTable, element);\n",
              "          const docLink = document.createElement('div');\n",
              "          docLink.innerHTML = docLinkHtml;\n",
              "          element.appendChild(docLink);\n",
              "        }\n",
              "      </script>\n",
              "    </div>\n",
              "  </div>\n",
              "  "
            ]
          },
          "metadata": {},
          "execution_count": 104
        }
      ]
    },
    {
      "cell_type": "code",
      "source": [
        "result.columns = ['Texts', 'Sentiment']"
      ],
      "metadata": {
        "id": "ciNlUTTfVmKv"
      },
      "execution_count": 105,
      "outputs": []
    },
    {
      "cell_type": "code",
      "source": [
        "result.head()"
      ],
      "metadata": {
        "colab": {
          "base_uri": "https://localhost:8080/",
          "height": 204
        },
        "id": "QIgvno4HVsdS",
        "outputId": "2f279da6-bc09-48db-b053-986c5668799d"
      },
      "execution_count": 106,
      "outputs": [
        {
          "output_type": "execute_result",
          "data": {
            "text/plain": [
              "                                               Texts Sentiment\n",
              "0  Merrill Lynch analyst Campbell Morgan upgraded...  positive\n",
              "1  Eriikka S+Âderstr+Âm has previously held sever...   neutral\n",
              "2  The webcast may be followed online on the comp...   neutral\n",
              "3  Typical end-uses include roof structures , flo...   neutral\n",
              "4  The sale will be finalized in September or Oct...   neutral"
            ],
            "text/html": [
              "\n",
              "  <div id=\"df-43fe965e-bfc1-497f-be07-a1fd3a7c05bf\">\n",
              "    <div class=\"colab-df-container\">\n",
              "      <div>\n",
              "<style scoped>\n",
              "    .dataframe tbody tr th:only-of-type {\n",
              "        vertical-align: middle;\n",
              "    }\n",
              "\n",
              "    .dataframe tbody tr th {\n",
              "        vertical-align: top;\n",
              "    }\n",
              "\n",
              "    .dataframe thead th {\n",
              "        text-align: right;\n",
              "    }\n",
              "</style>\n",
              "<table border=\"1\" class=\"dataframe\">\n",
              "  <thead>\n",
              "    <tr style=\"text-align: right;\">\n",
              "      <th></th>\n",
              "      <th>Texts</th>\n",
              "      <th>Sentiment</th>\n",
              "    </tr>\n",
              "  </thead>\n",
              "  <tbody>\n",
              "    <tr>\n",
              "      <th>0</th>\n",
              "      <td>Merrill Lynch analyst Campbell Morgan upgraded...</td>\n",
              "      <td>positive</td>\n",
              "    </tr>\n",
              "    <tr>\n",
              "      <th>1</th>\n",
              "      <td>Eriikka S+Âderstr+Âm has previously held sever...</td>\n",
              "      <td>neutral</td>\n",
              "    </tr>\n",
              "    <tr>\n",
              "      <th>2</th>\n",
              "      <td>The webcast may be followed online on the comp...</td>\n",
              "      <td>neutral</td>\n",
              "    </tr>\n",
              "    <tr>\n",
              "      <th>3</th>\n",
              "      <td>Typical end-uses include roof structures , flo...</td>\n",
              "      <td>neutral</td>\n",
              "    </tr>\n",
              "    <tr>\n",
              "      <th>4</th>\n",
              "      <td>The sale will be finalized in September or Oct...</td>\n",
              "      <td>neutral</td>\n",
              "    </tr>\n",
              "  </tbody>\n",
              "</table>\n",
              "</div>\n",
              "      <button class=\"colab-df-convert\" onclick=\"convertToInteractive('df-43fe965e-bfc1-497f-be07-a1fd3a7c05bf')\"\n",
              "              title=\"Convert this dataframe to an interactive table.\"\n",
              "              style=\"display:none;\">\n",
              "        \n",
              "  <svg xmlns=\"http://www.w3.org/2000/svg\" height=\"24px\"viewBox=\"0 0 24 24\"\n",
              "       width=\"24px\">\n",
              "    <path d=\"M0 0h24v24H0V0z\" fill=\"none\"/>\n",
              "    <path d=\"M18.56 5.44l.94 2.06.94-2.06 2.06-.94-2.06-.94-.94-2.06-.94 2.06-2.06.94zm-11 1L8.5 8.5l.94-2.06 2.06-.94-2.06-.94L8.5 2.5l-.94 2.06-2.06.94zm10 10l.94 2.06.94-2.06 2.06-.94-2.06-.94-.94-2.06-.94 2.06-2.06.94z\"/><path d=\"M17.41 7.96l-1.37-1.37c-.4-.4-.92-.59-1.43-.59-.52 0-1.04.2-1.43.59L10.3 9.45l-7.72 7.72c-.78.78-.78 2.05 0 2.83L4 21.41c.39.39.9.59 1.41.59.51 0 1.02-.2 1.41-.59l7.78-7.78 2.81-2.81c.8-.78.8-2.07 0-2.86zM5.41 20L4 18.59l7.72-7.72 1.47 1.35L5.41 20z\"/>\n",
              "  </svg>\n",
              "      </button>\n",
              "      \n",
              "  <style>\n",
              "    .colab-df-container {\n",
              "      display:flex;\n",
              "      flex-wrap:wrap;\n",
              "      gap: 12px;\n",
              "    }\n",
              "\n",
              "    .colab-df-convert {\n",
              "      background-color: #E8F0FE;\n",
              "      border: none;\n",
              "      border-radius: 50%;\n",
              "      cursor: pointer;\n",
              "      display: none;\n",
              "      fill: #1967D2;\n",
              "      height: 32px;\n",
              "      padding: 0 0 0 0;\n",
              "      width: 32px;\n",
              "    }\n",
              "\n",
              "    .colab-df-convert:hover {\n",
              "      background-color: #E2EBFA;\n",
              "      box-shadow: 0px 1px 2px rgba(60, 64, 67, 0.3), 0px 1px 3px 1px rgba(60, 64, 67, 0.15);\n",
              "      fill: #174EA6;\n",
              "    }\n",
              "\n",
              "    [theme=dark] .colab-df-convert {\n",
              "      background-color: #3B4455;\n",
              "      fill: #D2E3FC;\n",
              "    }\n",
              "\n",
              "    [theme=dark] .colab-df-convert:hover {\n",
              "      background-color: #434B5C;\n",
              "      box-shadow: 0px 1px 3px 1px rgba(0, 0, 0, 0.15);\n",
              "      filter: drop-shadow(0px 1px 2px rgba(0, 0, 0, 0.3));\n",
              "      fill: #FFFFFF;\n",
              "    }\n",
              "  </style>\n",
              "\n",
              "      <script>\n",
              "        const buttonEl =\n",
              "          document.querySelector('#df-43fe965e-bfc1-497f-be07-a1fd3a7c05bf button.colab-df-convert');\n",
              "        buttonEl.style.display =\n",
              "          google.colab.kernel.accessAllowed ? 'block' : 'none';\n",
              "\n",
              "        async function convertToInteractive(key) {\n",
              "          const element = document.querySelector('#df-43fe965e-bfc1-497f-be07-a1fd3a7c05bf');\n",
              "          const dataTable =\n",
              "            await google.colab.kernel.invokeFunction('convertToInteractive',\n",
              "                                                     [key], {});\n",
              "          if (!dataTable) return;\n",
              "\n",
              "          const docLinkHtml = 'Like what you see? Visit the ' +\n",
              "            '<a target=\"_blank\" href=https://colab.research.google.com/notebooks/data_table.ipynb>data table notebook</a>'\n",
              "            + ' to learn more about interactive tables.';\n",
              "          element.innerHTML = '';\n",
              "          dataTable['output_type'] = 'display_data';\n",
              "          await google.colab.output.renderOutput(dataTable, element);\n",
              "          const docLink = document.createElement('div');\n",
              "          docLink.innerHTML = docLinkHtml;\n",
              "          element.appendChild(docLink);\n",
              "        }\n",
              "      </script>\n",
              "    </div>\n",
              "  </div>\n",
              "  "
            ]
          },
          "metadata": {},
          "execution_count": 106
        }
      ]
    },
    {
      "cell_type": "code",
      "source": [
        "df = result.copy()"
      ],
      "metadata": {
        "id": "m5QdVORDVuf0"
      },
      "execution_count": 107,
      "outputs": []
    },
    {
      "cell_type": "code",
      "source": [
        "df.head()"
      ],
      "metadata": {
        "colab": {
          "base_uri": "https://localhost:8080/",
          "height": 204
        },
        "id": "EbRT_l-PVxIF",
        "outputId": "60acd127-0b86-4ac2-c649-8a34b938da95"
      },
      "execution_count": 108,
      "outputs": [
        {
          "output_type": "execute_result",
          "data": {
            "text/plain": [
              "                                               Texts Sentiment\n",
              "0  Merrill Lynch analyst Campbell Morgan upgraded...  positive\n",
              "1  Eriikka S+Âderstr+Âm has previously held sever...   neutral\n",
              "2  The webcast may be followed online on the comp...   neutral\n",
              "3  Typical end-uses include roof structures , flo...   neutral\n",
              "4  The sale will be finalized in September or Oct...   neutral"
            ],
            "text/html": [
              "\n",
              "  <div id=\"df-eb307076-2ac6-4eac-b4cc-3e639648a9ef\">\n",
              "    <div class=\"colab-df-container\">\n",
              "      <div>\n",
              "<style scoped>\n",
              "    .dataframe tbody tr th:only-of-type {\n",
              "        vertical-align: middle;\n",
              "    }\n",
              "\n",
              "    .dataframe tbody tr th {\n",
              "        vertical-align: top;\n",
              "    }\n",
              "\n",
              "    .dataframe thead th {\n",
              "        text-align: right;\n",
              "    }\n",
              "</style>\n",
              "<table border=\"1\" class=\"dataframe\">\n",
              "  <thead>\n",
              "    <tr style=\"text-align: right;\">\n",
              "      <th></th>\n",
              "      <th>Texts</th>\n",
              "      <th>Sentiment</th>\n",
              "    </tr>\n",
              "  </thead>\n",
              "  <tbody>\n",
              "    <tr>\n",
              "      <th>0</th>\n",
              "      <td>Merrill Lynch analyst Campbell Morgan upgraded...</td>\n",
              "      <td>positive</td>\n",
              "    </tr>\n",
              "    <tr>\n",
              "      <th>1</th>\n",
              "      <td>Eriikka S+Âderstr+Âm has previously held sever...</td>\n",
              "      <td>neutral</td>\n",
              "    </tr>\n",
              "    <tr>\n",
              "      <th>2</th>\n",
              "      <td>The webcast may be followed online on the comp...</td>\n",
              "      <td>neutral</td>\n",
              "    </tr>\n",
              "    <tr>\n",
              "      <th>3</th>\n",
              "      <td>Typical end-uses include roof structures , flo...</td>\n",
              "      <td>neutral</td>\n",
              "    </tr>\n",
              "    <tr>\n",
              "      <th>4</th>\n",
              "      <td>The sale will be finalized in September or Oct...</td>\n",
              "      <td>neutral</td>\n",
              "    </tr>\n",
              "  </tbody>\n",
              "</table>\n",
              "</div>\n",
              "      <button class=\"colab-df-convert\" onclick=\"convertToInteractive('df-eb307076-2ac6-4eac-b4cc-3e639648a9ef')\"\n",
              "              title=\"Convert this dataframe to an interactive table.\"\n",
              "              style=\"display:none;\">\n",
              "        \n",
              "  <svg xmlns=\"http://www.w3.org/2000/svg\" height=\"24px\"viewBox=\"0 0 24 24\"\n",
              "       width=\"24px\">\n",
              "    <path d=\"M0 0h24v24H0V0z\" fill=\"none\"/>\n",
              "    <path d=\"M18.56 5.44l.94 2.06.94-2.06 2.06-.94-2.06-.94-.94-2.06-.94 2.06-2.06.94zm-11 1L8.5 8.5l.94-2.06 2.06-.94-2.06-.94L8.5 2.5l-.94 2.06-2.06.94zm10 10l.94 2.06.94-2.06 2.06-.94-2.06-.94-.94-2.06-.94 2.06-2.06.94z\"/><path d=\"M17.41 7.96l-1.37-1.37c-.4-.4-.92-.59-1.43-.59-.52 0-1.04.2-1.43.59L10.3 9.45l-7.72 7.72c-.78.78-.78 2.05 0 2.83L4 21.41c.39.39.9.59 1.41.59.51 0 1.02-.2 1.41-.59l7.78-7.78 2.81-2.81c.8-.78.8-2.07 0-2.86zM5.41 20L4 18.59l7.72-7.72 1.47 1.35L5.41 20z\"/>\n",
              "  </svg>\n",
              "      </button>\n",
              "      \n",
              "  <style>\n",
              "    .colab-df-container {\n",
              "      display:flex;\n",
              "      flex-wrap:wrap;\n",
              "      gap: 12px;\n",
              "    }\n",
              "\n",
              "    .colab-df-convert {\n",
              "      background-color: #E8F0FE;\n",
              "      border: none;\n",
              "      border-radius: 50%;\n",
              "      cursor: pointer;\n",
              "      display: none;\n",
              "      fill: #1967D2;\n",
              "      height: 32px;\n",
              "      padding: 0 0 0 0;\n",
              "      width: 32px;\n",
              "    }\n",
              "\n",
              "    .colab-df-convert:hover {\n",
              "      background-color: #E2EBFA;\n",
              "      box-shadow: 0px 1px 2px rgba(60, 64, 67, 0.3), 0px 1px 3px 1px rgba(60, 64, 67, 0.15);\n",
              "      fill: #174EA6;\n",
              "    }\n",
              "\n",
              "    [theme=dark] .colab-df-convert {\n",
              "      background-color: #3B4455;\n",
              "      fill: #D2E3FC;\n",
              "    }\n",
              "\n",
              "    [theme=dark] .colab-df-convert:hover {\n",
              "      background-color: #434B5C;\n",
              "      box-shadow: 0px 1px 3px 1px rgba(0, 0, 0, 0.15);\n",
              "      filter: drop-shadow(0px 1px 2px rgba(0, 0, 0, 0.3));\n",
              "      fill: #FFFFFF;\n",
              "    }\n",
              "  </style>\n",
              "\n",
              "      <script>\n",
              "        const buttonEl =\n",
              "          document.querySelector('#df-eb307076-2ac6-4eac-b4cc-3e639648a9ef button.colab-df-convert');\n",
              "        buttonEl.style.display =\n",
              "          google.colab.kernel.accessAllowed ? 'block' : 'none';\n",
              "\n",
              "        async function convertToInteractive(key) {\n",
              "          const element = document.querySelector('#df-eb307076-2ac6-4eac-b4cc-3e639648a9ef');\n",
              "          const dataTable =\n",
              "            await google.colab.kernel.invokeFunction('convertToInteractive',\n",
              "                                                     [key], {});\n",
              "          if (!dataTable) return;\n",
              "\n",
              "          const docLinkHtml = 'Like what you see? Visit the ' +\n",
              "            '<a target=\"_blank\" href=https://colab.research.google.com/notebooks/data_table.ipynb>data table notebook</a>'\n",
              "            + ' to learn more about interactive tables.';\n",
              "          element.innerHTML = '';\n",
              "          dataTable['output_type'] = 'display_data';\n",
              "          await google.colab.output.renderOutput(dataTable, element);\n",
              "          const docLink = document.createElement('div');\n",
              "          docLink.innerHTML = docLinkHtml;\n",
              "          element.appendChild(docLink);\n",
              "        }\n",
              "      </script>\n",
              "    </div>\n",
              "  </div>\n",
              "  "
            ]
          },
          "metadata": {},
          "execution_count": 108
        }
      ]
    },
    {
      "cell_type": "code",
      "source": [
        "# Importing LabelEncoder from Sklearn\n",
        "# library from preprocessing Module.\n",
        "from sklearn.preprocessing import LabelEncoder\n",
        " \n",
        "# Creating a instance of label Encoder.\n",
        "le = LabelEncoder()\n",
        " \n",
        "# Using .fit_transform function to fit label\n",
        "# encoder and return encoded label\n",
        "label = le.fit_transform(df['Sentiment'])\n",
        " \n",
        "# printing label\n",
        "label"
      ],
      "metadata": {
        "colab": {
          "base_uri": "https://localhost:8080/"
        },
        "id": "Y-uJMMzqV0IN",
        "outputId": "5100aaf1-488e-402f-a848-0862f82e7145"
      },
      "execution_count": 109,
      "outputs": [
        {
          "output_type": "execute_result",
          "data": {
            "text/plain": [
              "array([2, 1, 1, ..., 1, 1, 1])"
            ]
          },
          "metadata": {},
          "execution_count": 109
        }
      ]
    },
    {
      "cell_type": "code",
      "source": [
        "\n",
        "# removing the column 'Purchased' from df\n",
        "# as it is of no use now.\n",
        "# df.drop(\"Sentiment\", axis=1, inplace=True)\n",
        " \n",
        "# Appending the array to our dataFrame\n",
        "# with column name 'Purchased'\n",
        "df[\"Class\"] = label\n",
        "\n",
        "# removing special characters\n",
        "df = df.replace('\\*', ' ')\n",
        "df = df.replace('\\xc2', ' ', regex=True)\n",
        "df = df.replace('\\xf1', ' ', regex=True)\n",
        "df = df.replace('\\xc1', ' ', regex=True)\n",
        "df = df.replace('[^a-zA-Z]', ' ')\n",
        "# df = df.replace('\"+\"', ' ', regex=True)\n",
        "# df = df.replace('\"+\"', ' ', regex=True)\n",
        "\n",
        "# printing Dataframe\n",
        "df"
      ],
      "metadata": {
        "colab": {
          "base_uri": "https://localhost:8080/",
          "height": 419
        },
        "id": "YPjVEi46V48q",
        "outputId": "9b7b763a-9f26-456f-a713-131bead8c9d0"
      },
      "execution_count": 110,
      "outputs": [
        {
          "output_type": "execute_result",
          "data": {
            "text/plain": [
              "                                                  Texts Sentiment  Class\n",
              "0     Merrill Lynch analyst Campbell Morgan upgraded...  positive      2\n",
              "1     Eriikka S+ derstr+ m has previously held sever...   neutral      1\n",
              "2     The webcast may be followed online on the comp...   neutral      1\n",
              "3     Typical end-uses include roof structures , flo...   neutral      1\n",
              "4     The sale will be finalized in September or Oct...   neutral      1\n",
              "...                                                 ...       ...    ...\n",
              "1806  With this appointment Kaupthing Bank aims to f...  positive      2\n",
              "1807  Jon Risfelt has previously held operational ex...   neutral      1\n",
              "1808  The group intends to relocate warehouse and of...   neutral      1\n",
              "1809  The contract includes software licences , appl...   neutral      1\n",
              "1810  The contract covers the manufacturing , surfac...   neutral      1\n",
              "\n",
              "[1811 rows x 3 columns]"
            ],
            "text/html": [
              "\n",
              "  <div id=\"df-bf0d0410-2c07-4716-98db-3ef2d997baac\">\n",
              "    <div class=\"colab-df-container\">\n",
              "      <div>\n",
              "<style scoped>\n",
              "    .dataframe tbody tr th:only-of-type {\n",
              "        vertical-align: middle;\n",
              "    }\n",
              "\n",
              "    .dataframe tbody tr th {\n",
              "        vertical-align: top;\n",
              "    }\n",
              "\n",
              "    .dataframe thead th {\n",
              "        text-align: right;\n",
              "    }\n",
              "</style>\n",
              "<table border=\"1\" class=\"dataframe\">\n",
              "  <thead>\n",
              "    <tr style=\"text-align: right;\">\n",
              "      <th></th>\n",
              "      <th>Texts</th>\n",
              "      <th>Sentiment</th>\n",
              "      <th>Class</th>\n",
              "    </tr>\n",
              "  </thead>\n",
              "  <tbody>\n",
              "    <tr>\n",
              "      <th>0</th>\n",
              "      <td>Merrill Lynch analyst Campbell Morgan upgraded...</td>\n",
              "      <td>positive</td>\n",
              "      <td>2</td>\n",
              "    </tr>\n",
              "    <tr>\n",
              "      <th>1</th>\n",
              "      <td>Eriikka S+ derstr+ m has previously held sever...</td>\n",
              "      <td>neutral</td>\n",
              "      <td>1</td>\n",
              "    </tr>\n",
              "    <tr>\n",
              "      <th>2</th>\n",
              "      <td>The webcast may be followed online on the comp...</td>\n",
              "      <td>neutral</td>\n",
              "      <td>1</td>\n",
              "    </tr>\n",
              "    <tr>\n",
              "      <th>3</th>\n",
              "      <td>Typical end-uses include roof structures , flo...</td>\n",
              "      <td>neutral</td>\n",
              "      <td>1</td>\n",
              "    </tr>\n",
              "    <tr>\n",
              "      <th>4</th>\n",
              "      <td>The sale will be finalized in September or Oct...</td>\n",
              "      <td>neutral</td>\n",
              "      <td>1</td>\n",
              "    </tr>\n",
              "    <tr>\n",
              "      <th>...</th>\n",
              "      <td>...</td>\n",
              "      <td>...</td>\n",
              "      <td>...</td>\n",
              "    </tr>\n",
              "    <tr>\n",
              "      <th>1806</th>\n",
              "      <td>With this appointment Kaupthing Bank aims to f...</td>\n",
              "      <td>positive</td>\n",
              "      <td>2</td>\n",
              "    </tr>\n",
              "    <tr>\n",
              "      <th>1807</th>\n",
              "      <td>Jon Risfelt has previously held operational ex...</td>\n",
              "      <td>neutral</td>\n",
              "      <td>1</td>\n",
              "    </tr>\n",
              "    <tr>\n",
              "      <th>1808</th>\n",
              "      <td>The group intends to relocate warehouse and of...</td>\n",
              "      <td>neutral</td>\n",
              "      <td>1</td>\n",
              "    </tr>\n",
              "    <tr>\n",
              "      <th>1809</th>\n",
              "      <td>The contract includes software licences , appl...</td>\n",
              "      <td>neutral</td>\n",
              "      <td>1</td>\n",
              "    </tr>\n",
              "    <tr>\n",
              "      <th>1810</th>\n",
              "      <td>The contract covers the manufacturing , surfac...</td>\n",
              "      <td>neutral</td>\n",
              "      <td>1</td>\n",
              "    </tr>\n",
              "  </tbody>\n",
              "</table>\n",
              "<p>1811 rows × 3 columns</p>\n",
              "</div>\n",
              "      <button class=\"colab-df-convert\" onclick=\"convertToInteractive('df-bf0d0410-2c07-4716-98db-3ef2d997baac')\"\n",
              "              title=\"Convert this dataframe to an interactive table.\"\n",
              "              style=\"display:none;\">\n",
              "        \n",
              "  <svg xmlns=\"http://www.w3.org/2000/svg\" height=\"24px\"viewBox=\"0 0 24 24\"\n",
              "       width=\"24px\">\n",
              "    <path d=\"M0 0h24v24H0V0z\" fill=\"none\"/>\n",
              "    <path d=\"M18.56 5.44l.94 2.06.94-2.06 2.06-.94-2.06-.94-.94-2.06-.94 2.06-2.06.94zm-11 1L8.5 8.5l.94-2.06 2.06-.94-2.06-.94L8.5 2.5l-.94 2.06-2.06.94zm10 10l.94 2.06.94-2.06 2.06-.94-2.06-.94-.94-2.06-.94 2.06-2.06.94z\"/><path d=\"M17.41 7.96l-1.37-1.37c-.4-.4-.92-.59-1.43-.59-.52 0-1.04.2-1.43.59L10.3 9.45l-7.72 7.72c-.78.78-.78 2.05 0 2.83L4 21.41c.39.39.9.59 1.41.59.51 0 1.02-.2 1.41-.59l7.78-7.78 2.81-2.81c.8-.78.8-2.07 0-2.86zM5.41 20L4 18.59l7.72-7.72 1.47 1.35L5.41 20z\"/>\n",
              "  </svg>\n",
              "      </button>\n",
              "      \n",
              "  <style>\n",
              "    .colab-df-container {\n",
              "      display:flex;\n",
              "      flex-wrap:wrap;\n",
              "      gap: 12px;\n",
              "    }\n",
              "\n",
              "    .colab-df-convert {\n",
              "      background-color: #E8F0FE;\n",
              "      border: none;\n",
              "      border-radius: 50%;\n",
              "      cursor: pointer;\n",
              "      display: none;\n",
              "      fill: #1967D2;\n",
              "      height: 32px;\n",
              "      padding: 0 0 0 0;\n",
              "      width: 32px;\n",
              "    }\n",
              "\n",
              "    .colab-df-convert:hover {\n",
              "      background-color: #E2EBFA;\n",
              "      box-shadow: 0px 1px 2px rgba(60, 64, 67, 0.3), 0px 1px 3px 1px rgba(60, 64, 67, 0.15);\n",
              "      fill: #174EA6;\n",
              "    }\n",
              "\n",
              "    [theme=dark] .colab-df-convert {\n",
              "      background-color: #3B4455;\n",
              "      fill: #D2E3FC;\n",
              "    }\n",
              "\n",
              "    [theme=dark] .colab-df-convert:hover {\n",
              "      background-color: #434B5C;\n",
              "      box-shadow: 0px 1px 3px 1px rgba(0, 0, 0, 0.15);\n",
              "      filter: drop-shadow(0px 1px 2px rgba(0, 0, 0, 0.3));\n",
              "      fill: #FFFFFF;\n",
              "    }\n",
              "  </style>\n",
              "\n",
              "      <script>\n",
              "        const buttonEl =\n",
              "          document.querySelector('#df-bf0d0410-2c07-4716-98db-3ef2d997baac button.colab-df-convert');\n",
              "        buttonEl.style.display =\n",
              "          google.colab.kernel.accessAllowed ? 'block' : 'none';\n",
              "\n",
              "        async function convertToInteractive(key) {\n",
              "          const element = document.querySelector('#df-bf0d0410-2c07-4716-98db-3ef2d997baac');\n",
              "          const dataTable =\n",
              "            await google.colab.kernel.invokeFunction('convertToInteractive',\n",
              "                                                     [key], {});\n",
              "          if (!dataTable) return;\n",
              "\n",
              "          const docLinkHtml = 'Like what you see? Visit the ' +\n",
              "            '<a target=\"_blank\" href=https://colab.research.google.com/notebooks/data_table.ipynb>data table notebook</a>'\n",
              "            + ' to learn more about interactive tables.';\n",
              "          element.innerHTML = '';\n",
              "          dataTable['output_type'] = 'display_data';\n",
              "          await google.colab.output.renderOutput(dataTable, element);\n",
              "          const docLink = document.createElement('div');\n",
              "          docLink.innerHTML = docLinkHtml;\n",
              "          element.appendChild(docLink);\n",
              "        }\n",
              "      </script>\n",
              "    </div>\n",
              "  </div>\n",
              "  "
            ]
          },
          "metadata": {},
          "execution_count": 110
        }
      ]
    },
    {
      "cell_type": "code",
      "source": [
        "max_len = int(df['Texts'].str.len().max())"
      ],
      "metadata": {
        "id": "LhfTZoMaWrnU"
      },
      "execution_count": 111,
      "outputs": []
    },
    {
      "cell_type": "code",
      "source": [
        "max_len"
      ],
      "metadata": {
        "colab": {
          "base_uri": "https://localhost:8080/"
        },
        "id": "bc9wOATEWwtH",
        "outputId": "0ece9e28-539e-4b4e-ccf7-07a26d6577dc"
      },
      "execution_count": 112,
      "outputs": [
        {
          "output_type": "execute_result",
          "data": {
            "text/plain": [
              "315"
            ]
          },
          "metadata": {},
          "execution_count": 112
        }
      ]
    },
    {
      "cell_type": "code",
      "source": [
        "df[\"Texts\"]= df[\"Texts\"].str.pad(301, side ='both')"
      ],
      "metadata": {
        "id": "1oBFI4vsWy3Z"
      },
      "execution_count": 113,
      "outputs": []
    },
    {
      "cell_type": "code",
      "source": [
        "df['Class'].unique()\n",
        "\n",
        "#1 for neutral\n",
        "#2 for positive\n",
        "#0 for negative"
      ],
      "metadata": {
        "colab": {
          "base_uri": "https://localhost:8080/"
        },
        "id": "WFjNuC2OW1kD",
        "outputId": "56558896-19f6-448b-fb98-c864bf6eb89f"
      },
      "execution_count": 114,
      "outputs": [
        {
          "output_type": "execute_result",
          "data": {
            "text/plain": [
              "array([2, 1, 0])"
            ]
          },
          "metadata": {},
          "execution_count": 114
        }
      ]
    },
    {
      "cell_type": "code",
      "source": [
        "df = df.dropna()"
      ],
      "metadata": {
        "id": "y_C215wCXDTL"
      },
      "execution_count": 115,
      "outputs": []
    },
    {
      "cell_type": "code",
      "source": [
        "df.rename(columns = {'Texts':'text', 'Class':'target'}, inplace = True)"
      ],
      "metadata": {
        "id": "KjR0OW3oXKuA"
      },
      "execution_count": 116,
      "outputs": []
    },
    {
      "cell_type": "code",
      "source": [
        "df.head()"
      ],
      "metadata": {
        "colab": {
          "base_uri": "https://localhost:8080/",
          "height": 204
        },
        "id": "8c9JU5c4Xp-a",
        "outputId": "959c4291-f818-4422-8e04-06e5c0595832"
      },
      "execution_count": 117,
      "outputs": [
        {
          "output_type": "execute_result",
          "data": {
            "text/plain": [
              "                                                text Sentiment  target\n",
              "0                                                ...  positive       2\n",
              "1                                          Eriikk...   neutral       1\n",
              "2                                                ...   neutral       1\n",
              "3                              Typical end-uses i...   neutral       1\n",
              "4                                                ...   neutral       1"
            ],
            "text/html": [
              "\n",
              "  <div id=\"df-beeda1e6-e41a-4f37-9e55-0665c5507e0f\">\n",
              "    <div class=\"colab-df-container\">\n",
              "      <div>\n",
              "<style scoped>\n",
              "    .dataframe tbody tr th:only-of-type {\n",
              "        vertical-align: middle;\n",
              "    }\n",
              "\n",
              "    .dataframe tbody tr th {\n",
              "        vertical-align: top;\n",
              "    }\n",
              "\n",
              "    .dataframe thead th {\n",
              "        text-align: right;\n",
              "    }\n",
              "</style>\n",
              "<table border=\"1\" class=\"dataframe\">\n",
              "  <thead>\n",
              "    <tr style=\"text-align: right;\">\n",
              "      <th></th>\n",
              "      <th>text</th>\n",
              "      <th>Sentiment</th>\n",
              "      <th>target</th>\n",
              "    </tr>\n",
              "  </thead>\n",
              "  <tbody>\n",
              "    <tr>\n",
              "      <th>0</th>\n",
              "      <td>...</td>\n",
              "      <td>positive</td>\n",
              "      <td>2</td>\n",
              "    </tr>\n",
              "    <tr>\n",
              "      <th>1</th>\n",
              "      <td>Eriikk...</td>\n",
              "      <td>neutral</td>\n",
              "      <td>1</td>\n",
              "    </tr>\n",
              "    <tr>\n",
              "      <th>2</th>\n",
              "      <td>...</td>\n",
              "      <td>neutral</td>\n",
              "      <td>1</td>\n",
              "    </tr>\n",
              "    <tr>\n",
              "      <th>3</th>\n",
              "      <td>Typical end-uses i...</td>\n",
              "      <td>neutral</td>\n",
              "      <td>1</td>\n",
              "    </tr>\n",
              "    <tr>\n",
              "      <th>4</th>\n",
              "      <td>...</td>\n",
              "      <td>neutral</td>\n",
              "      <td>1</td>\n",
              "    </tr>\n",
              "  </tbody>\n",
              "</table>\n",
              "</div>\n",
              "      <button class=\"colab-df-convert\" onclick=\"convertToInteractive('df-beeda1e6-e41a-4f37-9e55-0665c5507e0f')\"\n",
              "              title=\"Convert this dataframe to an interactive table.\"\n",
              "              style=\"display:none;\">\n",
              "        \n",
              "  <svg xmlns=\"http://www.w3.org/2000/svg\" height=\"24px\"viewBox=\"0 0 24 24\"\n",
              "       width=\"24px\">\n",
              "    <path d=\"M0 0h24v24H0V0z\" fill=\"none\"/>\n",
              "    <path d=\"M18.56 5.44l.94 2.06.94-2.06 2.06-.94-2.06-.94-.94-2.06-.94 2.06-2.06.94zm-11 1L8.5 8.5l.94-2.06 2.06-.94-2.06-.94L8.5 2.5l-.94 2.06-2.06.94zm10 10l.94 2.06.94-2.06 2.06-.94-2.06-.94-.94-2.06-.94 2.06-2.06.94z\"/><path d=\"M17.41 7.96l-1.37-1.37c-.4-.4-.92-.59-1.43-.59-.52 0-1.04.2-1.43.59L10.3 9.45l-7.72 7.72c-.78.78-.78 2.05 0 2.83L4 21.41c.39.39.9.59 1.41.59.51 0 1.02-.2 1.41-.59l7.78-7.78 2.81-2.81c.8-.78.8-2.07 0-2.86zM5.41 20L4 18.59l7.72-7.72 1.47 1.35L5.41 20z\"/>\n",
              "  </svg>\n",
              "      </button>\n",
              "      \n",
              "  <style>\n",
              "    .colab-df-container {\n",
              "      display:flex;\n",
              "      flex-wrap:wrap;\n",
              "      gap: 12px;\n",
              "    }\n",
              "\n",
              "    .colab-df-convert {\n",
              "      background-color: #E8F0FE;\n",
              "      border: none;\n",
              "      border-radius: 50%;\n",
              "      cursor: pointer;\n",
              "      display: none;\n",
              "      fill: #1967D2;\n",
              "      height: 32px;\n",
              "      padding: 0 0 0 0;\n",
              "      width: 32px;\n",
              "    }\n",
              "\n",
              "    .colab-df-convert:hover {\n",
              "      background-color: #E2EBFA;\n",
              "      box-shadow: 0px 1px 2px rgba(60, 64, 67, 0.3), 0px 1px 3px 1px rgba(60, 64, 67, 0.15);\n",
              "      fill: #174EA6;\n",
              "    }\n",
              "\n",
              "    [theme=dark] .colab-df-convert {\n",
              "      background-color: #3B4455;\n",
              "      fill: #D2E3FC;\n",
              "    }\n",
              "\n",
              "    [theme=dark] .colab-df-convert:hover {\n",
              "      background-color: #434B5C;\n",
              "      box-shadow: 0px 1px 3px 1px rgba(0, 0, 0, 0.15);\n",
              "      filter: drop-shadow(0px 1px 2px rgba(0, 0, 0, 0.3));\n",
              "      fill: #FFFFFF;\n",
              "    }\n",
              "  </style>\n",
              "\n",
              "      <script>\n",
              "        const buttonEl =\n",
              "          document.querySelector('#df-beeda1e6-e41a-4f37-9e55-0665c5507e0f button.colab-df-convert');\n",
              "        buttonEl.style.display =\n",
              "          google.colab.kernel.accessAllowed ? 'block' : 'none';\n",
              "\n",
              "        async function convertToInteractive(key) {\n",
              "          const element = document.querySelector('#df-beeda1e6-e41a-4f37-9e55-0665c5507e0f');\n",
              "          const dataTable =\n",
              "            await google.colab.kernel.invokeFunction('convertToInteractive',\n",
              "                                                     [key], {});\n",
              "          if (!dataTable) return;\n",
              "\n",
              "          const docLinkHtml = 'Like what you see? Visit the ' +\n",
              "            '<a target=\"_blank\" href=https://colab.research.google.com/notebooks/data_table.ipynb>data table notebook</a>'\n",
              "            + ' to learn more about interactive tables.';\n",
              "          element.innerHTML = '';\n",
              "          dataTable['output_type'] = 'display_data';\n",
              "          await google.colab.output.renderOutput(dataTable, element);\n",
              "          const docLink = document.createElement('div');\n",
              "          docLink.innerHTML = docLinkHtml;\n",
              "          element.appendChild(docLink);\n",
              "        }\n",
              "      </script>\n",
              "    </div>\n",
              "  </div>\n",
              "  "
            ]
          },
          "metadata": {},
          "execution_count": 117
        }
      ]
    },
    {
      "cell_type": "code",
      "source": [
        "from keras.utils import to_categorical"
      ],
      "metadata": {
        "id": "7wSVH9qyxRSI"
      },
      "execution_count": 118,
      "outputs": []
    },
    {
      "cell_type": "code",
      "source": [
        "one_hot_encode = to_categorical(df.target)\n",
        "print(one_hot_encode)\n",
        "y = one_hot_encode"
      ],
      "metadata": {
        "colab": {
          "base_uri": "https://localhost:8080/"
        },
        "id": "_pSiVcpzT548",
        "outputId": "50953b5c-37a1-48aa-e7a3-3c2f54ee2674"
      },
      "execution_count": 119,
      "outputs": [
        {
          "output_type": "stream",
          "name": "stdout",
          "text": [
            "[[0. 0. 1.]\n",
            " [0. 1. 0.]\n",
            " [0. 1. 0.]\n",
            " ...\n",
            " [0. 1. 0.]\n",
            " [0. 1. 0.]\n",
            " [0. 1. 0.]]\n"
          ]
        }
      ]
    },
    {
      "cell_type": "code",
      "source": [
        "class TransformerBlock(Layer):\n",
        "    def __init__(self, embed_dim, num_heads, ff_dim, rate=0.1):\n",
        "        super(TransformerBlock, self).__init__()\n",
        "        self.att = MultiHeadAttention(num_heads=num_heads, key_dim=embed_dim)\n",
        "        self.ffn = Sequential(\n",
        "            [Dense(ff_dim, activation=\"relu\"), \n",
        "             Dense(embed_dim),]\n",
        "        )\n",
        "        self.layernorm1 = LayerNormalization(epsilon=1e-6)\n",
        "        self.layernorm2 = LayerNormalization(epsilon=1e-6)\n",
        "        self.dropout1 = Dropout(rate)\n",
        "        self.dropout2 = Dropout(rate)\n",
        "        self.embed_dim = embed_dim\n",
        "        self.num_heads = num_heads\n",
        "        self.ff_dim = ff_dim\n",
        "        self.rate = rate\n",
        "\n",
        "    def call(self, inputs, training):\n",
        "        attn_output = self.att(inputs, inputs)\n",
        "        attn_output = self.dropout1(attn_output, training=training)\n",
        "        out1 = self.layernorm1(inputs + attn_output)\n",
        "        ffn_output = self.ffn(out1)\n",
        "        ffn_output = self.dropout2(ffn_output, training=training)\n",
        "        return self.layernorm2(out1 + ffn_output)\n",
        "\n",
        "    def get_config(self):\n",
        "      config = super().get_config().copy()\n",
        "      config.update({'embed_dim': self.embed_dim, 'num_heads': self.num_heads, 'ff_dim': self.ff_dim, 'rate': self.rate})\n",
        "      return config"
      ],
      "metadata": {
        "id": "BoFJ7M9pSrVm"
      },
      "execution_count": 120,
      "outputs": []
    },
    {
      "cell_type": "code",
      "source": [
        "class TokenAndPositionEmbedding(Layer):\n",
        "    def __init__(self, maxlen, vocab_size, embed_dim):\n",
        "        super(TokenAndPositionEmbedding, self).__init__()\n",
        "        self.token_emb = Embedding(input_dim=vocab_size, output_dim=embed_dim)\n",
        "        self.pos_emb = Embedding(input_dim=maxlen, output_dim=embed_dim)\n",
        "        \n",
        "    def call(self, x):\n",
        "        maxlen = tf.shape(x)[-1]\n",
        "        positions = tf.range(start=0, limit=maxlen, delta=1)\n",
        "        positions = self.pos_emb(positions)\n",
        "        x = self.token_emb(x)\n",
        "        return x + positions"
      ],
      "metadata": {
        "id": "qD9uhKNSTIqp"
      },
      "execution_count": 121,
      "outputs": []
    },
    {
      "cell_type": "code",
      "source": [
        "vocab_size = 1900  # Only consider the top approx 2k words\n",
        "maxlen = 200  # Only consider the first 200 words of each movie review\n",
        "\n",
        "X = df.text\n",
        "\n",
        "# Split original dataframe into train and temp dataframes.\n",
        "df_train, df_test, y_train, y_test = train_test_split(X,\n",
        "                                                      y,\n",
        "                                                      stratify=y,\n",
        "                                                      test_size=(0.3))\n",
        "\n",
        "print(len(df_train), \"Training sequences\")\n",
        "print(len(df_test), \"Test sequences\")"
      ],
      "metadata": {
        "colab": {
          "base_uri": "https://localhost:8080/"
        },
        "id": "JhKwflpjTJNR",
        "outputId": "0bb21e6a-2b10-4d2b-8361-3d3640c85a01"
      },
      "execution_count": 122,
      "outputs": [
        {
          "output_type": "stream",
          "name": "stdout",
          "text": [
            "1267 Training sequences\n",
            "544 Test sequences\n"
          ]
        }
      ]
    },
    {
      "cell_type": "code",
      "source": [
        "vocab_size = 1900  # Only consider the top approx 2k words\n",
        "maxlen = 200  # Only consider the first 200 words of each movie review\n",
        "\n",
        "X = df.text\n",
        "\n",
        "# Split original dataframe into train and temp dataframes.\n",
        "df_train, df_test, y_train, y_test = train_test_split(X,\n",
        "                                                      y,\n",
        "                                                      stratify=y,\n",
        "                                                      test_size=(0.3))\n",
        "\n",
        "print(len(df_train), \"Training sequences\")\n",
        "print(len(df_test), \"Test sequences\")"
      ],
      "metadata": {
        "colab": {
          "base_uri": "https://localhost:8080/"
        },
        "id": "AaJp0lcKTMlr",
        "outputId": "84d13753-6bb2-4a6c-c40d-e2071b1fed2a"
      },
      "execution_count": 123,
      "outputs": [
        {
          "output_type": "stream",
          "name": "stdout",
          "text": [
            "1267 Training sequences\n",
            "544 Test sequences\n"
          ]
        }
      ]
    },
    {
      "cell_type": "code",
      "source": [
        "from keras.preprocessing.text import Tokenizer\n",
        "from collections import Counter\n",
        "\n",
        "def counter_func(string_input):\n",
        "  var1 = Counter()\n",
        "   \n",
        "  for line in string_input.values:\n",
        "    for word in line.split():\n",
        "      var1[word] += 1\n",
        "  return var1"
      ],
      "metadata": {
        "id": "kgJUmTjhzrQG"
      },
      "execution_count": 124,
      "outputs": []
    },
    {
      "cell_type": "code",
      "source": [
        "var2 = counter_func(df.text)"
      ],
      "metadata": {
        "id": "LET0WJAb1YTu"
      },
      "execution_count": 125,
      "outputs": []
    },
    {
      "cell_type": "code",
      "source": [
        "num_words = len(var2)\n",
        "max_len_vec = 0\n",
        "for line in df.text.values:\n",
        "  if (len(line.split()) > (max_len_vec)):\n",
        "    max_len_vec = len(line.split())\n",
        "  \n",
        "print(max_len_vec)"
      ],
      "metadata": {
        "colab": {
          "base_uri": "https://localhost:8080/"
        },
        "id": "vodwgB5g1mWn",
        "outputId": "0858485d-de71-4da9-dc69-9d1b8aa66d56"
      },
      "execution_count": 126,
      "outputs": [
        {
          "output_type": "stream",
          "name": "stdout",
          "text": [
            "81\n"
          ]
        }
      ]
    },
    {
      "cell_type": "code",
      "source": [
        "var3 = Tokenizer(num_words = num_words)\n",
        "var3.fit_on_texts(df_train)\n",
        "word_ind = var3.word_index\n",
        "\n",
        "df_train = var3.texts_to_sequences(df_train)\n",
        "df_test = var3.texts_to_sequences(df_test)\n",
        "\n",
        "print(df_train)"
      ],
      "metadata": {
        "id": "kNaU7OL02dmB",
        "colab": {
          "base_uri": "https://localhost:8080/"
        },
        "outputId": "fd58ff0e-9ded-448a-8e51-e3424ec01419"
      },
      "execution_count": 127,
      "outputs": [
        {
          "output_type": "stream",
          "name": "stdout",
          "text": [
            "[[25, 1005, 149, 126, 476, 63, 34, 16, 199, 90, 46, 56, 21, 20, 14, 72, 5, 1006, 30, 28, 52, 1979, 17, 28, 8, 1, 58, 179, 2, 46, 9, 647, 17, 28, 52, 1326, 17, 28, 8, 1, 102, 35, 2, 48], [1, 35, 11, 26, 477, 5, 6, 90, 42, 22, 9, 6, 555, 31, 22, 150, 5, 1, 478, 137, 358, 97], [804, 805, 648, 1980, 1981, 1007, 556, 1, 1982, 2, 806, 1983, 2, 1984, 1985, 212, 1, 1986, 1987, 4, 479, 1327, 16, 180, 649, 101, 1988, 1989, 1328, 11, 1990, 1991, 16, 807], [25, 272, 4, 1329, 200, 164, 405, 808, 63, 34, 16, 116, 40, 46, 56, 1, 1008, 26, 2, 21, 1330, 84, 157, 19, 809, 251, 23, 16, 23, 5, 31, 42, 28, 52, 24, 31, 28, 8, 1, 273, 38, 2, 48], [810, 811, 44, 130, 50, 64, 5, 130, 17, 3, 1, 359, 23, 35], [1992, 1993, 1994, 1995, 1996, 51, 73, 12, 406, 19, 557, 11, 1009, 1997, 1010, 21, 69, 54, 5, 138, 360, 71, 9, 252, 1011, 71, 18, 361, 26, 8, 1, 1998, 139, 650, 19, 151, 24, 71, 5, 213, 24, 22, 301], [480, 11, 54, 12, 1331, 16, 1, 812, 253, 85], [558, 88, 1332, 1999, 559, 4, 188, 407, 812, 253, 85, 302, 201, 558, 2000, 1333, 164, 1012, 1013, 111, 1334, 5, 408, 67, 2001, 4, 2002, 560, 2003], [91, 303, 12, 117, 61, 813, 2, 1014, 8, 254, 212, 1, 651, 1335, 98, 2004], [25, 131, 13, 362, 63, 34, 16, 409, 130, 48, 43, 255, 7, 304, 28, 52, 2005, 49, 28, 79, 5, 2006, 1, 81, 231, 202, 8, 363, 814, 13, 2007, 256, 410, 99], [25, 43, 164, 411, 815, 63, 103, 1336, 34, 97, 21, 1015, 5, 7, 20, 60, 2, 6, 2008, 57, 140, 816, 57, 3, 1, 92, 38, 2, 47, 9, 7, 14, 2, 6, 2009, 57, 3, 1, 68, 35, 7, 23, 104], [25, 1337, 4, 817, 165, 561, 1016, 11, 20, 26, 3, 562, 55, 76, 89, 5, 6, 2010, 17, 10, 3, 199, 112, 46, 64, 5, 6, 2011, 17, 10, 3, 1, 118, 38, 2, 48], [1, 2012, 2013, 1338, 41, 119, 3, 818, 364, 1, 232, 2, 112, 4, 21, 1017, 113, 652, 16, 7, 2014, 1018, 12, 3, 1339, 2, 61, 819, 2, 213, 57, 412, 7, 481], [166, 33, 14, 4, 20, 26, 8, 1, 203, 233, 35, 74, 365, 9, 820, 17, 36, 4, 2015, 24, 36, 18, 64, 5, 1, 68, 35, 3, 70], [8, 1019, 20, 26, 74, 19, 24, 50, 9, 1, 58, 38, 4, 1340, 74, 9, 7, 482, 6, 39, 30, 10, 3, 1, 58, 38, 2, 45], [305, 132, 563, 32, 45, 25, 413, 181, 653, 165, 4, 164, 13, 654, 63, 103, 1020, 34, 97, 21, 20, 14, 89, 5, 6, 24, 24, 22, 140, 40, 30, 36, 8, 46, 9, 6, 50, 32, 22, 8, 1021], [2016, 121, 821, 75, 414, 1, 58, 2017, 8, 1, 2018, 40, 33, 274, 2019, 43, 204, 358, 1341, 104], [2020, 2021, 2022, 73, 12, 822, 19, 1, 182, 51, 306, 2023, 483, 2024, 307, 7, 42, 17, 71, 167, 3, 361, 26, 8, 116, 112, 5, 1342, 655, 22, 301], [29, 158, 2025, 15, 27, 366, 8, 51, 2026, 4, 1022, 4, 43], [25, 2027, 11, 20, 26, 89, 5, 6, 2028, 57, 3, 116, 205, 45], [2029, 2030, 12, 2031, 9, 1, 13, 4, 21, 302, 335], [1, 13, 2032, 34, 43, 15, 415, 21, 564, 16, 1343, 308], [1, 159, 122, 189, 336, 149, 4, 309, 2033, 1, 336, 79, 2, 1, 2034, 4, 234, 214, 1, 13, 34], [484, 823, 84, 3, 1344, 97, 215, 308, 181, 67, 12, 824, 5, 565, 7, 69, 566, 77, 1, 69, 8, 1345, 484, 823, 84, 3, 1344], [1, 183, 93, 54, 8, 1, 38, 416, 3, 29, 39, 138, 6, 65, 9, 1, 39, 114, 6, 2, 1, 102, 38, 7, 23, 104], [825, 367, 2035, 8, 1, 2036, 368, 18, 1346, 18, 31, 275, 2037, 7, 2038, 2039, 216, 368, 18, 1023, 18, 94, 98, 127], [19, 2040, 485, 567, 337, 15, 27, 1347, 5, 2041, 2042, 4, 1348, 2043, 338, 257], [166, 33, 14, 4, 26, 8, 1, 203, 233, 35, 74, 365, 9, 184, 31, 36, 4, 1024, 17, 36, 18, 64, 5, 1, 68, 35, 3, 70], [656, 86, 12, 557, 11, 417, 86, 37, 31, 24, 22, 123], [25, 1349, 476, 41, 1010, 21, 20, 26, 167, 826, 8, 66, 9, 168, 138, 5, 168, 258], [33, 2044, 3, 1, 179, 95, 39, 49, 36, 96, 9, 39, 50, 36, 18, 1350, 657, 3, 1, 827, 4, 1, 169, 418], [33, 14, 8, 1, 203, 233, 35, 74, 9, 276, 30, 36, 275, 277, 74, 9, 1351, 30, 36, 18, 64, 5, 1, 68, 35, 3, 70], [3, 1, 118, 38, 20, 26, 74, 19, 105, 23, 16, 23, 5, 2045, 24, 36, 98, 19, 42, 29, 658, 659, 486, 167], [369, 1, 568, 1, 13, 1352, 115, 487, 2, 160, 2046, 1, 569, 217, 2, 73, 59, 152, 5, 27, 2047, 91, 23], [259, 2048, 2049, 9, 106, 419, 218, 370, 371, 41, 339, 660, 2050, 26, 169, 4, 55, 133, 1025, 364, 1353], [278, 1, 13, 661, 21, 20, 14, 8, 1, 118, 38, 96, 5, 6, 17, 32, 22, 9, 6, 17, 24, 22, 8, 1, 68, 35, 2, 45], [372, 55, 1026, 111, 662, 1, 420, 5, 828, 4, 1027, 829, 3, 61, 488, 1028], [1, 82, 83, 2, 1, 79, 12, 160, 6, 49, 22], [25, 128, 51, 663, 63, 34, 21, 20, 14, 489, 65, 5, 49, 42, 28, 52, 108, 32, 28, 3, 664, 70, 1354, 665, 190, 235, 66, 9, 30, 49, 28, 52, 31, 40, 28, 3, 1, 102, 35, 2, 664, 141, 1029], [1355, 2051, 56, 1, 1030, 13, 2, 1355, 279, 2052, 2053, 2054, 564, 170, 570, 65, 21, 2055, 3, 666], [1, 107, 12, 667, 3, 668, 11, 273, 38, 48, 107, 2056], [2057, 362, 2058, 1356, 1357, 3, 490, 4, 21, 2059, 2060], [3, 1, 669, 830, 1, 2061, 142, 29, 2062, 15, 27, 421, 4, 1, 491, 15, 27, 2063, 5, 280, 11, 2064, 340, 3, 2065, 571, 4, 2066, 19, 1, 171, 2, 1, 58, 38, 2, 45], [1, 492, 373, 129, 304, 2, 1, 670, 11, 153], [2067, 2068, 15, 75, 341, 422, 366, 8, 2069, 4, 2070, 1358, 4, 671, 2071, 672, 2, 480, 88], [1, 2072, 59, 152, 5, 232, 3, 46], [25, 2073, 4, 1359, 84, 126, 572, 88, 34, 21, 20, 60, 493, 5, 17, 42, 28, 52, 30, 39, 28, 3, 1, 58, 134, 139, 2, 66, 9, 30, 124, 28, 52, 30, 40, 28, 3, 1, 102, 35, 2, 70], [805, 648, 5, 27, 1031, 494, 1, 2074, 2075, 65, 2076, 34], [3, 1, 58, 38, 2, 46, 2077, 11, 20, 26, 172, 6, 219, 39, 10, 4, 21, 33, 14, 6, 32, 40, 10], [1032, 2078, 2079, 1, 423, 573, 5, 2080, 37, 1, 2081, 274, 56, 44, 1033, 212, 818, 3, 190, 1, 254, 2, 2082, 1360, 2083, 1361, 135, 4, 1, 1034, 236, 831, 4, 2084, 73, 41, 255, 673, 9, 1, 85, 831, 1034], [33, 14, 574, 19, 124, 40, 5, 6, 40, 40, 10], [43, 12, 217, 2, 1, 133, 2, 1, 832, 1362, 1363, 2085, 29, 2086, 73, 41, 1, 1035, 1036, 8, 168, 90, 22, 2087, 424, 2, 115, 1037, 2, 1363, 168, 21, 281, 90, 23, 282], [1, 55, 575, 75, 122, 480, 11, 2088, 137], [25, 1038, 1039, 191, 13, 374, 63, 253, 85, 1364, 34, 16, 674, 154, 112, 56, 43, 15, 2089, 2090, 3, 21, 2091, 1039, 55, 283, 45], [1, 137, 495, 1365, 155, 220, 833, 375, 4, 1040, 675, 496, 221, 18, 834, 1366, 88, 310, 88, 310, 676, 260, 1367, 1368, 84, 260, 677, 173, 51, 1369, 678, 260, 1, 1370, 1371, 1372, 13, 4, 1373, 51, 260], [25, 679, 1374, 56, 1375, 2092, 4, 2093, 165, 4, 340, 12, 2094, 21, 576, 5, 1376, 1374], [2095, 34, 1, 54, 44, 2096, 1377, 19, 1041, 2097, 77, 7, 1378, 425, 2, 1379, 50, 426, 140, 93, 2098, 8, 1, 38, 4, 1, 577, 2, 21, 376, 142, 73, 661, 811, 573, 5, 24, 28, 6, 9, 114, 28, 6, 7, 23, 2099, 7, 427, 3, 578, 4, 2100, 486], [1, 13, 377, 7, 14, 2, 1042, 57, 52, 17, 30, 28, 16, 1, 254, 2, 21, 2101, 1043, 2102, 51, 4, 7, 60, 2, 1044, 57, 52, 2103, 57, 1045, 19, 1, 254, 2, 21, 342, 113, 428, 99, 1380, 1046, 378], [3, 237, 429, 26, 238, 5, 2104, 17, 36, 7, 835, 2, 17, 17], [43, 12, 836, 2105, 2106, 37, 256, 151, 39, 2107, 4, 12, 2108, 311, 19, 2109, 1381, 9, 837, 5, 2110, 2, 1, 838, 680], [166, 33, 14, 4, 239, 8, 1, 430, 233, 35, 74, 365, 9, 2111, 42, 36, 4, 2112, 50, 36, 18, 64, 5, 1, 68, 35, 3, 48], [43, 15, 75, 1047, 280, 11, 1048, 55], [3, 48, 497, 15, 681, 203, 478, 206, 682, 116, 205, 16, 431, 284, 143, 48, 1382, 143, 240, 16, 431, 114, 199, 48, 2113, 199, 112, 16, 431, 498, 190, 48], [494, 2114, 3, 1, 2115, 1049, 2116, 2117, 18, 432, 1383], [343, 683, 11, 20, 14, 8, 1, 499, 47, 477, 5, 6, 433, 22, 9, 6, 684, 22, 8, 45], [685, 2118, 1, 686, 12, 687, 5, 129, 114, 688], [1, 83, 2, 1, 107, 12, 6, 30, 24, 10], [1, 1384, 1385, 12, 2119, 161, 2120, 12, 839, 2121, 101], [1, 82, 434, 379, 59, 152, 5, 27, 77, 6, 1050, 2, 73, 6, 130, 24, 10, 44, 2122, 3, 312, 46], [7, 689, 2, 2123, 2124, 81, 62, 216, 380, 27, 435, 8, 19, 1386, 840, 579, 192, 1, 141, 109, 436, 686], [1051, 690, 7, 380, 24, 2, 1, 13, 369, 128, 437, 381, 437, 841, 6, 17, 39, 140, 17, 1387], [2125, 842, 46, 33, 14, 96, 1388, 1388, 580, 19, 85, 2126, 2127, 843, 313], [2128, 2129, 1, 691, 1389, 8, 2130, 149, 438, 476, 255, 1, 344, 23, 159, 73, 1390, 1052, 439, 4, 1385, 2131, 678], [53, 11, 1053, 12, 1054, 5, 1391, 1, 58, 575, 2, 7, 2132, 16, 2133, 3, 581, 582, 29, 1, 171, 2, 46, 2134, 2135, 1392, 559, 2, 1053, 1055, 2136, 3, 85], [1, 1393, 2, 1, 335, 5, 2137, 259, 2138, 2139, 5, 1, 144, 12, 145, 16, 314, 311, 4, 2140, 692, 4, 1394, 2, 189, 1395, 309, 5, 222], [1, 500, 11, 67, 185, 1396, 261, 1397, 2141, 583, 261, 2142, 2143, 207, 86, 4, 2144, 67], [1, 82, 262, 2, 315, 223, 12, 1011, 2145, 1398], [501, 201, 88, 440, 303, 205, 138, 47, 1399, 1400, 2146, 1401, 584, 1056, 1, 55, 76, 2, 1399, 693, 1401, 99, 15, 27, 694, 5, 585, 1402, 99], [695, 170, 415, 16, 1, 133, 1403, 4, 441, 2, 1057, 84, 8, 113, 696], [1404, 2147, 2148, 36, 382, 2, 2149, 67, 29, 442, 41, 697, 56, 100, 181, 241, 16, 1, 442, 257, 3, 208, 15, 443, 698, 2150, 5, 1021, 57, 2151, 19, 2152], [1, 2153, 167, 44, 1, 174, 2, 1, 1405, 2, 586, 285, 2154, 3, 1, 51, 3, 312, 48], [43, 316, 192, 203, 2155, 676, 651, 1058, 69, 1406, 4, 651, 2156], [146, 162, 587, 844, 2157, 3, 1, 203, 2158, 283, 317, 139, 95, 2159, 19, 1, 1407, 274, 4, 21, 134, 588, 2160], [1, 153, 2, 1, 94, 57, 2161, 2162, 83, 1059, 44, 2163, 502, 1408, 3, 1, 1409, 503], [1, 286, 845, 122, 2164, 2165, 1410, 1411, 4, 2166, 8, 1019], [26, 19, 2167, 2168, 19, 42, 93, 846], [1, 490, 1412, 345, 2169, 2170, 44, 1, 58, 1412, 274, 3, 383, 5, 1413, 2171, 699, 2172, 37, 7, 81, 556, 2, 2173, 1060, 3, 1414], [1, 26, 2, 1, 847, 444, 193, 19, 32, 39, 23, 16, 23, 5, 1061, 31, 36, 3, 240, 47], [1062, 11, 20, 26, 170, 27, 589, 162, 1, 23, 161], [700, 11, 848, 62, 97, 650, 701, 384, 1415, 98, 17, 40, 18, 1, 69, 2174], [1416, 263, 345, 1416, 346, 385, 146, 162, 17, 57, 4, 41, 7, 849, 590, 2, 445, 4, 61, 115, 2175, 591, 2, 146, 162, 384, 57, 412], [25, 1063, 4, 261, 51, 1064, 2176, 15, 1417, 7, 850, 1418, 2177, 18, 2, 1, 1065, 2, 48, 29, 1, 13, 11, 203, 851], [504, 59, 1419, 505, 313, 8, 852, 51, 192, 1066, 580, 853], [337, 1067, 386, 59, 160, 2, 242, 347, 287, 318, 386, 101], [1, 93, 54, 348, 153, 2, 1, 62, 435, 37, 1, 436, 223, 44, 6, 17, 258], [446, 1, 13, 1420, 21, 33, 14, 5, 1068, 168, 1, 102, 35], [278, 1, 13, 661, 21, 20, 14, 8, 1, 118, 38, 96, 5, 276, 32, 36, 9, 276, 24, 36, 8, 1, 68, 35, 2, 45], [1, 83, 2, 1, 288, 12, 77, 6, 2178], [854, 15, 75, 506, 65, 234, 855, 854, 592, 18, 4, 854, 447, 260], [33, 14, 172, 6, 17, 243, 10, 96, 9, 6, 31, 1069, 10, 3, 1, 58, 38, 2, 46], [1421, 1070, 1422, 8, 2179, 4, 2180, 18, 80, 18, 7, 845, 2, 110, 1423, 856, 4, 289, 439, 67], [1, 13, 12, 75, 2181, 2182, 5, 1071, 1, 2183, 1072, 160, 219, 287, 5, 110, 702, 1424], [1, 2184, 44, 75, 2185, 29, 703, 1, 155, 146, 1425, 4, 1073], [1, 149, 15, 27, 448, 29, 1074, 11, 224, 3, 1426, 3, 53, 4, 387, 12, 507, 8, 1, 58, 38, 2, 45], [1, 13, 11, 107, 1427, 593, 29, 17, 24, 1428, 52, 30, 30, 1428, 16, 112, 90, 48, 65, 19, 449, 30, 251, 16, 1, 23, 37, 319, 288, 1429, 5, 2186, 28, 52, 1430, 31, 28], [36, 256, 73, 12, 217, 2, 25, 186, 126, 1431, 51, 12, 450, 5, 303, 21, 92, 38, 137, 29, 264, 105, 451, 508, 16, 24, 509, 47], [25, 594, 704, 452, 103, 2187, 34, 453, 43, 204, 1432, 2188, 1433, 1434, 4, 2189, 857, 1435, 18, 1075, 2190, 2, 21, 858, 503, 2, 1076, 2191, 290, 65, 5, 2192, 2193], [2194, 16, 1, 159, 2195, 2196, 2197, 2, 441, 286, 133, 29, 2198, 34], [91, 81, 1436, 225, 2199, 7, 423, 2200, 8, 166, 1437], [320, 86, 11, 69, 54, 2, 1077, 44, 130, 42, 96, 9, 151, 32, 3, 1, 58, 38, 2, 46], [3, 1, 306, 321, 26, 193, 19, 213, 30, 4, 3, 147, 19, 252, 30, 3, 510, 2, 194, 4, 19, 94, 40, 3, 510, 2, 363, 659], [705, 2201, 135, 12, 1, 2202, 2203, 2204, 150, 5, 1, 1438, 2205, 135, 3, 1, 859, 706, 2206, 1078, 2, 1, 860, 2207, 1079, 1438], [3, 45, 2208, 2209, 204, 7, 291, 115, 113, 591, 2, 1080, 5, 32, 24, 22, 412, 2, 186, 4, 1081, 57, 412, 2, 707], [2210, 2211, 12, 145, 3, 1, 2212, 708, 2, 1, 861, 217, 2, 1, 388, 2, 454, 861, 53], [1, 202, 15, 1082, 8, 1019, 2213, 99, 11, 1439, 1083, 18, 80, 18, 110, 155, 5, 27, 265, 862, 389, 2214, 2215, 511, 2, 1053, 76, 3, 1439], [3, 682, 2216, 195, 143, 47, 25, 863, 491, 4, 149, 126, 1084, 63, 103, 2217, 34, 97, 56, 43, 292, 5, 2218, 5, 7, 20, 14, 2, 160, 1440, 31, 36, 3, 1, 58, 38, 2, 47, 9, 61, 2219, 42, 36, 60, 7, 23, 104], [700, 1441, 54, 226, 665, 709, 3, 700, 807, 18, 7, 2220, 3, 86, 2221, 2222, 5, 1442, 2223, 2224, 8, 1, 1443, 384], [25, 1005, 149, 126, 710, 63, 34, 16, 190, 32, 48, 43, 255, 61, 107, 290, 127, 28, 52, 175, 30, 28, 5, 408, 7, 82, 2, 1444, 1085, 2225, 1086, 5, 864, 2226, 2227, 2228, 1445], [25, 128, 51, 2229, 63, 34, 21, 20, 14, 193, 5, 252, 24, 28, 52, 90, 42, 28, 3, 66, 9, 293, 24, 28, 52, 455, 42, 28, 3, 70], [2230, 138, 46, 2231, 2232, 137, 512, 19, 2233, 1, 106, 857, 865, 1446, 2234], [25, 456, 1087, 12, 2235, 21, 55, 1447, 3, 147], [242, 2236, 111, 44, 1088, 349, 8, 479, 19, 2237, 4, 2238], [1, 13, 12, 80, 2239, 3, 711, 4, 1448], [866, 292, 26, 4, 69, 54, 5, 148, 3, 1, 58, 38, 2, 47], [266, 185, 200, 133, 8, 595, 4, 100, 867, 390, 294, 83, 391, 200, 87, 67, 272, 596, 165, 1449, 4, 244], [123, 3, 7, 1450, 845, 2, 712, 479, 242, 713, 176, 4, 67, 496], [1431, 278, 493, 21, 20, 60, 8, 1, 92, 38, 2, 48, 5, 24, 39, 28, 52, 42, 50, 28, 9, 1089, 28, 52, 2240, 40, 28, 7, 23, 295], [1, 2241, 1451, 12, 3, 21, 2242, 504], [513, 1452, 2243, 597, 1453, 4, 583, 1452, 714, 12, 715, 3, 2244, 321], [33, 14, 72, 5, 6, 32, 40, 10, 9, 6, 31, 42, 10], [1, 868, 2, 1, 1059, 44, 1090, 3, 1, 1091, 69, 3, 1092, 37, 575, 40, 1454, 2, 1, 510, 4, 1093, 2, 1, 1076, 1059], [1, 83, 2, 1, 79, 12, 77, 276, 39, 36, 598, 296, 3, 716, 53, 289, 1094, 4, 263, 67, 5, 1, 267, 1095, 4, 869, 671, 1096], [1455, 376, 12, 1, 1097, 1456, 5, 599, 25, 18, 1, 514, 392, 4, 21, 2245, 59, 423, 8, 2246, 393], [600, 11, 870, 3, 1, 207, 12, 581, 582, 484, 1457], [183, 93, 54, 8, 116, 240, 47, 95, 184, 90, 61, 148, 2, 114, 23, 16, 23, 184, 138], [277, 8, 1, 38, 136, 284, 32, 227, 96, 30, 71, 9, 871, 17, 227, 3, 1, 273, 38, 3, 46], [222, 11, 244, 245, 67, 1458, 55, 444, 1098, 123, 1459, 3, 263, 245, 4, 2247, 67], [259, 2248, 12, 559, 2, 1, 515, 516, 196, 2, 717, 63, 3, 53, 4, 12, 16, 1, 601, 1460, 2, 717], [33, 14, 72, 5, 6, 2249, 9, 6, 30, 49, 10, 3, 1, 273, 38, 2, 46], [1, 1099, 2250, 12, 718, 37, 7, 2251, 1461, 1462, 1463, 19, 2252, 2253, 4, 1, 1461, 12, 1100, 101], [1464, 872, 292, 56, 2254, 15, 709, 2255, 2256, 11, 167, 697, 8, 48, 9, 1, 457, 1101, 2, 252, 138, 251, 18, 80, 18, 1, 33, 425, 873, 9, 1, 457, 602, 258, 251], [123, 2257, 699, 3, 2258, 2, 1, 2259, 5, 458, 2260, 719, 5, 1102, 4, 1103, 101, 699, 603, 3, 720, 165], [43, 12, 2261, 5, 1047, 1, 13, 11, 76, 278], [666, 23, 20, 26, 59, 152, 5, 148, 19, 129, 94, 1, 13, 34], [497, 292, 56, 1, 20, 26, 2, 21, 2262, 55, 15, 148, 3, 46, 64, 5, 48], [1, 82, 387, 241, 2, 186, 567, 3, 47, 44, 17, 1465, 57, 412, 65, 9, 17, 2263, 57, 412, 3, 45], [1104, 1105, 11, 33, 14, 268, 177, 297, 4, 2264, 269, 8, 1, 92, 38, 44, 1466, 31, 36, 96, 9, 1024, 49, 36, 7, 23, 295], [1, 35, 11, 26, 477, 5, 2265, 42, 36, 9, 2266, 31, 36, 150, 5, 1, 478, 137, 358, 97], [228, 477, 5, 184, 30, 9, 184, 31], [121, 199, 1, 51, 34, 43, 2267, 5, 1071, 1467, 4, 231, 517, 3, 1106, 4, 1107, 1108, 5, 1109, 3, 1, 721, 2, 604, 370, 43, 722, 316, 7, 680, 245, 4, 407, 142], [20, 723, 322, 136, 6, 127, 50, 10, 64, 5, 6, 127, 42, 10, 7, 23, 104], [1, 79, 373, 2268, 1110, 5, 189, 344, 2269, 1468, 19, 1, 2270, 1111, 1454, 2271, 2272, 2273, 2274, 4, 2275, 319], [7, 1469, 214, 170, 599, 29, 1, 874, 224, 3, 875, 672, 8, 110, 51, 209], [183, 93, 54, 8, 1, 38, 95, 75, 589, 23, 16, 23, 29, 39, 293, 6, 394, 39, 284, 4, 605, 69, 1470, 2, 39, 871, 6], [3, 518, 1, 2276, 2277, 15, 2278, 53, 11, 2279, 128, 437, 1112, 210, 4, 106, 876, 5, 1471, 442, 210, 2280, 11, 350], [1, 54, 348, 35, 8, 109, 579, 1472, 12, 236, 17, 143, 47, 4, 235, 205, 1113], [2281, 1114, 12, 519, 3, 166, 2282, 1473, 4, 2283, 1115, 4, 351, 241, 1473, 1474, 1115, 3, 241, 2284, 9, 39, 17, 1328, 2285, 5, 94, 2286], [33, 14, 44, 6, 108, 32, 10, 65, 9, 6, 40, 24, 10], [1, 81, 2287, 2288, 15, 2289, 25, 86, 699], [693, 17, 51, 15, 1116, 1475, 24, 36, 2, 1, 323, 153, 685, 1476, 4, 1, 724, 877, 3, 1113], [2290, 296, 3, 1477, 592, 12, 7, 878, 131, 4, 814, 133, 51, 37, 160, 42, 879, 214, 3, 592, 208, 4, 557, 37, 61, 115, 239, 2, 2291, 32, 324], [33, 14, 172, 6, 40, 39, 10, 65, 9, 7, 60, 2, 6, 32, 39, 10, 3, 1, 92, 38, 2, 45], [259, 1478, 270, 1098, 18, 1, 606, 366, 8, 1479, 99, 11, 274, 2292, 8, 1052, 2293, 1480], [2294, 2295, 880, 11, 457, 511, 8, 586, 2296, 4, 1117, 881, 15, 570, 65, 91, 1481], [166, 33, 14, 4, 239, 8, 1, 203, 233, 35, 74, 365, 9, 184, 50, 36, 4, 2297, 31, 36, 18, 64, 5, 1, 68, 35, 3, 70], [190, 312, 26, 95, 2298, 28, 6, 98, 7, 138, 31, 251, 148, 23, 16, 23], [108, 509, 47, 25, 2299, 149, 126, 1118, 63, 103, 2300, 34, 97, 56, 21, 20, 60, 1482, 5, 1119, 49, 36, 3, 1, 58, 179, 2, 47, 9, 271, 31, 36, 3, 1, 68, 35, 7, 23, 104], [25, 668, 186, 41, 119, 459, 7, 79, 8, 1, 2301, 2, 1483, 863, 712, 135, 2302, 707, 520, 3, 1483, 2303], [362, 11, 306, 26, 3, 1, 58, 203, 2304, 2, 46, 136, 2305, 30, 22, 194, 460, 7, 573, 2, 298, 71, 23, 16, 23], [395, 16, 128, 44, 124, 42, 64, 5, 127, 49, 3, 141], [43, 12, 281, 56, 1, 505, 239, 2, 2306, 2307, 15, 1484, 2308, 2309, 246, 243, 1444, 10, 6, 127, 258, 10, 3, 48], [1, 882, 1485, 3, 1, 285, 11, 1058, 3, 53, 59, 2310, 2311, 2312, 2313, 2314, 4, 725, 84], [2315, 2316, 11, 569, 883, 16, 1, 669, 4, 2317, 69, 59, 1422, 1120, 2318, 1486, 4, 2319, 1486], [1084, 445, 1, 863, 1121, 247, 5, 1068, 146, 162, 152, 3, 47, 9, 1, 359, 23], [1, 2320, 59, 2321, 2322, 2323, 2324, 4, 2325, 2326], [1, 54, 125, 2, 372, 88, 12, 108, 2327, 2328], [1, 167, 2, 20, 26, 41, 884, 2329, 3, 1, 838, 721, 4, 2330, 3, 726, 1122], [222, 727, 109, 178, 607, 325, 32, 45, 29, 94, 451, 1487, 508, 222, 15, 565, 21, 87, 728, 2331, 46, 16, 674, 325, 108, 29, 50, 451, 1487, 508], [21, 286, 590, 885, 2332, 2333, 2334, 2335, 18, 80, 18, 1123, 4, 2336], [1, 13, 1124, 5, 183, 93, 54, 228, 2, 6, 39, 608, 394, 60, 93, 54, 2, 6, 39, 886], [1125, 12, 1488], [1, 125, 609, 2, 1489, 248, 27, 2337, 19, 110, 87, 2338, 3, 1, 1126], [1490, 887, 12, 117, 7, 440, 303, 111, 4, 2339, 197, 1127, 8, 21, 132, 2340, 98, 2341], [729, 2342, 19, 1128, 87, 152, 277, 2, 2343, 22, 8, 1, 38], [1, 62, 1129, 27, 1130, 299, 888, 730, 8, 73, 2344, 1, 62, 59, 1130, 2345, 162, 3, 1491, 5, 1, 731, 2, 1, 335], [1, 20, 26, 2, 1, 381, 340, 55, 95, 6, 2346, 31, 22, 3, 70], [150, 5, 1, 1492, 1, 731, 2, 2347, 260, 4, 21, 51, 155, 59, 352, 3, 82, 2348, 2349, 62, 73, 2350, 31, 2351, 2, 732, 1493, 173, 62, 4, 315, 223], [461, 241, 74, 19, 129, 24], [2352, 4, 2353, 1494, 2354, 57, 2355, 4, 204, 7, 69, 54, 2, 129, 284, 18, 2, 248, 48], [1495, 16, 1, 69, 521, 221, 445, 59, 353, 120, 17, 5, 31, 396, 120, 733], [7, 1131, 1496, 844, 44, 349, 8, 1, 2356, 2, 1, 13, 4, 1, 429, 1132, 1, 2357, 34], [1, 456, 428, 522, 17, 39, 20, 2358, 395, 2359, 101, 2360, 168, 234, 1497, 2361, 445, 3, 1133, 208, 1, 2362, 4, 2363, 445, 422, 349, 19, 2364, 2365, 210, 2366, 2367], [222, 727, 12, 610, 16, 1, 812, 253, 85, 210], [372, 11, 286, 26, 157, 2368, 3, 1, 87, 35, 19, 449, 71], [1498, 3, 734, 12, 2369, 19, 43, 67, 155, 1087, 2370, 4, 1087, 73, 41, 76, 3, 1, 712, 2, 87, 67, 699, 338, 4, 889, 4, 43, 1499, 4, 1134, 67], [371, 12, 7, 1500, 1501, 3, 1502, 2371, 4, 2372, 18, 80, 18, 7, 2373, 888, 1501, 3, 2374, 397], [1503, 1504, 2375, 279, 2376, 693, 1404, 2377, 7, 1503, 188, 2, 111, 492, 1135, 41, 119, 1504, 279, 2, 1, 890, 492, 1135, 2378, 8, 1, 48, 46, 367], [1, 87, 326, 2, 1, 398, 95, 117, 327], [2379, 523, 2380, 1, 225, 2381, 62, 65, 40, 98, 52, 31, 90, 5, 52, 219, 298, 3, 1505, 429], [2382, 521, 41, 352, 574], [305, 132, 25, 735, 165, 411, 399, 63, 103, 2383, 265, 16, 431, 43, 255, 288, 290, 6, 94, 22, 140, 130, 30, 36, 5, 408, 2384, 5, 2385, 2386, 4, 1506], [131, 578, 1507, 1136, 29, 7, 652, 2, 94, 127, 71, 1137], [25, 338, 200, 405, 1138, 328, 63, 377, 7, 20, 60, 2, 108, 40, 28, 52, 154, 30, 28, 8, 48, 394, 7, 20, 14, 2, 30, 24, 28, 52, 31, 40, 28, 8, 66], [29, 50, 451, 508, 501, 201, 11, 115, 137, 8, 45, 12, 507, 5, 27, 524, 3, 1508, 821, 50], [1, 159, 44, 290, 77, 6, 17, 30, 10], [736, 11, 144, 2, 354, 15, 891, 7, 462, 2, 39, 30, 52, 39, 31, 93, 54, 8, 66, 29, 1, 115, 400, 329, 16, 143, 195, 48], [1, 55, 163, 41, 76, 3, 53, 208, 557, 1139, 734, 4, 1140], [1, 149, 12, 2387, 5, 2388, 1141, 889, 611, 2389, 2390, 2391, 611, 1509, 2392, 2393, 3, 2394, 2395, 2396, 4, 1, 387, 12, 507, 5, 232, 3, 205, 47], [1, 567, 5, 27, 2397, 813, 2398, 2399, 2400, 1031, 2401, 4, 1510, 2402, 525, 5, 2403, 4, 363, 123], [1, 83, 2, 1, 79, 12, 6, 892], [2404, 4, 106, 2405, 330, 78, 526, 2406, 612, 56, 1142, 1511, 2407, 853, 145, 169, 2, 100, 613, 18, 80, 18, 100, 893, 272, 4, 100, 737, 169], [1, 2408, 2, 1, 1143, 738, 59, 519, 8, 2409, 9, 105, 205, 46, 2410, 16, 1, 595, 29, 345, 320, 346, 1512], [368, 894, 895, 73, 78, 1463, 264, 2411, 2, 487, 168, 1, 1513, 134, 139, 78, 2412, 1, 896, 11, 60, 614, 34], [1144, 1145, 12, 7, 2413, 615, 2, 25, 463, 51, 739, 63, 11, 1514, 196], [150, 5, 740, 53, 1, 686, 12, 5, 148, 1146, 1515, 585, 1516, 11, 20, 26, 5, 6, 2414, 5, 6, 1147], [33, 14, 72, 5, 6, 498, 40, 10, 9, 6, 151, 50, 10, 3, 1, 68, 35, 3, 66], [1, 13, 75, 2415, 1, 2416, 897, 2417, 841, 2418, 7, 2419, 4, 7, 2420, 2421, 3, 490, 37, 2422, 2423, 274], [1, 13, 11, 69, 54, 12, 884, 5, 148, 380], [1, 207, 75, 2424, 61, 741, 2425, 2426, 8, 1069, 1517], [1, 13, 292, 725, 898, 5, 599, 29, 77, 1148, 1518, 3, 198], [1, 328, 15, 27, 1519, 3, 1, 447, 5, 875, 1, 355, 527, 76, 2, 1, 420], [242, 2427, 67, 78, 1149, 37, 7, 528, 2428, 899, 242, 123, 18, 80, 18, 29, 2429], [2430, 2431, 19, 177, 282, 529, 1520, 105, 233, 900, 19, 901, 3, 177, 282, 529, 268, 900, 8, 128, 169, 4, 900, 8, 110, 67, 2432, 177, 282, 529, 128, 590, 19, 1521], [310, 12, 75, 1150, 3, 1, 215, 393, 2, 1522, 4, 267, 149, 164, 4, 67, 299, 21, 1523, 13, 2433, 88], [476, 63, 1524, 2434, 193, 24, 24, 71, 5, 114, 502, 194, 1, 882, 427, 364, 240], [5, 1151, 560, 318, 98, 5, 458, 7, 1525, 330, 15, 27, 3, 1, 2435, 2436, 2437, 2438], [33, 14, 136, 6, 24, 24, 10, 65, 9, 6, 39, 40, 10], [3, 26, 241, 1526, 1527, 11, 69, 54, 41, 89, 19, 30, 30, 5, 449, 30], [3, 1, 92, 38, 2, 47, 1, 13, 11, 20, 14, 44, 276, 40, 36, 64, 5, 7, 20, 60, 2, 276, 31, 36, 3, 143, 240, 45], [239, 1152, 5, 2439, 49, 36, 9, 2440, 42, 36, 450, 5, 2441, 111, 616, 1088, 3, 1, 118, 38, 4, 1, 1017, 167, 2, 21, 55], [25, 1038, 2442, 438, 374, 63, 34, 43, 1153, 5, 7, 20, 14, 2, 32, 50, 28, 52, 42, 31, 28, 3, 1, 58, 134, 139, 2, 66, 9, 7, 20, 60, 2, 17, 49, 28, 52, 30, 31, 28, 7, 23, 104], [1051, 11, 300, 530, 9, 76, 157, 5, 6, 902, 17, 10, 9, 6, 175, 50, 10, 7, 23, 295], [1063, 208, 11, 33, 60, 44, 6, 17, 17, 10, 3, 682, 2, 45, 64, 5, 7, 14, 2, 6, 39, 42, 10, 7, 23, 295], [2443, 2444, 115, 20, 26, 2, 77, 24, 28, 6, 4, 385, 175, 287], [1154, 2, 1, 207, 15, 903, 531, 9, 617], [3, 518, 1, 13, 12, 2445, 1, 232, 2, 113, 3, 147], [395, 16, 742, 593, 29, 360, 31, 64, 5, 127, 32, 3, 1, 118, 38, 2, 70], [1, 13, 1098, 129, 31, 57, 123, 3, 168, 384, 321], [25, 86, 743, 86, 187, 103, 1528, 34, 97, 56, 43, 15, 503, 7, 6, 213, 22, 140, 502, 30, 36, 1155, 2446, 1156, 743, 2447, 2448, 1529, 47, 743, 308, 2449, 1529, 47, 16, 190, 284, 47], [266, 895, 59, 152, 5, 1530, 115, 368, 487, 2, 6, 17, 24, 22, 744, 3, 48], [131, 12, 152, 5, 27, 618, 3, 1, 706, 2, 198], [1531, 294, 272, 88, 12, 296, 3, 85, 53], [2450, 314, 1532, 163, 12, 1533, 9, 2451, 1534, 5, 1142, 75, 2452, 4, 2453], [1, 196, 75, 122, 1075, 26, 441, 4, 1535, 672, 8, 266, 209], [33, 14, 136, 6, 50, 32, 10, 96, 9, 6, 108, 40, 10, 3, 141], [145, 16, 1, 70, 1508, 23, 1, 291, 13, 204, 820, 49, 324, 3, 1536, 1537, 115, 532, 4, 12, 152, 5, 232, 76, 37, 745, 57, 214], [121, 821, 1, 25, 746, 4, 191, 51, 265, 1157, 5, 619, 146, 162, 587, 71, 2, 21, 191, 142, 5, 380, 1, 13, 11, 747, 2454, 2, 2455, 1, 832, 11, 417, 713, 176, 126], [20, 26, 89, 5, 6, 2456, 24, 10, 9, 6, 1538, 39, 10, 3, 1, 68, 35, 3, 45], [2457, 464, 163, 12, 152, 5, 78, 77, 1539, 57, 620, 1158, 2, 231, 1083, 19, 2458], [350, 845, 9, 1, 133, 2, 1159, 564, 5, 1, 2459, 441, 2, 2460, 84], [748, 15, 1116, 6, 2461, 22, 8, 1, 81, 670, 73, 15, 27, 618, 3, 116, 46], [259, 2462, 1540, 601, 279, 2, 749, 1541, 353, 7, 2463, 249, 3, 1, 13, 8, 146, 162, 1542, 2464, 29, 1, 229, 2, 1, 1543], [843, 11, 328, 216, 27, 603, 8, 904, 4, 1160, 331, 1161, 8, 533, 4, 905, 2, 750, 4, 621, 465, 181, 401, 4, 332, 1544, 2, 390, 67, 3, 166, 100, 4, 351, 218], [26, 72, 94, 251, 5, 2465, 28, 6, 16, 1, 1162, 2, 751, 241, 4, 1163, 659, 2466], [2467, 4, 2468, 2469, 906, 270, 1545, 2470, 4, 2471, 15, 1546, 2472, 1, 138, 249, 8, 352], [1, 907, 216, 27, 908, 16, 250, 369, 739, 11, 25, 2473, 29, 345, 739, 1547, 18, 80, 18, 369, 1, 1548, 909, 1164, 111, 29, 345, 1548, 1547, 909], [3, 199, 43, 4, 2474, 125, 353, 180, 2475, 1165, 2476, 703, 55, 5, 1166, 11, 2477, 452], [277, 3, 199, 5, 112, 157, 151, 71, 5, 52, 2478, 22, 9, 7, 23, 104, 1, 13, 34, 453], [2479, 806, 340, 59, 3, 1, 1100, 330, 15, 341, 5, 1136, 622, 1, 2480, 2, 332, 1167, 2481, 3, 752, 80, 43, 11, 2482], [33, 60, 172, 6, 24, 30, 10, 64, 5, 7, 60, 2, 6, 31, 32, 10, 3, 1, 68, 35, 3, 46, 45], [33, 14, 574, 19, 623, 50, 5, 6, 360, 39, 10, 9, 1549, 49, 10], [33, 14, 72, 5, 271, 32, 36, 9, 276, 42, 36, 23, 104], [305, 132, 563, 105, 45, 25, 43, 164, 411, 815, 63, 103, 1336, 34, 97, 21, 20, 14, 72, 5, 6, 49, 24, 22, 140, 2483, 3, 46, 9, 6, 40, 22, 3, 48], [1, 13, 11, 20, 14, 238, 5, 2484, 753, 24, 10, 73, 44, 433, 146, 162, 3, 141], [192, 1, 225, 2485, 15, 534, 94, 214, 754, 263, 4, 1550, 309, 5, 387, 445, 4, 286, 439, 3, 53, 5, 1168, 18, 2, 116, 17, 48], [43, 12, 7, 624, 2, 1, 2486, 2487, 73, 122, 527, 2488, 4, 1502, 2489], [1110, 2, 106, 2490, 106, 2491, 4, 106, 2492, 59, 152, 5, 232, 3, 1, 92, 38, 2, 66], [2493, 34, 2494, 910, 27, 2, 83, 5, 106, 419, 98, 2495, 755, 21, 848, 393, 1551, 101, 37, 2496, 1169, 37, 756, 167, 84], [1, 79, 41, 119, 2497, 18, 93, 2498, 153, 2499], [1380, 1046, 378, 15, 27, 694, 5, 497, 63, 3, 1, 2500, 2, 7, 428], [1, 159, 1170, 56, 911, 688, 3, 203, 321, 15, 534, 5, 1498], [2501, 2502, 53, 145, 13, 41, 459, 79, 8, 1171, 2503, 98, 1095, 491], [598, 2504, 607, 94, 312, 47, 29, 32, 94, 466, 36, 2505, 5, 598, 187, 11, 109, 436, 342, 141, 1172, 2506, 81, 62, 2, 1, 13, 78, 119, 435, 364, 284, 190, 47, 37, 109, 579, 2507], [25, 86, 2, 625, 11, 505, 20, 33, 14, 74, 9, 6, 32, 49, 10, 3, 1, 58, 38, 2, 70, 5, 6, 42, 32, 10, 3, 1, 58, 38, 2, 66], [183, 93, 54, 228, 477, 5, 6, 39, 175, 9, 6, 39, 235], [1, 1173, 1552, 122, 535, 1134, 19, 1174, 86, 11, 2508, 125, 142, 2509, 437, 169, 4, 25, 156, 128, 7, 757, 406, 128, 51], [1, 896, 281, 56, 1, 2510, 2, 21, 1553, 450, 5, 1, 1554, 2, 536, 2511, 4, 1, 537, 2, 2512, 401, 78, 1045, 7, 1, 13, 7, 60, 2, 1555, 220, 1, 379, 2, 2513, 673, 135, 2514], [1, 225, 122, 737, 439, 4, 875, 67], [2515, 34, 1, 2516, 1175, 170, 1546, 1176, 37, 110, 523, 1556, 3, 1, 2517], [25, 2518, 56, 12, 406, 19, 1, 2519, 1557, 41, 1558, 538, 299, 1, 398, 2, 2520, 376, 155], [467, 11, 51, 609, 4, 55, 76, 59, 2521, 349, 1559, 332, 1560, 1561], [1, 1177, 55, 569, 1562, 12, 7, 100, 1563, 4, 2522, 328, 1564, 18, 1565, 2523, 73, 289, 1563, 5, 1164, 402, 758, 2524, 2525, 2526, 2527, 1565, 2528, 164, 4, 110, 596, 4, 564], [387, 12, 450, 3, 1, 92, 179, 2, 198], [2529, 248, 32, 47, 25, 1566, 4, 836, 1007, 126, 310, 63, 912, 103, 1567, 34, 97, 21, 20, 14, 759, 5, 6, 105, 50, 22, 140, 2530, 3, 1, 58, 38, 2, 47, 9, 6, 154, 22, 3, 1, 1568], [82, 83, 2, 1, 79, 12, 77, 6, 1569], [1, 2531, 277, 111, 842, 77, 114, 71, 2, 189, 2532, 2533, 1178, 1, 121, 234, 2534, 5, 2535, 37, 77, 213, 22, 2536, 1570, 3, 143], [1, 81, 285, 41, 1539, 2537, 913, 4, 1179, 1058], [1, 884, 76, 2538, 1, 609, 120, 1, 434, 2, 1, 852, 51, 220, 852, 874, 4, 1, 2539, 76], [174, 161, 356, 89, 5, 1180, 6, 151, 24, 10, 64, 5, 1180, 6, 1181, 3, 1, 359, 1022, 35], [150, 5, 1, 13, 3, 518, 5, 2540, 2541, 2542, 1, 69, 521, 41, 2543, 283, 626, 46], [25, 43, 1571, 1062, 1572, 63, 34, 16, 409, 130, 66, 56, 1182, 2544, 1183, 65, 1, 760, 2, 188], [732, 11, 890, 55, 385, 168, 114, 688, 4, 12, 468, 3, 454, 53], [291, 20, 26, 3, 66, 95, 284, 22, 4, 1340, 44, 130, 40, 22], [614, 187, 761, 7, 1184, 49, 49, 22, 673, 3, 66, 61, 148, 2, 31, 24, 71, 16, 1, 359, 23, 1, 25, 539, 914, 377, 627], [1, 1185, 163, 2, 1, 2545, 207, 15, 27, 40, 2546, 628, 36, 1573, 2547, 628, 2548, 4, 1, 202, 11, 915, 163, 15, 82, 105, 1042, 628, 36, 7, 82, 138, 17, 2, 1, 629, 78, 119, 2549], [717, 34, 43, 255, 81, 288, 290, 2550, 50, 28, 6, 283, 1, 38, 64, 37, 2551, 32, 28, 6, 7, 23, 104], [33, 14, 136, 6, 31, 49, 10, 96, 9, 6, 32, 24, 10, 3, 1, 68, 35, 3, 70], [501, 201, 522, 304, 2, 91, 13, 1, 724, 62, 422, 406, 19, 1, 13, 11, 375, 214], [1186, 2552, 1512, 2553, 2554, 2, 806, 2555, 197, 862, 162, 114, 143, 29, 94, 7, 36, 7, 867, 432, 8, 87, 729, 4, 523, 1187, 3, 2556, 15, 1188, 29, 31, 451, 466, 36, 25, 229, 508], [702, 2557, 357, 1, 832, 11, 417, 126, 2, 916, 186, 16, 627, 377, 7, 195, 71, 14, 573, 18, 709, 186, 226, 589, 379, 4, 7, 751, 52, 2558, 277], [2559, 583, 2560, 41, 119, 762, 843, 11, 904, 274, 3, 2561, 351, 218, 18, 80, 18, 1574, 196, 1575, 1189, 98, 2562, 4, 215, 274, 8, 100, 653, 98, 2563, 364, 917], [91, 910, 27, 246], [1, 115, 137, 15, 27, 2564, 1576, 5, 335, 483, 29, 918, 30, 57, 320, 187, 62], [1190, 41, 77, 30, 57, 913, 1150, 3, 285, 76, 3, 1, 182, 4, 306, 321, 147, 4, 2565], [2566, 2567, 53, 145, 13, 41, 459, 79, 5, 1191, 2568, 99, 8, 1192, 540, 763], [1, 2569, 1577, 117, 1578, 5, 1, 51, 11, 209, 919, 53], [150, 5, 2570, 237, 4, 1579, 2571, 1580, 920, 136, 2572, 1518, 3, 53, 3, 48], [85, 1128, 87, 62, 421, 1346, 1193, 37, 399, 4, 764, 2573, 2574, 16, 2575, 92, 38, 206], [1, 55, 133, 2576, 3, 355, 630, 59, 2577, 19, 2578, 2579], [14, 161, 356, 89, 5, 6, 235, 42, 10, 9, 6, 219, 39, 10, 1, 23, 161], [1, 2580, 9, 2581, 662, 1, 631, 5, 2582, 1, 1581, 1034, 4, 122, 875, 8, 1582, 1583, 1194, 2583, 2584, 4, 1584, 2585, 2586, 221, 18, 369, 2587, 4, 1360], [25, 405, 4, 438, 2, 100, 632, 1195, 921, 187, 253, 85, 1585, 16, 674, 195, 409, 2588, 21, 666, 23, 20, 26, 826], [1, 874, 224, 385, 129, 1196, 287], [2589], [3, 314, 457, 760, 2590, 41, 2591, 364, 2592], [43, 75, 34, 21, 118, 38, 765, 228, 416, 3, 29, 39, 602, 6, 64, 37, 39, 124, 6, 3, 1, 102, 38, 7, 23, 295], [1, 81, 1586, 922, 12, 824, 65, 705, 1080, 5, 1, 388, 464, 1587, 279, 2, 1, 144, 2, 18, 362, 2593, 2594, 2595], [1, 1588, 2, 1, 176, 923, 817, 537, 15, 1589, 1, 267, 920], [924, 1, 51, 11, 1197, 1590, 15, 78, 77, 6, 138, 49, 22, 2, 1591, 1, 13, 391], [25, 2596, 4, 586, 51, 880, 63, 307, 7, 20, 14, 2, 40, 655, 28, 52, 94, 32, 28, 8, 66, 64, 5, 49, 32, 28, 52, 94, 50, 28, 8, 70], [765, 183, 93, 54, 228, 72, 5, 6, 17, 1029, 9, 6, 39, 1198], [16, 138, 509, 45, 320, 11, 249, 3, 333, 44, 195, 684], [1, 859, 174, 667, 93, 54, 2597, 2, 24, 925, 8, 109, 1127, 17, 846, 8, 308, 4, 133, 4, 17, 846, 8, 747, 334], [399, 11, 26, 172, 6, 31, 32, 227, 3, 46, 4, 43, 385, 129, 108, 57, 287], [2598, 1199, 15, 341, 5, 27, 366, 8, 1, 439, 4, 1200, 133, 2, 1, 67], [3, 1, 92, 38, 2, 47, 1, 51, 11, 20, 14, 72, 5, 1061, 17, 36, 9, 271, 24, 36, 3, 143, 240, 45], [1, 2599, 16, 107, 1592, 899, 1593, 926, 2600, 4, 2601, 18, 80, 18, 541, 520, 263, 4, 1594, 37, 668, 2602, 690], [91, 2603, 5, 32, 2604, 71, 2, 374, 11, 54, 125, 4, 315, 223], [586, 338, 285, 1595, 343, 11, 26, 74, 19, 49, 5, 6, 1465, 30, 10, 4, 33, 14, 72, 5, 6, 235, 17, 10, 9, 6, 154, 17, 10, 3, 141], [1596, 749, 12, 7, 2605, 81, 2606, 447, 145, 1389, 2, 402, 1597, 1596, 1201, 2607, 4, 1598, 736, 1201, 1599, 232, 1201, 2608, 4, 352, 75, 2609, 1202, 542, 1598], [927, 123, 2610, 12, 211, 2, 1, 2611, 2, 420, 415, 8, 246], [330, 1600, 1601, 492, 1060, 2612, 4, 1601, 928, 326], [266, 84, 185, 928, 294, 84, 221, 18, 100, 766, 4, 180, 856, 633, 294, 84, 221, 18, 506, 837, 2613, 4, 244, 8, 2614, 2615, 2616, 18, 80, 18, 294, 218, 84, 221, 18, 515, 1203, 2617, 837, 2618, 4, 2619, 165], [53, 11, 539, 914, 614, 187, 761, 7, 1184, 49, 24, 22, 673, 3, 70, 61, 148, 2, 32, 24, 71, 16, 1, 359, 23, 1, 896, 377, 627], [26, 3, 2620, 630, 74, 19, 1204, 5, 6, 2621, 4, 7, 82, 2, 49, 40, 10, 100, 613, 95, 353, 3, 1, 163, 460, 61, 148, 2, 634, 9, 1, 68, 35, 3, 45], [1, 256, 410, 13, 307, 7, 20, 60, 2, 929, 930, 931, 809, 31, 22, 929, 930, 931, 39, 175, 93, 54, 64, 37, 7, 20, 14, 2, 929, 930, 931, 235, 22, 929, 930, 931, 39, 108, 93, 54, 8, 1, 68, 38, 2, 48], [1, 83, 2, 1, 1584, 23, 225, 12, 168, 6, 2622, 7, 23], [37, 91, 2623, 1602, 86, 1352, 5, 380, 452, 2624, 125, 247, 350, 754, 1, 51, 4, 5, 1068, 1, 1017, 111, 5, 1603], [1, 1176, 1205, 1, 237, 4, 2625, 1206, 18, 80, 18, 51, 111, 672, 1, 13, 34], [29, 2626, 1604, 2627, 204, 1207, 40, 498, 5, 6, 154, 555, 16, 2628, 2629, 2630, 29, 1, 932, 2, 1, 1605, 1606, 2631], [18, 2, 199, 30, 48, 1, 69, 1208, 1209, 15, 27, 2632, 150, 5, 1, 819, 153, 3, 248, 48], [469, 88, 109, 178, 607, 298, 143, 47, 29, 17, 466, 36, 2633, 5, 7, 132, 432, 16, 469, 11, 478, 137, 682, 47, 469, 15, 565, 21, 478, 137, 8, 116, 205, 47, 16, 674, 24, 248, 47], [598, 11, 79, 122, 263, 169, 1607, 4, 2634, 263, 67, 4, 229, 2635, 4, 2636, 67], [1, 584, 877, 12, 77, 6, 1569, 246, 105, 2637, 10], [1, 230, 14, 2, 1, 51, 11, 282, 529, 55, 74, 5, 2638, 9, 2639], [26, 2, 767, 2640, 361, 89, 19, 213], [222, 41, 7, 215, 257, 2, 120, 69, 111, 1608, 73, 78, 7, 311, 692, 3, 927, 470, 244, 4, 165, 164, 123], [106, 419, 218, 289, 100, 4, 351, 257, 869, 294, 4, 218, 111, 2641, 18, 80, 18, 2642, 67, 5, 768, 4, 111, 1334], [769, 11, 1525, 5, 1210, 1350, 12, 7, 1609, 1609, 101, 159, 8, 166, 155, 1, 279, 2, 1, 691, 2643, 500, 1055, 1379, 237, 97, 94, 325], [211, 153, 1211, 12, 8, 465, 16, 1, 2644, 1212, 11, 257, 4, 770, 8, 465, 16, 110, 768, 135, 218], [1, 54, 348, 35, 15, 2645, 16, 90, 112, 48], [25, 399, 11, 1199, 41, 543, 7, 423, 107, 9, 1, 246, 1610, 2, 890], [222, 933, 44, 526, 3, 1611, 3, 1, 2646, 708, 2, 933, 617, 4, 12, 211, 2, 222, 173, 317, 241, 245, 340, 3, 1, 726, 1122, 403], [305, 132, 2647, 90, 46, 25, 272, 4, 1329, 200, 164, 405, 808, 63, 34, 97, 56, 43, 255, 7, 140, 17, 50, 22, 6, 17, 31, 36, 107, 5, 408, 21, 1330, 257, 272, 84, 5, 61, 2648, 544, 2649], [81, 2650, 199, 154, 2651, 2652, 2653, 2654, 4, 2655, 2656, 2, 36, 256, 63, 454, 53, 78, 349, 2657, 2658, 4, 2659, 2, 1213, 1, 102], [1, 882, 2660, 44, 5, 458, 1, 2661, 934, 545, 101, 2662, 34], [679, 307, 7, 20, 14, 2, 17, 49, 28, 52, 30, 42, 28, 8, 1, 118, 38, 2, 48, 64, 5, 7, 20, 60, 2, 2663, 57, 52, 2664, 57, 8, 1, 68, 35, 2, 66], [703, 1395, 146, 1612, 1, 13, 34, 43, 41, 119, 2665, 37, 589, 514, 4, 1214, 226, 73, 78, 2666, 65, 1, 368, 2, 267, 545, 714, 4, 1215], [1, 434, 2667, 7, 146, 771, 935, 37, 74, 936, 415, 4, 2668, 810, 4, 1613, 5, 146, 771, 113, 34, 2669, 2670, 382, 2, 1216, 713], [585, 1402, 99, 12, 217, 2, 501, 201, 51, 4, 43, 270, 2671, 127, 363, 851, 2672, 53], [25, 131, 51, 1217, 1218, 41, 119, 459, 234, 937, 202, 938, 19, 1, 939, 720, 772], [7, 116, 108, 47, 2673, 144, 2, 354, 41, 1614, 61, 148, 3, 1, 940, 462, 9, 39, 608, 5, 39, 1029, 93, 54], [14, 8, 1, 35, 44, 6, 127, 42, 10, 64, 5, 6, 151, 17, 10, 3, 48], [2674, 1, 2675, 381, 773, 216, 27, 89, 494, 1, 2676, 2677, 12, 605, 7, 1560, 83], [43, 12, 152, 5, 27, 618, 19, 1, 171, 2, 48], [1, 1615, 629, 135, 2678, 12, 1179, 57, 2679, 4, 40, 24, 28, 424, 2, 400, 461], [480, 11, 54, 12, 1331, 16, 1, 812, 253, 85], [1, 83, 2, 1, 288, 12, 168, 6, 892], [1, 323, 83, 12, 1397, 127, 22, 129, 6, 94, 22], [1616, 822, 19, 1, 25, 1617, 866, 2680, 7, 24, 40, 71, 443, 3, 361, 26, 5, 243, 42, 22, 301, 4, 339, 7, 94, 1618, 71, 69, 54], [1, 605, 1619, 335, 15, 2681, 56, 7, 1219, 1620, 2, 6, 17, 1044, 170, 27, 331, 8, 1, 144, 738, 919, 1, 13], [558, 88, 15, 565, 21, 87, 728, 8, 46, 16, 105, 325, 45], [1, 1123, 170, 27, 1519, 2682, 234, 2683, 2684, 19, 2685, 670, 774, 2686], [1220, 296, 3, 716, 53, 1621, 131, 491, 4, 149, 18, 80, 18, 1621, 4, 1070, 1622, 517], [25, 1094, 4, 263, 51, 598, 187, 253, 85, 2687, 34, 16, 674, 17, 190, 56, 43, 41, 119, 459, 7, 79, 19, 2688, 1623, 2689, 18, 774, 2690, 8, 1, 2691, 274, 2, 1623, 2692, 2, 2693, 2694], [668, 292, 21, 20, 26, 5, 148, 19, 77, 94, 3, 46, 29, 658, 178, 486], [2695, 12, 1, 2696, 2697, 13, 56, 12, 1221, 5, 1, 741, 1222, 2, 1159, 1214], [1, 79, 75, 122, 894, 4, 2698, 1624, 856, 29, 280, 11, 176, 111, 2699, 3, 2700, 4, 2701, 166, 3, 2702, 53, 9, 370, 330, 15, 27, 512, 5, 1625, 8, 2703, 4, 1626], [288, 543, 157, 19, 753, 23, 16, 23, 5, 2704], [20, 300, 9, 33, 350, 44, 7, 482, 6, 39, 31, 10, 64, 5, 6, 90, 50, 10, 3, 45], [1, 58, 2705, 2, 1, 79, 373, 941, 913, 4, 2706, 300, 2707], [1, 1460, 2708, 1, 471, 1627, 7, 1219, 1627, 2, 6, 24, 57, 8, 1, 279, 6, 31, 546, 8, 1, 1540, 279, 4, 6, 30, 546, 8, 1, 110, 144, 738], [62, 2, 106, 357, 72, 453, 120, 1, 2709, 632, 126, 34, 21, 118, 38, 183, 701, 1628, 4, 21, 54, 2, 1, 215, 631, 69, 74], [268, 177, 297, 269, 942, 943, 14, 1152, 684, 5, 2710], [33, 14, 2, 1, 1223, 340, 157, 2711], [2712, 78, 944, 180, 945, 212, 698, 2713], [183, 93, 54, 228, 95, 184, 608, 65, 9, 1, 60, 2, 184, 2714], [3, 518, 5, 21, 249, 3, 1629, 2715, 270, 547, 384, 2, 62, 3, 1164, 1114, 4, 581, 582, 2716, 502, 3, 1013, 149, 946, 1630, 2717, 4, 7, 262, 2, 110, 2718, 947], [472, 173, 145, 683, 357, 12, 3, 1176, 37, 878, 1631, 13, 442, 5, 619, 21, 249, 3, 2719, 1632, 1212, 1633, 61, 601, 29, 1633, 1055, 2720], [33, 14, 72, 5, 6, 1224, 32, 10, 9, 6, 252, 30, 3, 1, 68, 35, 3, 66], [298, 112, 47, 25, 1634, 169, 4, 1635, 13, 1104, 1105, 2721, 21, 76, 3, 147, 19, 2722, 21, 538, 618, 1635, 224, 3, 1, 388, 2, 2723, 948, 490], [3, 53, 11, 1636, 1175, 11, 26, 89, 19, 94, 4, 319, 26, 193, 19, 195], [25, 244, 245, 67, 1458, 13, 222, 727, 307, 7, 20, 60, 2, 1637, 32, 28, 52, 1225, 30, 28, 8, 1, 58, 179, 2, 48, 64, 5, 7, 20, 14, 2, 40, 17, 28, 52, 50, 49, 28, 8, 1, 102, 35, 2, 66], [1, 13, 41, 1196, 214, 4, 115, 26, 2, 129, 2724], [1, 635, 83, 2, 1, 13, 11, 128, 636, 489, 96, 5, 271, 2725, 324, 29, 1, 171, 2, 112, 45, 9, 271, 2726, 324, 7, 23, 104], [33, 60, 172, 6, 39, 50, 10, 96, 9, 7, 14, 2, 6, 30, 40, 10], [14, 120, 356, 44, 6, 39, 17, 10, 64, 5, 6, 39, 32, 10, 1, 359, 23], [1638, 388, 12, 1, 671, 8, 7, 1394, 145, 1226, 1227, 763, 8, 31, 1081, 287, 37, 1, 82, 239, 2, 21, 155, 1429, 5, 2727, 24, 32, 324, 101, 34, 2728, 466, 2729, 279, 2, 1, 2730, 144, 2, 1638, 388, 4, 2731], [1, 254, 15, 27, 1228, 3, 112, 98, 190, 1, 13, 34], [769, 12, 1, 949, 2, 1, 569, 113, 340, 18, 80, 18, 13, 876], [1, 859, 404, 8, 1125, 12, 16, 32, 143, 66], [1, 13, 11, 144, 2, 354, 15, 891, 7, 462, 2, 6, 39, 151, 8, 46, 29, 1, 115, 400, 329], [1, 86, 2732, 289, 2733, 1639, 5, 1210, 1229, 3, 1, 897, 29, 108, 130, 93, 2734, 3, 1640], [1641, 735, 84, 185, 488, 4, 1230, 2735, 2736, 2737, 18, 80, 18, 2738, 439, 4, 2739, 67, 8, 308, 2740, 2741, 4, 473, 2742], [2743, 2744, 4, 894, 29, 1, 2745, 637, 15, 27, 694, 5, 1, 2746, 2747], [1, 107, 44, 290, 6, 1148], [654, 41, 160, 90, 548, 496, 4, 12, 610, 16, 1, 182, 178, 3, 85], [469, 79, 245, 12, 7, 428, 2, 469, 88, 2, 53], [121, 23, 1, 13, 1010, 21, 239, 5, 129, 40, 22, 1642, 6, 30, 28, 9, 42, 17, 22, 1642, 3, 141], [1, 635, 83, 2, 1, 814, 590, 1628, 18, 7, 174, 2, 1, 2748, 398, 4, 172, 6, 30, 1643, 30, 17, 2749, 40, 22], [1, 2750, 207, 370, 732, 1231, 12, 422, 603, 12, 1, 2751, 2752, 950, 422, 349, 19, 2753, 2754, 1644, 210, 2755, 2756, 445, 210, 2757], [736, 1232, 5, 1494, 21, 473, 123, 37, 1645, 84], [1, 2758, 2759, 4, 2760, 775, 73, 41, 77, 17, 24, 227, 1207, 77, 31, 24, 22, 3, 2761, 2762, 776], [1, 2763, 1646, 2764, 1, 549, 2, 951, 56, 2765, 59, 2766, 5, 1647, 615], [1, 159, 373, 638, 1648, 99, 378, 11, 26, 4, 120, 26, 67, 550, 2767, 4, 2768, 3, 85, 454, 4, 716], [1, 83, 2, 1, 107, 12, 77, 6, 1050], [1, 51, 2769, 21, 697, 56, 631, 1233, 15, 619, 264, 2770, 28, 209, 91, 23, 1459], [183, 93, 54, 228, 3, 1, 58, 179, 2, 48, 238, 5, 184, 298, 96, 9, 184, 213, 23, 295], [33, 14, 89, 5, 6, 108, 30, 10, 9, 6, 124, 42, 10], [2, 266, 62, 298, 2771, 2772, 59, 339, 19, 1, 13, 98, 21, 51, 155, 4, 1, 262, 2, 2773, 62, 4, 315, 223, 1649, 5, 1, 62, 924, 952, 5, 2774, 2775, 2776], [75, 7, 430, 23, 2777, 566, 12, 474, 8, 266, 247], [2778, 30, 2779, 192, 953, 3, 199, 46, 494, 1, 207, 44, 459, 5, 2780, 4, 381, 2781], [1650, 15, 75, 1234, 61, 2782, 954, 37, 2783, 163, 7, 1651, 4, 7, 2784, 1510, 1235], [1, 464, 15, 27, 777, 3, 1, 2785, 708, 2, 1652, 2786, 1, 2787, 1652, 2788, 937, 948, 1, 81, 1541, 2789, 2790, 236, 1376, 4, 2791], [161, 600, 11, 540, 2792, 44, 1213, 31, 546, 424, 2, 1641, 4, 1384, 2793, 1634, 93, 23], [1, 69, 83, 2, 211, 1653, 12, 160, 2794, 377, 1, 25, 132, 2795, 2796], [1, 471, 778, 44, 358, 19, 558, 2797, 1, 279, 2, 1, 1654, 294, 779, 12, 507, 5, 408, 1, 539, 413, 686, 5, 2798], [230, 14, 89, 19, 902, 5, 6, 2799, 17, 10, 9, 6, 2800, 42, 10], [33, 14, 2, 76, 3, 53, 3, 1, 35, 192, 1236, 136, 6, 108, 31, 10, 724, 29, 1, 70, 773], [1016, 574, 21, 577, 3, 2801, 2, 1, 2802, 3, 1655, 131, 3, 1, 246], [1656, 91, 1381, 2803, 2804, 37, 242, 737, 111, 169, 2805, 4, 1499, 111, 2806, 41, 352, 2807, 5, 27, 7, 2808, 2809], [1, 13, 292, 20, 26, 5, 1237, 148, 9, 45], [1220, 187, 12, 7, 111, 13, 2810, 3, 131, 491, 4, 149, 336, 4, 336, 309, 67, 18, 80, 18, 336, 4, 254, 2, 1622, 517], [1, 13, 11, 144, 2, 354, 170, 891, 7, 462, 2, 276, 451, 93, 54, 8, 70], [29, 1, 171, 2, 1, 1236, 35, 182, 1238, 11, 107, 1427, 593, 29, 6, 49, 1239, 10, 64, 5, 6, 40, 1240, 3, 70], [1, 637, 15, 78, 7, 2811, 163, 2, 160, 195, 57, 628, 36, 1, 2812, 8, 1, 224, 468, 3, 1, 2813, 55, 954, 15, 27, 1657, 9, 1, 388, 2, 1658], [1, 2814, 15, 27, 3, 1659, 1178, 1, 81, 188, 41, 119, 955], [43, 12, 422, 349, 19, 1660, 1, 200, 1661, 1552, 2815, 19, 106], [147, 11, 621, 319, 51, 522, 7, 1535, 249, 3, 544, 201, 2816], [1656, 1, 234, 1120, 15, 2817, 7, 751, 956, 145, 2818, 156, 2819, 2, 329, 215, 957, 330, 391], [1, 323, 15, 78, 7, 528, 1662, 2, 264, 1663, 16, 183, 73, 280, 15, 2820, 283, 1, 273, 38, 2, 91, 23], [1, 2821, 59, 468, 3, 1, 125, 403, 4, 1, 2822, 2823, 403], [739, 11, 20, 14, 8, 1, 118, 38, 2, 48, 89, 5, 433, 24, 28, 52, 2824, 17, 28, 9, 213, 31, 28, 52, 647, 24, 28, 7, 23, 104], [526, 3, 2825, 158, 1664, 182, 958, 1665, 191, 282, 780, 4, 256, 410, 535, 37, 129, 52, 31, 227, 32, 227, 3, 82, 125], [1, 62, 435, 8, 192, 1, 109, 579, 95, 1666, 3, 1, 429, 1667, 16, 114, 116, 198, 18, 2, 73, 404, 1, 81, 62, 15, 1668, 639, 223], [1, 55, 41, 26, 2, 77, 52, 258, 22, 2826, 4, 41, 119, 366, 8, 26, 4, 441, 2, 2827, 11, 186, 781, 55, 73, 600, 1669, 8, 52, 959, 22, 640, 91, 23, 2828, 1670, 108, 466, 243], [710, 11, 20, 26, 72, 19, 160, 151, 23, 16, 23, 3, 1, 58, 134, 139, 2, 46], [2829, 51, 12, 61, 1671, 1375, 1672, 4, 244, 156, 411, 8, 123, 3, 383, 355, 630, 4, 726], [1, 177, 297, 379, 1045, 5, 497, 11, 2830, 55, 163, 19, 1, 434, 15, 549, 5, 30, 39, 28, 52, 30, 40, 28, 4, 15, 27, 667, 3, 1, 13, 11, 87, 313, 8, 1, 92, 38, 2, 48], [33, 60, 136, 6, 892, 64, 5, 7, 14, 2, 6, 2831, 3, 1, 68, 35, 3, 70], [3, 46, 638, 1673, 31, 2832, 22, 1674, 3, 14, 16, 426, 2833, 22, 1674, 3, 239], [230, 60, 136, 6, 2834, 64, 5, 7, 60, 2, 6, 2835, 3, 1, 68, 35], [1, 1485, 95, 1, 2836, 2, 1, 13], [8, 1, 81, 62, 435, 37, 109, 579, 189, 639, 223, 2837, 9, 1, 404, 16, 73, 330, 59, 2838, 212, 1, 429, 1667], [1675, 4, 2839, 532, 157, 19, 31, 32, 4, 19, 39, 32, 365], [2840, 125, 169, 2841, 2842, 261, 186, 126, 1241, 357, 41, 307, 839, 92, 38, 313, 2843, 7, 1676, 168, 21, 858, 1677, 888, 597], [3, 53, 1, 344, 417, 676, 926, 1242, 2, 1, 361, 69], [1, 960, 2, 7, 2844, 2845, 15, 599, 1243], [1, 153, 2, 545, 945, 1238, 489, 65, 29, 1, 171, 2, 70, 622, 1, 13, 2846, 21, 961, 8, 66, 1163], [33, 14, 172, 6, 90, 30, 10, 96, 9, 6, 455, 49, 10, 7, 23, 104], [782, 41, 75, 414, 7, 14, 962], [1678, 1679, 41, 446, 339, 936, 601, 1025, 3, 2847, 2848, 1680, 527, 2849, 1060, 4, 2850, 1206, 18, 80, 18, 2851, 2852, 188, 1681, 208, 188, 4, 2853, 2854, 84, 188], [33, 14, 72, 5, 6, 32, 40, 10, 9, 6, 32, 42, 10], [1, 724, 549, 15, 27, 2855, 299, 951, 1, 1682, 86, 34], [372, 107, 2856, 1576, 2857, 584, 829, 37, 1614, 584, 288], [61, 2858, 318, 963, 2, 65, 5, 32, 39, 28, 52, 24, 31, 28, 216, 75, 27, 331, 1495, 16, 2859, 87, 577, 3, 48], [386, 12, 197, 1683, 5, 2860, 1, 54, 2861, 18, 337, 78, 722, 2862, 101], [20, 26, 89, 5, 6, 1225, 42, 10, 9, 6, 2863, 3, 1, 68, 35, 3, 70], [3, 53, 1, 388, 2, 1658, 41, 34, 43, 15, 117, 1116, 1127, 5, 237, 156, 155, 1244, 1245, 4, 1684, 8, 1, 2864, 2865, 212, 2866, 484, 56, 2867, 3, 205, 46], [1, 79, 2868, 7, 1246, 533, 905, 328, 8, 750, 4, 181, 73, 122, 595, 2869, 2870, 2871, 4, 2872], [122, 13, 4, 827, 54, 181, 19, 1211, 18, 80, 18, 407, 1474, 181], [125, 2873, 16, 267, 1685, 41, 2874, 2875, 1169, 37, 1, 835, 3, 1, 1226], [1, 149, 964, 1686, 37, 91, 159, 122, 1230, 263, 1247, 61, 2876, 4, 1687, 1248, 1688, 629, 8, 1, 1248, 2, 1249, 2877, 4, 2878, 18, 80, 18, 613, 4, 2879, 209, 8, 1, 2880, 2, 100, 613], [2881, 1671, 206, 20, 26, 2, 6, 2882, 4, 33, 14, 2, 6, 1148], [1, 51, 11, 107, 590, 89, 9, 6, 1204, 50, 10, 3, 50, 48, 5, 6, 293, 31, 10, 3, 30, 46], [25, 176, 126, 783, 63, 280, 34, 16, 199, 40, 46, 56, 43, 255, 7, 50, 39, 28, 52, 151, 17, 28, 79, 5, 393, 4, 1689, 176, 1690, 8, 2883, 784, 207, 3, 1250, 1691, 208], [463, 69, 3, 571, 215, 308, 181, 67, 524, 538, 7, 69, 566, 77, 1, 463, 247, 3, 571], [1, 1101, 41, 119, 506, 29, 1242, 1018, 1415, 168, 767, 1692, 1, 137, 34], [880, 316, 3, 61, 156, 3, 73, 475, 3, 1, 55, 2884, 59, 2885, 3, 470, 616], [1235, 1043, 99, 12, 7, 133, 13, 8, 488, 55], [180, 597, 75, 373, 2886, 67, 309, 5, 113, 534, 5, 1, 25, 13, 11, 123, 56, 722, 78, 113, 3, 1223, 69, 98, 78, 448, 1, 641, 5, 534, 113, 386], [334, 3, 286, 133, 593, 29, 42, 39, 28, 52, 49, 49, 28], [1, 635, 83, 2, 158, 187, 11, 347, 334, 16, 90, 112, 46, 238, 5, 1693, 809, 49], [1, 965, 885, 7, 58, 485, 965, 624, 474, 37, 1, 58, 485, 966, 444, 4, 7, 92, 485, 965, 624, 474, 37, 1, 92, 485, 966, 444, 29, 918, 1, 58, 485, 965, 624, 422, 2887, 77, 7, 2888, 2889], [598, 12, 7, 215, 1094, 4, 263, 500, 967, 16, 1, 267, 863, 156, 4, 869, 671, 1096], [197, 87, 326, 95, 327], [3, 1, 202, 4, 633, 968, 429, 26, 89, 19, 243, 24, 5, 6, 2890, 32, 10], [230, 14, 650, 5, 6, 175, 50, 22, 9, 6, 31, 17, 22], [679, 34, 43, 41, 255, 61, 107, 290, 264, 127, 28, 6, 5, 393, 2891, 1694, 113, 881, 5, 1424, 1468, 19, 544, 969, 84, 13, 2892, 51], [25, 696, 164, 405, 695, 88, 253, 85, 2893, 414, 16, 453, 360, 112, 7, 14, 962, 8, 1, 118, 38, 2, 46], [1112, 531, 1251, 849, 2894, 1695, 1252, 5, 147, 5, 27, 603, 18, 211, 1557, 1252, 98, 2895, 2896, 304, 2, 26, 1103, 5, 1, 490, 403, 77, 114, 5, 1, 581, 582, 403, 4, 1, 1696, 5, 110, 1253], [1, 2897, 34, 56, 1, 573, 3, 14, 44, 1587, 19, 1, 562, 1254, 2898, 839, 37, 1, 457, 2899, 3, 86, 1077, 2900, 3, 7, 835, 3, 616, 8, 21, 84, 18, 123, 1697, 43, 2901, 1612, 5, 437, 76], [3, 21, 87, 137, 524, 16, 431, 1698, 34, 21, 20, 14, 2902, 5, 2903, 2904, 324, 3, 47, 9, 7, 23, 104, 1699, 2905, 324, 4, 1143, 7, 219, 462, 148, 5, 1699, 219, 93, 54], [20, 26, 74, 5, 2906, 3, 143, 5, 240, 47, 9, 2907, 7, 23, 104], [280, 697, 7, 127, 114, 115, 26, 167, 4, 7, 528, 230, 174, 8, 47], [9, 2908, 5, 1, 1700, 2909, 2, 1, 832, 2910, 2911, 1217, 1218, 44, 526, 3, 2912, 19, 7, 51, 2, 1255, 2913, 3, 85, 18, 7, 1171, 55, 4, 2914], [33, 14, 268, 177, 297, 269, 74, 19, 284, 5, 6, 1256, 50, 10, 9, 6, 1198, 32, 10, 3, 1, 68, 35, 3, 46], [25, 43, 1571, 1062, 1572, 63, 307, 7, 20, 14, 2, 17, 32, 28, 52, 30, 39, 28, 8, 1, 58, 134, 139, 2, 48, 64, 5, 7, 20, 60, 2, 2915, 57, 52, 2916, 57, 8, 1, 102, 35, 2, 66], [2917, 785, 400, 336, 149, 1238, 2918, 381, 2919, 4, 2920, 5, 123, 3, 1, 131, 392], [1, 510, 4, 1093, 2, 1, 23, 917, 109, 436, 776, 95, 524, 3, 7, 109, 178, 303, 16, 235, 205, 917], [1, 86, 842, 7, 1036, 8, 2921, 54, 5, 443], [663, 63, 11, 144, 75, 1257, 29, 21, 2922, 329, 339, 685, 733, 2, 1, 1701, 5, 1413, 1, 1701, 641, 550, 144, 624, 1702, 331, 18, 62, 3, 221, 7, 953, 56, 62, 59, 694, 16, 7, 940, 1018, 16, 1, 404, 471, 1703, 2, 1, 940, 115, 137], [33, 174, 8, 1, 105, 233, 35, 89, 9, 1, 14, 2, 184, 32, 36, 275, 239, 89, 9, 2923, 42, 36, 18, 64, 5, 141], [150, 5, 748, 250, 11, 786, 511, 2924, 2925, 2926, 1, 13, 11, 144, 2, 354, 12, 705, 2927, 37, 748, 250, 11, 577], [33, 14, 44, 6, 39, 42, 10, 65, 9, 7, 60, 2, 6, 2928, 7, 23, 104], [1531, 294, 272, 88, 12, 296, 3, 85, 53], [2929, 5, 1, 2930, 787, 2, 1624, 577, 720, 15, 27, 1023, 146, 771, 101, 389, 133, 606, 2931, 2932, 9, 1625, 461], [1, 13, 11, 506, 2, 67, 185, 583, 261, 261, 1704, 1442, 261, 120, 823, 67, 4, 1027, 318, 67], [62, 2, 1057, 1500, 2933, 72, 17, 30, 3, 1, 1443, 384, 275, 1009, 86, 2, 2934, 2935, 62, 72, 30, 4, 1705, 62, 2936, 2937, 95, 65, 17, 40], [2938, 67, 289, 133, 67, 8, 1138, 2939], [2940, 2941, 1676, 1, 311, 367, 961, 101], [1, 13, 11, 20, 14, 72, 108, 32, 16, 1, 23, 5, 1706, 30, 22, 194, 3, 70, 16, 26, 2, 1643, 24, 22, 194, 130, 49, 65, 16, 1, 23, 1, 13, 34, 104], [1, 107, 885, 189, 113, 881, 8, 7, 1694, 520, 13, 34, 3, 7, 1707, 543, 19, 2942, 257], [2943, 182, 12, 7, 217, 2, 1258, 1708, 51, 1259, 4, 12, 7, 428, 5, 1258, 1709, 1165, 3, 1259], [14, 8, 1, 35, 136, 6, 623, 32, 10, 65, 9, 6, 293, 50, 10, 3, 1, 68, 35, 3, 66], [91, 549, 15, 117, 27, 667, 3, 1, 2944, 1620], [1710, 1711, 16, 1, 568, 2945, 2946, 2947, 4, 1712, 970, 1710, 1711, 12, 1520], [779, 322, 74, 19, 243, 5, 6, 32, 32, 10, 4, 1077, 241, 72, 19, 130, 24], [1, 174, 15, 75, 27, 2948, 19, 74, 351, 379, 1523, 37, 76, 3, 617, 4, 434, 379, 3, 1166], [3, 518, 2949, 59, 2950, 971, 4, 1012, 666, 595, 2951], [1, 1149, 12, 468, 3, 1, 972, 55, 708, 2952, 2, 2953], [91, 1713, 2954, 1072, 1260, 550, 222, 727, 25, 588, 222, 53, 99, 4, 222, 642, 464, 99], [3, 1140, 33, 14, 72, 5, 6, 2955, 57, 9, 6, 304, 57, 3, 1, 68, 35, 3, 70], [150, 5, 2956, 1, 13, 41, 197, 1157, 5, 568, 189, 113, 5, 147, 1714, 56, 12, 370, 1, 13, 12, 1715], [25, 176, 126, 783, 63, 103, 1716, 98, 280, 34, 97, 21, 20, 60, 2957, 5, 6, 551, 22, 140, 1717, 30, 36, 8, 1, 58, 134, 139, 2, 47, 9, 6, 2958, 22, 8, 1, 102, 35, 7, 23, 295], [1, 69, 703, 3, 1092, 37, 1, 225, 15, 1188, 16, 112, 449, 45], [2959, 170, 27, 448, 9, 2960, 4, 113, 910, 232, 3, 46], [33, 60, 136, 6, 39, 49, 10, 64, 5, 7, 14, 2, 6, 39, 24, 10], [732, 15, 2961, 61, 778, 329, 8, 729, 4, 201, 29, 2962, 85, 2963, 329, 1683, 2964, 154, 1, 102, 481, 29, 105, 90, 17, 90, 466, 36, 2965, 2966, 15, 27, 1718], [1719, 479, 1162, 212, 2967, 2968, 41, 75, 2969, 74, 4, 1, 652, 2, 479, 3, 2970, 2971, 41, 1432, 65, 1720, 120, 7, 2972, 3, 70, 2973, 34, 446], [3, 7, 1721, 5, 1254, 1534, 1722, 1, 610, 1723, 376, 13, 1032, 2974, 8, 1, 1724, 5, 27, 2975, 5, 7, 127, 1261, 3, 1615, 1702, 3, 47], [1, 142, 11, 1603, 59, 531, 3, 1, 1725, 2, 1171, 2976, 973, 18, 80, 18, 3, 1, 2977, 1726, 4, 2978, 567], [3, 199, 112, 46, 362, 11, 20, 26, 74, 5, 6, 2979, 49, 10, 64, 5, 6, 2980, 49, 10, 3, 1, 68, 35, 3, 48], [270, 43, 316, 7, 2981, 2, 698, 1727, 18, 80, 18, 134, 2982, 4, 2983], [974, 975, 11, 55, 3, 355, 630, 41, 115, 591, 2, 77, 31, 22, 424, 4, 385, 77, 32, 879, 287], [523, 15, 341, 422, 1556, 3, 1, 13, 11, 54, 1714, 43, 12, 117, 2984, 2985, 2986, 34], [20, 322, 9, 282, 529, 72, 5, 6, 124, 24, 10, 9, 6, 151, 39, 10, 4, 20, 322, 9, 177, 282, 529, 5, 6, 243, 42, 10, 9, 6, 127, 30, 10, 3, 45], [25, 572, 88, 56, 552, 788, 789, 4, 976, 525, 292, 475, 3, 1, 69, 521, 5, 1589, 26, 2, 572, 11, 789, 4, 1262, 788, 9, 1, 446, 281, 578], [106, 44, 65, 39, 105, 251, 5, 124, 304, 6, 120, 2987, 615, 1, 1728, 3, 482, 2988], [354, 4, 335, 2989, 1049, 2990, 1729, 266, 2991, 95, 2992, 5, 341, 101], [166, 33, 14, 4, 20, 26, 8, 1, 430, 233, 35, 74, 365, 9, 1730, 17, 36, 4, 2993, 42, 36, 18, 64, 5, 1, 68, 35, 3, 66], [1, 13, 15, 891, 7, 462, 2, 184, 105, 93, 54, 8, 46], [197, 475, 2994, 1, 2995, 99, 378, 173, 1263, 2, 62, 2, 847, 41, 1033, 553], [963, 2, 62, 1129, 27, 2996, 16, 348], [1, 250, 32, 15, 1731, 2997, 741, 4, 15, 1732, 94, 1203, 73, 15, 27, 1090, 3, 234, 1264, 1733], [1, 510, 4, 1093, 2, 109, 436, 776, 141, 59, 519, 16, 1, 51, 11, 649], [26, 74, 450, 5, 1715, 69, 486, 4, 74, 76], [120, 1, 254, 977, 51, 210, 15, 1732, 977, 1265, 7, 1266, 901, 4, 61, 128, 3, 695, 88], [1251, 157, 124, 24, 71, 5, 195, 17, 22, 301], [600, 11, 978, 1734, 935, 885, 129, 2998, 287, 1, 13, 34], [1729, 117, 2999, 5, 1, 916], [18, 61, 3000, 5, 1, 54, 178, 663, 785, 7, 666, 300, 1735, 29, 1, 83, 2, 17, 284, 52, 17, 40, 93, 54], [3, 116, 409, 45, 1, 51, 11, 26, 172, 6, 40, 3001, 40, 10, 73, 44, 7, 573, 2, 105, 42, 9, 1, 102, 35, 2, 46], [1, 13, 206, 7, 60, 8, 1, 35, 2, 6, 39, 32, 10, 64, 5, 7, 60, 2, 6, 17, 50, 10, 3, 1, 68, 35, 3, 70], [333, 842, 7, 395, 5, 528, 167, 8, 1, 306, 321, 3, 198], [20, 26, 2, 3002, 11, 569, 55, 163, 790, 678, 7, 438, 2, 1267, 1037, 3003, 89, 5, 6, 3004, 24, 10, 9, 6, 1736, 17, 10, 3, 116, 112, 70], [278, 1, 20, 26, 759, 5, 6, 1737, 42, 22, 9, 6, 17, 30, 227], [1, 137, 495, 1365, 155, 220, 833, 375, 4, 1040, 675, 496, 221, 18, 834, 1366, 88, 310, 88, 310, 676, 260, 1367, 1368, 84, 260, 677, 173, 51, 1369, 678, 260, 1, 1370, 1371, 1372, 13, 4, 1373, 51, 260], [979, 7, 196, 2, 600, 51, 690, 77, 252, 2, 1, 544, 69, 3, 21, 1725, 4, 547, 581, 582, 1738, 946, 3005], [389, 1739, 3006, 382, 2, 43, 272, 1681, 691], [1, 107, 122, 7, 1695, 735, 250, 1268, 250, 4, 3007, 250, 8, 1, 113, 2, 3008, 515, 1462, 980, 8, 3009, 11, 3010, 520, 972, 208], [1, 79, 15, 570, 787, 3, 45, 8, 7, 344, 98, 911, 23, 35], [3011, 29, 717, 346, 1740, 3012, 1392, 559, 1266, 294, 1269, 1270, 114, 3013, 141, 100, 1270, 1044, 3014, 402, 758, 1740], [337, 3015, 3016, 37, 1, 568, 101, 389, 3017, 3018, 452, 774, 605, 43, 11, 3019, 1, 960, 2, 242, 457, 1271, 4, 41, 7, 3020, 3021, 5, 43, 101], [1, 500, 1356, 923, 8, 100, 766, 4, 110, 294, 84], [663, 296, 3, 1741, 53, 12, 61, 128, 13, 967, 16, 1742, 4, 3022, 3023, 25, 155, 33, 3, 1, 3024, 712], [736, 1272, 3, 1743, 736, 1272, 12, 7, 191, 13, 73, 1273, 981, 4, 247, 1099, 495, 4, 3025, 8, 473, 596], [14, 8, 1, 35, 44, 6, 24, 50, 10, 65, 9, 6, 17, 31, 10], [3, 1, 171, 2, 66, 1, 262, 2, 3026, 15, 443, 5, 745, 304], [3027, 1744, 3028, 3029, 12, 7, 1274, 2, 643, 791, 3030, 720, 3031, 778, 216, 27, 1745, 4, 3032, 3033], [18, 37, 110, 3034, 558, 41, 119, 1205, 3, 1, 3035, 3036, 4, 1570, 3037, 16, 1, 3038, 2, 3039, 3040, 5, 1, 1073, 392, 2, 242, 156], [29, 1, 3041, 2, 25, 201, 13, 501, 201, 11, 851, 308, 606, 3042, 3043, 3044, 29, 1, 53, 3045, 308, 950, 29, 1, 1746, 3046, 2, 3047, 41, 3048, 65, 7, 1126, 3049, 8, 53, 11, 539, 1226, 19, 762, 7, 1747, 349, 19, 1, 1748, 2, 3050], [158, 61, 1562, 606, 41, 6, 3051, 290, 2, 947, 192, 169, 3, 1, 182, 403], [815, 292, 21, 20, 26, 8, 1, 499, 47, 5, 148, 9, 1, 45, 773, 494, 330, 1749, 6, 1224, 22], [504, 59, 505, 1419, 313, 8, 3052, 125, 192, 1066, 580, 853], [1, 1750, 784, 3053, 15, 27, 512, 5, 1, 949, 9, 242, 224, 3, 3054, 53], [1190, 11, 1423, 1275, 4, 3055, 55, 3056, 1648, 661, 26, 1136, 19, 154, 17, 251], [334, 59, 117, 327], [3057, 12, 33, 7, 338, 285, 2, 108, 913, 822, 19, 25, 177, 237, 464, 3058, 3059, 99, 4, 1751, 3060, 99], [1, 286, 1752, 792, 117, 1578, 5, 332, 110, 106, 1564, 3061, 1, 13, 34], [150, 5, 182, 87, 51, 333, 11, 982, 1332, 3062, 91, 552, 106, 11, 590, 1073, 1720], [1131, 3063, 3064, 3065, 1597, 3066, 4, 15, 27, 145, 3, 53], [1016, 448, 61, 33, 14, 2, 6, 3067, 39, 10, 65, 9, 6, 3068, 40, 10, 73, 448, 48, 7, 1184, 23], [197, 87, 98, 1753, 326, 95, 327], [765, 183, 93, 54, 228, 72, 5, 6, 31, 1717, 9, 6, 39, 219], [1, 3069, 1754, 850, 3, 166, 1, 1216, 983, 4, 1, 3070, 1272, 1209], [1, 843, 1246, 533, 328, 122, 1755, 8, 904, 4, 1160, 331, 1161, 533, 4, 905, 2, 750, 465, 621, 465, 545, 181, 401, 4, 332, 556, 2, 390, 67, 3, 166, 100, 4, 351, 218], [1, 3071, 2, 1756, 15, 75, 1047, 467, 11, 125, 609, 101, 3072, 3073, 1757, 188, 2, 467], [25, 244, 79, 438, 782, 206, 20, 26, 2, 6, 1758, 30, 10, 3, 66, 96, 9, 6, 3074, 42, 10, 3, 70], [25, 725, 13, 1684, 216, 197, 3075, 3076, 7, 3077, 549, 2, 984, 1580, 5, 21, 123], [395, 16, 128, 3078, 44, 32, 17, 64, 5, 455, 49, 3, 1, 58, 179, 2, 46], [3079, 3080, 3081, 298, 3082, 62, 460, 39, 219, 2, 1, 54, 125], [1, 13, 216, 117, 1759, 65, 3083, 514, 3084, 278], [14, 161, 356, 44, 6, 24, 32, 10, 65, 9, 6, 31, 42, 10, 7, 23, 104], [33, 14, 268, 177, 297, 269, 238, 5, 6, 213, 42, 10, 96, 9, 6, 647, 31, 10, 23, 16, 23], [494, 1, 286, 12, 1760, 3, 53, 43, 12, 75, 3085, 3, 1, 542], [1, 76, 5, 27, 353, 185, 245, 209, 3, 53, 604, 571, 4, 1276, 18, 80, 18, 26, 209, 3, 793, 4, 1140], [3086, 1761, 210, 75, 289, 3087, 781, 4, 1200, 3088, 5, 660, 1096, 2, 156, 18, 80, 18, 84, 603, 3, 794, 3089], [230, 14, 89, 5, 6, 293, 49, 10, 9, 6, 213, 49, 10, 3, 1, 273, 38, 2, 70], [110, 326, 95, 117, 474], [463, 69, 3, 669, 830, 215, 308, 181, 67, 524, 538, 7, 69, 566, 77, 1, 463, 247, 3, 669, 830], [37, 1, 472, 173, 1654, 757, 3090, 7, 249, 3, 1, 1100, 1762, 4, 180, 123, 59, 1763, 16, 329, 1, 3091], [277, 9, 199, 5, 112, 157, 175, 71, 5, 52, 30, 31, 227, 1, 25, 13, 34, 453], [3092, 99, 41, 104, 119, 3093, 192, 1, 926, 2, 3094, 99, 4, 1, 1645, 335, 192, 1, 639, 225], [1, 784, 15, 27, 17, 30, 1764, 311, 4, 12, 468, 236, 3095, 19, 1, 937, 3096, 4, 1, 81, 401, 3097, 3, 3098, 19, 1, 937, 3099], [197, 87, 326, 95, 3100], [1, 348, 35, 2, 1765, 749, 135, 3101, 3102, 776, 15, 171, 16, 235, 312, 48], [1, 1766, 100, 611, 3103, 778, 530, 236, 3104, 1, 3105, 3106, 4, 3107, 37, 257, 3108, 56, 248, 3109, 1, 1766, 100, 611], [432, 985, 5, 3110, 369, 7, 432, 985, 1186, 3111, 3, 24, 94, 3112, 161, 1, 1065, 2, 1, 907, 1277, 39, 114, 3113, 3114, 383, 98, 17, 3115, 3116, 3117, 447], [1, 291, 125, 2, 266, 535, 12, 152, 5, 27, 6, 1147, 1767], [1, 222, 51, 538, 265, 56, 1, 121, 203, 139, 2, 1, 359, 23, 3118, 5, 43, 7, 302, 60, 2, 146, 162, 179, 7, 227, 1408, 6, 634, 28, 8, 1, 1768, 38, 3119], [542, 1769, 392, 1770, 873, 3120, 3121, 483, 1771, 3122, 1772, 1773, 357, 159, 960, 3, 140, 3123, 32, 36, 556, 1266, 398, 1154, 189, 109, 1551, 421], [1, 963, 404, 12, 205, 138, 47], [1, 689, 3124, 2, 1, 980, 3125, 12, 3126, 145, 16, 1, 3127, 4, 1774, 2, 1, 980, 84, 18, 80, 18, 19, 3128, 1, 3129, 2, 1, 1268, 3130, 4, 3131, 1, 1268, 537], [175, 190, 47, 25, 1775, 3132, 13, 1776, 1278, 357, 103, 3133, 34, 97, 21, 20, 14, 72, 5, 1730, 50, 36, 8, 1, 58, 134, 139, 2, 47, 9, 820, 17, 36, 8, 1, 102, 35, 7, 23, 104], [469, 79, 245, 67, 1030, 1777, 41, 3134, 612, 37, 430, 81, 123, 3, 1778], [1, 6, 39, 40, 22, 177, 297, 900, 78, 119, 795, 8, 1, 118, 38], [3, 116, 240, 47, 765, 60, 93, 54, 593, 29, 184, 31, 394, 184, 17, 3, 1, 58, 179, 2, 45], [252, 143, 47, 25, 131, 4, 263, 13, 717, 63, 103, 3135, 34, 97, 43, 1015, 5, 7, 20, 60, 2, 1279, 31, 36, 3, 1, 58, 38, 2, 47, 9, 7, 20, 14, 2, 1549, 24, 36, 3, 1, 68, 35, 121, 23], [1138, 328, 7, 215, 13, 1150, 3, 561, 5, 470, 55, 537, 1588, 41, 265, 1, 326, 2, 21, 1779, 8, 3136, 342], [1, 153, 15, 27, 3137, 29, 1, 733, 404], [1, 351, 367, 79, 2, 259, 1182, 3138, 1, 457, 400, 606, 2, 469, 11, 1780, 76, 15, 1781, 19, 1, 171, 2, 1, 23], [43, 1782, 3139, 56, 25, 376, 13, 748, 250, 15, 1783, 1, 3140, 43, 1784, 5, 107, 21, 81, 3141, 3142, 1785], [1, 121, 38, 44, 1, 1581, 38, 2, 45, 3, 20, 26, 4, 1, 33, 425, 72, 5, 105, 30], [685, 733, 2, 1, 254, 3143, 170, 1783, 160, 1786, 40, 36, 8, 21, 249, 3, 3144], [26, 3, 53, 72, 19, 31, 50, 4, 319, 167, 44, 39, 40], [1, 83, 2, 1, 159, 44, 117, 327], [1433, 1434, 982, 3145, 872, 1787, 314, 1788, 16, 3146, 9, 1789, 101, 5, 1210, 101, 3, 248], [25, 497, 206, 21, 33, 14, 74, 5, 6, 114, 24, 10, 3, 70, 9, 6, 50, 31, 10, 3, 141, 4, 20, 26, 136, 6, 1224, 31, 10, 65, 9, 6, 3147, 32, 10], [1, 79, 373, 1, 245, 1790, 823, 4, 540, 2, 1, 176, 1231], [572, 88, 1280, 56, 1, 368, 894, 342, 56, 644, 3, 626, 70, 589, 26, 226, 4, 152, 167, 3, 241, 2, 1262, 788, 15, 458, 1, 13, 11, 76, 146, 1425], [228, 9, 562, 76, 416, 3, 29, 39, 90, 6, 65, 9, 39, 154], [31, 116, 198, 878, 3148, 320, 86, 103, 3149, 743, 86, 103, 1528, 4, 3150, 3151, 1791, 3152, 7, 78, 474, 7, 3153, 3154, 250, 2, 492, 5, 1191, 63, 103, 1792, 1, 25, 131, 500, 34, 16, 431], [1, 51, 3155, 5, 1071, 1467, 4, 231, 517, 3, 1106, 4, 1107, 1108, 5, 1109, 3, 1, 721, 2, 1, 542, 370, 43, 722, 316, 7, 680, 245, 4, 407, 142], [3156, 3157, 4, 3158, 3159, 1, 382, 2, 3160, 355, 630, 55, 142, 15, 137, 5, 3161], [33, 14, 74, 19, 3162, 17, 5, 6, 49, 31, 10, 9, 6, 31, 32, 10], [25, 413, 181, 653, 165, 411, 654, 63, 103, 1020, 34, 986, 43, 1793, 5, 7, 20, 14, 2, 6, 30, 40, 22, 140, 31, 49, 36, 8, 1, 58, 134, 139, 2, 47, 394, 7, 20, 60, 2, 6, 3163, 57, 8, 1, 102, 35, 2, 45], [3, 682, 47, 360, 248, 47, 25, 1192, 923, 126, 921, 99, 103, 1585, 34, 97, 43, 1124, 5, 7, 20, 14, 2, 276, 42, 36, 3, 1, 58, 38, 2, 47, 394, 7, 60, 2, 1663, 3, 1, 68, 35, 121, 23], [25, 201, 51, 497, 41, 414, 7, 14, 962], [259, 677, 978, 3164, 41, 119, 955, 786, 511, 2, 469, 79, 245, 67, 1644, 210], [1794, 763, 29, 3165, 667, 3166, 3167, 1, 827, 3, 1, 1211, 4, 7, 302, 215, 3168], [1795, 51, 15, 78, 455, 50, 2, 315, 109, 3, 1, 81, 13, 4, 1796, 258, 32, 37, 7, 1797, 1543, 2, 114, 40], [1, 398, 792, 117, 78, 5, 27, 9, 1, 987, 988, 98, 796, 392, 18, 311, 18, 43, 41, 3169, 37, 343, 989, 990, 11, 110, 567], [29, 171, 509, 320, 44, 333, 11, 882, 639, 37, 7, 114, 42, 249, 908, 19, 1, 397, 37, 195, 50], [1, 1798, 3, 731, 3, 1092, 37, 1451, 30, 575, 50, 2, 1, 25, 1014, 247, 1646, 12, 3170, 504], [3171, 5, 271, 49, 36, 50, 3172, 3173, 298, 190, 45, 25, 200, 4, 1247, 405, 1799, 63, 103, 3174, 98, 1800, 34, 97, 56, 21, 20, 60, 493, 5, 271, 49, 36, 8, 1, 58, 134, 139, 2, 45, 9, 3175, 42, 36, 8, 1, 102, 35, 7, 23, 295], [1, 813, 153, 12, 258, 22, 220, 300, 2, 94, 22, 18, 20, 951, 3176, 2, 991, 4, 114, 22, 290, 2, 695, 62, 5, 27, 414, 5, 977], [242, 123, 903, 9, 1, 471, 321, 691, 447, 3177, 604, 1281, 793, 617, 208, 592, 1801, 1259, 3178, 1769, 669, 830, 3179, 53, 1802, 147, 3180, 3181, 557, 1506, 992, 1282, 1139, 4, 3182], [529, 3183, 1049, 27, 3184], [226, 4, 387, 578, 2, 413, 84, 89, 1237, 3, 70], [120, 1, 580, 35, 1772, 355, 527, 1661, 870, 3185, 1770, 265, 528, 313, 37, 3186, 3, 7, 3187, 1803, 30, 1343, 1804, 8, 1418, 3188], [20, 26, 193, 19, 24, 9, 1, 359, 1022, 35], [1, 3189, 59, 1805, 5, 3190, 1748, 4, 1, 3191, 2, 85, 1741, 1746, 1283, 53, 3192, 3193, 874, 4, 3194, 4, 5, 3195, 5, 27, 265, 862], [338, 285, 585, 343, 3196, 44, 755, 1, 1155, 24, 49, 896, 1680, 24, 49, 442, 11, 413, 42, 17, 860, 338, 285, 3197, 42, 17, 3198, 53, 11, 100, 1806, 42, 17, 1032, 376, 250, 42, 31, 4, 381, 13, 85, 267, 42, 31], [142, 226, 8, 3199, 1727, 3200, 236, 3201, 57, 4, 3202, 57, 1, 13, 391], [120, 1, 434, 702, 11, 819, 186, 1121, 591, 3, 383, 15, 27, 3203, 57, 424, 879, 57, 825, 424, 3, 718, 916, 186, 4, 3204, 57, 424, 1807, 57, 825, 424, 3, 718, 1046, 186], [3205, 3206, 248, 124, 3207, 3208, 2, 3209, 3210, 41, 349, 61, 3211, 642, 8, 7, 631, 1, 472, 173, 1284, 3212, 231, 265], [1808, 3213, 402, 3214, 3215, 12, 217, 2, 1, 1808, 51, 7, 302, 3216, 3217], [1, 13, 316, 7, 472, 173, 196, 3, 3218, 3219], [114, 190, 47, 25, 516, 84, 13, 797, 63, 103, 1809, 34, 986, 56, 21, 20, 60, 493, 5, 3220, 8, 1, 58, 134, 139, 2, 47, 9, 3221, 31, 36, 8, 1, 102, 35, 2, 45], [3, 312, 3222, 1, 738, 2, 1, 939, 3223, 135, 1079, 353, 7, 82, 2, 114, 31, 22, 301, 2, 361, 61, 148, 2, 17, 50, 71, 9, 1, 26, 2, 195, 1810, 22, 301, 3, 312, 141], [3224, 41, 618, 21, 3225, 9, 921, 7, 25, 13, 56, 552, 100, 632, 1195, 19, 1173, 21, 724, 249, 5, 456, 128, 51, 1811, 8, 77, 52, 258, 22, 1812, 22], [197, 858, 1476, 404, 44, 474], [1, 334, 4, 936, 475, 1012, 1813, 3226, 2, 1, 1814, 1815, 4, 3227, 380, 368, 487, 2, 160, 40, 50], [305, 132, 563, 108, 45, 25, 169, 200, 164, 411, 964, 63, 103, 3228, 34, 97, 21, 20, 14, 72, 5, 6, 31, 24, 22, 140, 32, 24, 36, 8, 46, 9, 6, 31, 17, 22, 8, 48], [1, 291, 83, 2, 1, 288, 12, 701, 6, 3229], [16, 1008, 826, 1, 3230, 15, 1816, 192, 1, 827, 3231], [841, 3232, 3233, 5, 159, 37, 3234, 9, 7, 1817, 3235, 5, 1197, 1, 3236, 101, 389, 3237, 3238, 7, 3239, 29, 1, 1818, 1797, 440, 4, 1, 1818, 132], [25, 572, 88, 56, 1285, 3, 1262, 788, 789, 4, 976, 525, 206, 20, 26, 2, 6, 1277, 17, 10, 3, 1, 92, 38, 2, 47, 65, 9, 6, 455, 31, 10, 3, 1, 92, 38, 2, 45], [638, 187, 13, 607, 325, 114, 48, 29, 130, 213, 61, 115, 3240, 2, 638, 11, 109, 178, 4, 87, 440, 1819, 3, 66, 12, 519, 16, 1, 13, 11, 649, 29, 1, 1820, 345, 638, 346], [239, 72, 5, 3241, 9, 3242], [1, 87, 326, 2, 1, 323, 95, 117, 327], [1, 645, 248, 27, 908, 971, 16, 1, 13, 649, 29, 345, 280, 346, 523], [3, 1, 273, 38, 2, 66, 1174, 1286, 292, 1, 33, 671, 8, 1708, 4, 128, 67, 5, 599, 719, 5, 56, 3, 116, 112, 66], [1, 81, 935, 3243, 2, 234, 55, 209, 533, 1821, 4, 1822, 772], [1, 54, 125, 2, 501, 201, 88, 55, 1383, 3244, 32, 12, 6, 684, 3245, 3246, 587, 4, 43, 12, 944, 212, 1618, 3247, 1398, 62], [61, 956, 3248, 16, 1, 503, 248, 27, 1417, 264, 47], [475, 5, 1, 18, 777, 1115, 9, 1, 642, 95, 3249, 5, 1, 3250, 5, 3251, 560, 212, 1, 176, 4, 3252, 1267, 3253, 3254, 3255, 537], [594, 704, 13, 187, 594, 704, 13, 12, 61, 3256, 423, 515, 746, 946, 37, 21, 1409, 415, 16, 1823, 4, 3257, 762, 7, 191, 1035, 18, 3258, 5, 3259, 746, 318, 2, 1287], [25, 237, 156, 13, 343, 989, 990, 12, 1054, 475, 5, 21, 796, 286, 55], [779, 322, 72, 19, 138, 40, 5, 6, 124, 17, 10, 9, 6, 105, 49, 10, 3, 141], [1, 267, 392, 798, 8, 129, 293, 4, 1, 176, 156, 8, 77, 647, 2, 1, 1215, 241], [860, 3260, 1771, 11, 3261, 588, 4, 246, 1464, 872, 857, 1435, 1824, 18, 3262, 4, 1825, 3263, 3264, 3265, 18, 452, 3266], [1, 1288, 3267, 3, 1289, 37, 1, 1290, 59, 474, 37, 7, 1826, 1827, 7, 3268, 687, 3269, 1, 838, 163, 2, 1, 1288, 4, 1170, 59, 474, 5, 3270, 4, 3271, 7, 3272, 3, 1, 241, 1583, 19, 1, 1288, 1, 1290, 4, 1, 1826, 101], [811, 425, 44, 65, 9, 17, 32, 5, 24, 17], [510, 2, 1, 398, 95, 117, 327], [1, 500, 12, 296, 3, 716, 861, 53, 4, 41, 124, 214], [1291, 106, 766, 185, 3273, 1828, 3274, 1828, 3275, 3276, 3277, 3278, 3279, 3280, 3281, 3282, 1446, 3283, 3284, 3285, 3286, 3287, 3288, 3289, 3290, 3291, 3292, 3293, 3294, 3295, 3296, 3297, 3298, 3299, 1102, 1829, 3300, 3301, 1830, 3302, 1831, 3303, 1830, 3304, 1831, 3305, 3306, 3307], [1, 13, 12, 296, 3, 3308, 53, 4, 12, 610, 16, 1, 182, 178, 3, 85], [3309, 644, 5, 1545, 769, 11, 3310, 55, 3, 706, 66, 120, 3311, 3312, 13, 3313, 135, 536, 76], [1, 3314, 15, 27, 3315, 19, 626, 47], [8, 45, 20, 14, 44, 6, 31, 22, 4, 1, 13, 331, 7, 462, 2, 6, 17, 90, 3316], [3, 116, 112, 45, 1, 51, 11, 20, 723, 322, 74, 5, 6, 3317, 32, 10, 9, 6, 1011, 31, 10, 3, 116, 112, 46], [25, 1267, 191, 13, 790, 63, 912, 20, 14, 89, 5, 30, 42, 28, 52, 31, 49, 28, 8, 1, 58, 134, 139, 2, 48, 9, 40, 49, 28, 52, 108, 32, 28, 8, 1, 102, 35, 2, 66], [18, 217, 2, 1, 3318, 1832, 1292, 210, 15, 27, 944, 212, 1292, 210, 3319, 210, 3320, 611, 67, 210, 4, 3321, 210], [1833, 798, 8, 108, 24, 71, 2, 1, 992, 3322, 631, 69, 18, 2, 1, 171, 2, 143, 1834, 339, 753, 71, 4, 1835, 244, 195, 71, 150, 5, 1282, 145, 3323, 308, 51], [1, 13, 15, 27, 217, 2, 654, 11, 621, 4, 413, 164, 55, 163], [1, 137, 15, 27, 3324, 754, 30, 55, 1341, 2, 61, 107], [33, 174, 220, 177, 297, 269, 72, 5, 6, 3325, 9, 7, 60, 2, 6, 3326, 3, 45], [81, 279, 2, 1, 144, 2, 354, 259, 3327, 3328, 15, 1759, 7, 1836, 4, 3329, 3330], [1293, 162, 911, 287, 15, 991, 775, 612], [19, 151, 298, 1604, 16, 807, 62, 3, 3331, 182, 204, 3332, 17, 175, 5, 3333, 16, 1, 109, 178, 3, 1837, 120, 1827, 1207, 40, 799, 3, 1, 1513, 233], [1, 231, 517, 15, 443, 605, 1, 3334, 3335, 1406, 741, 1838], [804, 1112, 3336, 113, 386, 43, 15, 648, 7, 870, 8, 3337, 76], [1, 637, 15, 27, 603, 5, 3338, 993, 11, 1294, 492, 637, 1, 13, 34], [7, 82, 2, 127, 57, 81, 993, 62, 37, 7, 3339, 83, 2, 6, 17, 258, 93, 54, 95, 435, 236, 154, 4, 252, 205, 66, 1386, 1, 7, 840, 3340, 579, 145, 16, 1, 13, 11, 109, 436, 686, 1611], [1839, 187, 607, 124, 105, 47, 54, 868, 124, 105, 47, 3, 1, 85, 109, 178, 1839, 187, 352, 522, 7, 82, 2, 3341, 3342, 62, 220, 1, 62, 1130, 16, 124, 105, 47], [3, 48, 1168, 204, 239, 2, 3343, 30, 36], [3344, 906, 12, 270, 1, 1295, 33, 1296, 29, 106, 419, 218, 15, 3345, 614, 16, 24, 116, 47, 4, 570, 168, 18, 188, 1840, 17, 325, 47], [1, 13, 15, 681, 380, 326, 220, 1, 1420, 323, 3346, 4, 1, 576, 2, 1, 81, 1041, 754, 211, 821], [374, 144, 2, 354, 41, 75, 1257, 16, 7, 81, 54, 1263, 342, 687, 5, 1, 13, 11, 837, 169], [1, 13, 15, 458, 21, 441, 4, 26, 334, 3347, 3, 45, 1841, 146, 771, 3, 47], [158, 41, 317, 128, 800, 158, 958, 158, 191, 158, 282, 780, 4, 158, 256, 410, 4, 801, 2, 560, 41, 7, 1221, 418], [1, 291, 13, 204, 1536, 1537, 20, 26, 2, 1297, 28, 52, 3348, 50, 28, 4, 61, 33, 14, 2, 130, 28, 52, 154, 24, 28, 8, 66], [91, 1264, 12, 705, 1842, 5, 1, 1212, 364, 43, 12, 77, 5, 1843, 21, 351, 5, 100, 3349, 111, 3, 711, 1298, 711, 49, 248, 66], [60, 120, 87, 269, 172, 6, 50, 40, 10, 64, 5, 7, 14, 2, 6, 17, 31, 10, 3, 1, 68, 35, 3, 46], [1, 13, 316, 299, 317, 3350, 1206, 470, 525, 231, 983, 3351, 983, 18, 80, 18, 69, 707, 4, 267], [1, 430, 3352, 795, 7, 24, 30, 71, 167, 3, 984, 361, 26, 121, 23, 5, 3353, 175, 22, 301, 9, 1844, 959, 22, 301, 353, 3, 70], [25, 376, 13, 1299, 135, 230, 60, 172, 6, 42, 24, 10, 3, 1, 118, 38, 2, 45, 64, 5, 7, 14, 2, 6, 39, 31, 10, 3, 1, 118, 38, 2, 46], [3, 518, 1220, 4, 3354, 78, 802, 3355, 344, 23, 336, 612, 3, 53, 4, 78, 1533, 180, 1294, 336, 612, 3, 1, 456, 69, 8, 770, 344, 396], [7, 1750, 503, 8, 246, 12, 1, 3356, 3357], [1, 3358, 79, 44, 802, 121, 706], [305, 132, 563, 138, 45, 25, 3359, 1338, 144, 3360, 126, 852, 51, 63, 103, 3361, 34, 97, 43, 1153, 5, 7, 20, 14, 2, 6, 1081, 57, 140, 3362, 57, 8, 46, 394, 7, 20, 60, 2, 6, 1300, 31, 22], [183, 93, 54, 228, 238, 5, 276, 902, 96, 9, 271, 90], [21, 123, 185, 363, 155, 3363, 99, 3364, 99, 3365, 99, 3366, 1761, 99, 3367, 99, 4, 3368, 99], [33, 14, 193, 9, 6, 40, 50, 10, 3, 1, 92, 38, 2, 70, 5, 6, 24, 17, 10, 3, 1, 92, 38, 2, 66], [1118, 296, 3, 85, 3, 53, 3369, 4, 981, 488, 1248, 165, 8, 3370, 794, 3371, 401, 4, 156], [20, 26, 1152, 19, 90, 5, 6, 433, 22], [305, 132, 1670, 243, 45, 25, 100, 766, 126, 106, 63, 253, 3372, 34, 97, 21, 33, 14, 89, 5, 6, 24, 227, 140, 42, 24, 324, 8, 46, 9, 6, 49, 227, 8, 48], [77, 1301, 2, 1845, 51, 62, 59, 406, 19, 3373, 3374, 3375, 16, 1, 211, 836, 59, 3376, 1, 483, 13, 8, 1, 947, 2, 3377, 3378, 3379, 4, 314, 55, 1043, 219, 4, 1845, 3380, 1846, 3381, 4, 1846, 3382, 219, 16, 1, 110], [3383, 11, 610, 237, 156, 13, 740, 51, 822, 155, 3, 1, 3384, 574, 532, 19, 6, 31, 24, 10, 5, 6, 3385, 32, 10, 3, 47, 9, 6, 1847, 50, 10, 3, 1, 23, 161], [16, 1, 471, 3386, 123, 216, 1151, 9, 180, 633, 3387, 752, 180, 898, 59, 944, 236, 1817, 3388, 3389, 752, 1023, 267, 660, 84, 3390, 4, 994, 12, 1, 3391, 390, 2, 189, 898], [180, 3392, 78, 117, 1848, 119, 358], [513, 265, 1, 109, 436, 776, 46, 16, 195, 312, 46], [1, 109, 72, 8, 7, 118, 481, 16, 627, 3393, 21, 203, 481, 443, 5, 3394, 219, 98, 17, 49], [668, 11, 387, 15, 185, 7, 541, 718, 144, 250, 37, 309, 1849, 165, 4, 234, 3395], [26, 29, 1, 142, 3396, 121, 23, 120, 1, 156, 44, 1377, 19, 3397, 3398, 3, 1, 302, 3399, 3, 1, 1850, 2, 66, 3400], [1, 254, 2, 977, 991, 5, 695, 15, 174, 3, 7, 14, 98, 60, 73, 216, 117, 1848, 27, 1851, 3401, 5, 1852, 220, 1, 3402, 2, 1, 1735, 62, 5, 27, 543, 4, 3403, 178, 486], [1, 428, 15, 27, 366, 8, 1853, 26, 363, 1626, 2, 3404, 4, 120, 69, 67, 3, 617], [1217, 1218, 644, 1, 1403, 2, 3405, 3406, 3, 3407, 4, 1, 113, 2, 3408, 3, 1, 1854], [979, 1302, 1303, 41, 160, 219, 214, 29, 21, 317, 1738, 340, 73, 995, 532, 2, 271, 32, 36, 3409, 31, 36, 3, 47], [3410, 566], [25, 86, 2, 625, 206, 21, 33, 14, 193, 5, 6, 32, 50, 10, 3, 1, 118, 38, 2, 48, 9, 6, 24, 42, 10, 3, 1, 118, 38, 2, 66], [3411, 1855, 26, 95, 75, 3412, 3, 1, 640, 626, 4, 107, 3413, 59, 751, 5, 1, 171, 2, 1, 23], [25, 1174, 86, 41, 802, 7, 996, 225, 37, 1258, 550, 25, 155, 135, 334, 3, 147], [270, 1, 13, 3414, 698, 719, 1484, 3415, 4, 317, 3416, 3417, 3418, 19, 476], [3419, 196, 206, 21, 26, 74, 19, 50, 40, 5, 6, 1172, 17, 10, 9, 6, 647, 24, 10, 3, 1, 68, 35, 3, 66, 4, 26, 2, 1, 1121, 1271, 196, 74, 19, 124, 32, 5, 6, 799, 30, 10, 9, 6, 258, 32, 10, 3, 1, 68, 35, 3, 66], [643, 1700, 18, 12, 1035, 371, 1856, 117, 619, 62, 56, 371, 547, 3420], [32, 325, 198, 25, 413, 181, 653, 165, 411, 654, 63, 103, 1020, 661, 21, 20, 14, 3421, 5, 271, 17, 36, 8, 1, 121, 38, 2, 47, 9, 3422, 57, 8, 1, 102, 35, 2, 45], [3423, 3424, 559, 2, 1857, 4, 1, 382, 2, 1, 513, 429, 196, 15, 1858, 314, 457, 3425, 3, 3426, 45, 8, 7, 719, 760, 919, 1, 513, 51], [1244, 1245, 3427, 833, 1276, 84, 221, 18, 1410, 1411], [3428, 135, 67, 185, 928, 1304, 4, 3429, 37, 350, 2, 803, 1859, 3430, 3431, 4, 3432, 1773, 4, 3433, 481, 1304], [87, 510, 95, 117, 327], [3, 66, 3434, 22, 412, 3435, 2, 3436, 956, 3437, 3438, 492, 3, 956, 44, 3439, 37, 61, 1860, 69, 83, 3440], [1507, 1795, 547, 138, 17, 2, 1629, 299, 3441, 4, 32, 655, 2, 3442, 369, 61, 360, 24, 249, 3, 3443, 483], [197, 475, 3, 201, 3444, 95, 1861, 3, 190, 64, 37, 112], [154, 205, 198, 3445, 3446, 1280, 56, 386, 59, 482, 1862, 8, 1, 864, 100, 76, 2, 592, 11, 1796, 1445, 3447, 1269, 4, 208, 11, 442, 378, 1791, 3448, 3, 1, 825, 367], [1, 323, 12, 152, 5, 27, 1228, 19, 3449, 45], [3450, 296, 3, 3451, 208, 12, 7, 756, 3452, 704, 13, 1213, 1787, 3453, 1287, 84, 8, 1, 176, 156], [7, 329, 8, 1, 201, 4, 729, 15, 27, 339, 16, 1, 102, 481, 29, 94, 90, 7, 36, 29, 808, 876, 3, 85, 3454, 243, 7, 1, 478, 137, 15, 27, 3455, 19, 808, 11, 188, 1064, 3456], [446, 1, 224, 44, 152, 5, 27, 618, 19, 1, 171, 2, 46], [160, 31, 49, 28, 52, 24, 30, 28, 2, 1, 515, 398, 153, 15, 27, 331, 3, 300, 4, 1, 1863, 299, 7, 348, 597, 2, 7, 82, 2, 3457, 57, 81, 964, 62], [3458, 995, 20, 26, 2, 40, 24, 28, 52, 50, 42, 28, 3, 70], [541, 576, 2, 639, 3459, 3460, 3461, 1757, 8, 380, 778, 1186, 1289, 3462, 3463, 3464, 188, 1269, 1270, 50, 3465, 3466], [1864, 15, 27, 1718, 744, 29, 151, 90, 508, 18, 80, 18, 120, 1, 907], [1, 225, 122, 1, 1305, 537, 2, 786, 3467, 11, 393, 285, 3, 189, 1865, 370, 1, 13, 12, 270, 715], [91, 910, 27, 332, 2, 246, 29, 332, 229, 101, 3468, 34], [604, 683, 3469, 3470, 3471, 146, 229, 3472, 442, 162, 110, 1036, 3473, 3474, 1306, 43, 41, 7, 639, 56, 1232, 5, 619, 3475, 34], [3476, 3477, 12, 770, 621, 3478, 9, 232, 5, 1781, 762, 1, 106, 3479], [374, 421, 21, 224, 3, 454, 3, 640, 141, 4, 189, 113, 881, 9, 1, 949, 95, 3480, 5, 374, 11, 340, 3, 716, 53, 4, 1866, 447], [182, 1286, 78, 722, 204, 5, 1647, 615, 3481, 1639, 3, 734, 37, 3482, 333, 3483, 3484, 4, 1698, 580, 291, 1867, 3, 1339, 2, 17, 258, 227, 3, 1, 35, 48, 5, 47, 1868, 7, 3485, 2, 948, 1254, 3486, 3, 734], [1, 83, 2, 1, 79, 12, 3, 82, 3487], [3, 518, 5, 1, 3488, 88, 371, 12, 75, 270, 7, 624, 2, 1, 144, 2, 1, 471, 155, 3489, 88, 1146, 1515, 585, 1516, 1869, 1869, 3490, 1870, 1517, 99, 4, 3491, 99], [120, 1, 323, 36, 256, 15, 347, 90, 3, 1871, 1872, 4, 702, 154], [1, 159, 15, 78, 197, 423, 787, 16, 1, 3492, 13, 11, 742, 1307], [576, 2, 13, 3, 73, 731, 78, 119, 1177, 993, 63, 30], [14, 161, 356, 89, 19, 50, 5, 6, 3493, 49, 10, 3, 1, 58, 134, 139, 2, 46, 64, 5, 6, 3494, 17, 10, 7, 23, 104], [1, 254, 73, 15, 174, 3, 7, 3495, 2, 160, 6, 745, 22, 3, 1, 92, 38, 2, 47, 8, 1144, 1145, 3496, 1, 25, 13, 11, 3497, 5, 415, 16, 463, 1514, 4, 338, 76], [33, 14, 268, 177, 297, 269, 172, 6, 30, 30, 10, 96, 9, 6, 30, 40, 10, 3, 1, 68, 35, 3, 46], [25, 1086, 4, 1873, 126, 710, 88, 34, 16, 627, 360, 205, 56, 43, 41, 543, 7, 302, 107, 9, 3498, 3499, 3500, 5, 393, 189, 1086, 4, 1873, 8, 1, 3501, 553, 207, 3, 1, 388, 2, 700], [576, 2, 3502, 3503, 696, 3504, 2, 3505, 3506, 3507, 3508, 3509, 4, 3510, 3511, 197, 3512, 3513, 46, 3514, 2, 3515, 2, 737, 124, 1354, 3516, 404, 90, 886, 45], [3, 53, 1, 86, 2, 625, 206, 21, 33, 14, 193, 5, 6, 42, 17, 10, 3, 1, 92, 38, 2, 46, 9, 6, 40, 24, 10, 3, 1, 92, 38, 2, 48], [278, 1, 288, 543, 283, 1, 35, 192, 1236, 193, 19, 154, 38, 16, 38, 9, 1, 6, 3517, 22, 795, 3, 1, 92, 38, 2, 47], [1, 13, 34, 56, 270, 1, 3518, 407, 142, 3519, 12, 468, 3, 1106, 3520, 1, 407, 142, 3521, 4, 250, 561, 3522, 3, 1107, 1108, 3, 767, 604, 4, 1, 680, 245, 142, 1278, 4, 680, 407, 142, 1278, 383, 3, 1109], [33, 14, 8, 1, 134, 233, 35, 74, 9, 1024, 42, 36, 275, 20, 26, 74, 9, 3523, 40, 36, 18, 64, 5, 1, 68, 35, 3, 70], [33, 14, 268, 177, 297, 269, 44, 6, 40, 49, 22, 64, 5, 6, 108, 30, 22], [1, 3524, 3525, 122, 61, 3526, 3527, 991, 1302, 3528, 3529, 3530, 4, 1117], [1871, 1872, 15, 1822, 1, 963, 2, 1874, 1, 3531, 2, 125, 4, 1, 868, 2, 21, 347, 62, 37, 1, 535, 3532, 9, 21, 3533, 2, 1, 1448, 76, 4, 62, 3, 3534, 3535, 4, 19, 3536, 21, 1294, 1154, 629], [1, 13, 3537, 3538, 11, 84, 18, 80, 18, 110, 84], [1875, 155, 585, 3539, 4, 769, 1577, 197, 1275, 3540, 1875], [53, 11, 848, 746, 51, 3541, 34, 21, 273, 38, 20, 14, 146, 162, 3542, 16, 1, 1162, 2, 751, 215, 616, 8, 713, 176, 3543, 515, 516, 226, 4, 3544, 9, 1, 254, 2, 21, 191, 142], [3545, 1, 13, 15, 479, 1, 164, 5, 3546, 1, 1704, 2, 87, 728, 150, 5, 1066, 1057], [25, 86, 2, 625, 206, 21, 33, 14, 72, 5, 6, 175, 31, 10, 3, 1, 92, 38, 2, 45, 9, 6, 42, 17, 10, 3, 1, 68, 35, 3, 46], [3547, 1478, 41, 119, 3548, 19, 1, 1479, 51, 3, 660, 1025, 550, 1, 133, 2, 76], [3549, 272, 12, 519, 18, 7, 1219, 348], [278, 1, 1491, 2, 1, 331, 3550, 288, 157, 3, 45], [997, 11, 20, 26, 3, 1, 92, 3551, 240, 90, 95, 52, 3552, 40, 22, 77, 472, 173, 3553, 22, 7, 31, 31, 71, 148, 64, 37, 52, 3554, 42, 22, 8, 3555, 38, 121, 23], [1, 1696, 2, 21, 532, 15, 903, 9, 191, 612, 37, 110, 3556, 3557, 34], [3, 45, 310, 135, 300, 530, 9, 33, 350, 238, 5, 3558, 65, 9, 3559, 3, 1, 359, 23], [1, 228, 961, 44, 74, 19, 24, 42, 251, 8, 48, 4, 40, 39, 251, 8, 46], [526, 3, 3560, 1, 1650, 51, 12, 7, 1030, 25, 131, 1754, 37, 76, 3, 53, 1, 306, 321, 4, 147], [748, 250, 11, 461, 277, 74, 19, 24, 32, 5, 6, 175, 1308, 10, 4, 461, 241, 74, 19, 30, 32, 5, 304, 1876, 461, 209], [1, 13, 75, 955, 3561, 3562, 382, 2, 1, 844, 998, 142, 73, 122, 1, 3563, 998, 209, 3, 1877, 208, 4, 81, 3564, 447, 1, 142, 3, 3565, 793, 18, 80, 18, 3566, 4, 3567, 3, 3568, 4, 998, 111, 950, 182, 3, 1877], [1878, 1879, 1602, 86, 3569, 7, 1789, 135, 1788, 4, 7, 54, 153, 873, 2, 3570, 1309, 449, 40, 195, 52, 16, 456, 3571, 126, 1878, 1879, 378], [25, 320, 86, 2, 1682, 656, 86, 51, 206, 14, 161, 356, 2, 6, 816, 31, 10, 3, 47, 65, 9, 6, 634, 40, 10, 3, 45], [7, 3572, 1187, 19, 3573, 8, 320, 282, 3574, 56, 155, 59, 3575, 3576, 5, 3577, 375, 850, 738], [764, 11, 1880, 1359, 470, 973, 76, 73, 59, 531, 3, 383, 15, 27, 3578, 212, 7, 81, 580, 444, 18, 2, 17, 116, 45], [25, 1038, 1039, 191, 13, 374, 63, 253, 85, 1364, 377, 16, 453, 90, 190, 61, 33, 14, 2, 1279, 32, 36, 8, 116, 112, 46, 65, 9, 1440, 17, 36, 3, 1, 68, 35, 3, 48], [18, 7, 217, 2, 1, 225, 94, 214, 9, 1, 1111, 3579, 1095, 1550, 672, 15, 534, 5, 3580, 99], [1, 82, 207, 3581, 12, 203, 396, 4, 43, 12, 999, 29, 160, 1466, 24, 36], [145, 3, 85, 53, 997, 41, 1881, 3, 130, 182, 972, 4, 1283, 536, 321], [1, 281, 115, 83, 2, 1, 3582, 225, 12, 77, 6, 3583], [1135, 4, 13, 3584, 1856, 117, 395, 465, 986], [768, 1882, 648, 5, 3585, 752, 5, 479, 211, 893, 8, 1575, 1883, 2, 596, 220, 750, 687, 76], [399, 15, 75, 568, 3586, 3587, 11, 111, 4, 540, 55, 192, 1, 102, 3588, 37, 21, 111, 464, 8, 1199, 4, 1884, 164, 3, 1250], [25, 267, 13, 1885, 63, 34, 16, 409, 130, 48, 43, 44, 1805, 61, 794, 3589, 5, 1234, 7, 3590, 3591, 291, 3592, 4, 381, 3593, 224, 3, 3594, 3595, 3, 1283, 831], [33, 14, 136, 6, 3596, 65, 9, 6, 3597, 3, 141], [3598, 86, 3599, 866, 11, 20, 26, 29, 6, 3600, 3, 1, 92, 38, 2, 45, 4, 33, 14, 29, 6, 42, 32, 10], [333, 11, 3601, 3602, 1886, 8, 320, 5, 1310, 135, 34, 61, 982, 622, 320, 170, 3603, 5, 78, 61, 3604, 8, 333, 1000, 2, 1, 3605], [33, 60, 172, 6, 105, 40, 10, 64, 5, 7, 14, 2, 6, 154, 40, 10, 3, 1, 58, 179, 2, 46], [3, 1, 58, 134, 139, 2, 47, 1, 13, 11, 20, 60, 493, 5, 3606, 57, 9, 1279, 32, 36, 8, 1, 68, 35, 2, 45], [33, 14, 72, 5, 6, 31, 108, 10, 9, 6, 17, 243, 10, 3, 1, 68, 35, 3, 45], [1, 137, 3607, 16, 5, 1887, 3608, 495, 2, 911, 848, 536, 1216, 781, 155, 4, 1743, 495, 2, 110, 302, 675], [7, 181, 1037, 142, 3609, 1, 181, 3610, 3611, 3612, 4, 289, 1, 181, 5, 3613, 369, 660, 3614], [33, 14, 72, 5, 243, 17, 28, 6, 9, 195, 50, 28], [3615, 3616, 3617, 1632, 632, 3618, 106, 357, 12, 597, 49, 17, 227, 8, 583, 3619, 561, 3620, 357, 2, 3621], [33, 14, 72, 5, 6, 31, 30, 10, 9, 6, 17, 39, 10, 3, 1, 68, 35, 3, 46], [3, 1, 202, 4, 633, 968, 429, 26, 89, 19, 42, 31, 3622, 6, 3623, 17, 10], [107, 3624, 157, 19, 213, 23, 16, 23, 4, 90, 23, 16, 23, 365, 5, 6, 3625, 22, 4, 6, 17, 40, 227, 8, 1, 3626, 116, 112, 4, 199, 112, 47, 3627], [1, 3628, 3629, 59, 705, 756, 3, 3630, 275, 1, 3631, 1853, 3632, 3633, 1488, 720, 3634, 3635, 3636, 8, 180, 1287, 1774], [33, 14, 72, 5, 6, 50, 30, 10, 9, 6, 42, 49, 10, 3, 1, 68, 35, 3, 48], [20, 723, 322, 44, 6, 816, 30, 10, 65, 9, 6, 1342, 39, 10, 3, 46], [138, 409, 47, 25, 3637, 4, 1303, 13, 979, 63, 103, 3638, 34, 97, 56, 25, 397, 406, 128, 13, 1489, 99, 353, 21, 151, 40, 249, 3, 1, 13, 8, 7, 82, 2, 3639], [924, 1, 51, 11, 1197, 1590, 15, 78, 77, 3640, 49, 36, 3, 1591, 8, 47, 1, 13, 391], [702, 109, 193, 31, 71, 5, 52, 105, 551, 154, 449, 3, 640, 1505, 730, 3, 85], [333, 86, 378, 3641, 522, 42, 57, 501, 201, 62, 460, 39, 3642, 2, 54, 125, 4, 315, 223], [974, 975, 63, 34, 21, 92, 38, 174, 170, 427, 19, 179, 64, 37, 1, 102, 35, 3, 48], [33, 14, 172, 6, 24, 49, 10, 65, 9, 7, 60, 2, 6, 17, 40, 10, 3, 1, 273, 38, 2, 45], [1, 13, 41, 1, 3643, 906, 1232, 5, 3644, 287, 37, 1, 859, 631], [25, 516, 84, 13, 797, 63, 103, 1809, 34, 97, 21, 20, 60, 493, 5, 6, 546, 57, 140, 3645, 57, 3, 1, 121, 38, 2, 47, 9, 6, 24, 31, 22, 8, 1, 102, 35, 7, 23, 104], [532, 29, 1, 102, 229, 157, 151, 71, 5, 455, 22, 194], [3646, 51, 1311, 11, 1888, 3, 1889, 1890, 4, 355, 1141, 41, 802, 7, 1891, 225, 8, 7, 311, 367, 747, 3647, 37, 3648], [242, 375, 1892, 247, 59, 383, 544, 3649, 838, 721, 992, 1141, 4, 1166], [1885, 204, 446, 1669, 1, 397, 339, 249, 3, 3650, 94, 9, 3651, 3652, 283, 21, 3653], [1776, 1775, 3654, 45], [1, 13, 41, 61, 115, 239, 2, 3655, 49, 36], [43, 41, 160, 90, 548, 496, 4, 146, 162, 1242, 251, 2, 21, 20, 26, 59, 995, 919, 53], [3, 46, 1, 159, 12, 1456, 5, 1391, 487, 2, 6, 1181, 892], [372, 12, 296, 3, 454, 53], [1, 87, 1662, 12, 281, 5, 27, 61, 115, 968, 2, 271, 39, 36, 3, 1, 196, 11, 313, 18, 2, 664, 23, 46], [1, 13, 11, 1747, 12, 145, 16, 405, 3656, 131, 445, 4, 420, 1763, 207, 169], [1, 83, 2, 1, 107, 12, 264, 6, 384, 22], [1312, 309, 277, 72, 19, 24, 17, 5, 6, 1807, 49, 10, 9, 6, 3657, 24, 10, 3, 45], [1, 3658, 2, 1, 1785, 44, 777, 211, 922, 29, 7, 229, 4, 280, 512, 1, 998, 945, 8, 801, 922, 18, 131, 3659], [25, 638, 51, 11, 758, 107, 142, 1636, 1175, 41, 1893, 7, 1804, 441, 3660, 3, 147], [21, 69, 54, 12, 42, 71, 150, 5, 3661, 3662, 11, 46, 181], [33, 14, 44, 6, 17, 42, 10, 3, 70, 64, 5, 6, 24, 50, 10, 3, 141], [106, 4, 3663, 265, 56, 3664, 3665, 3666, 15, 27, 358, 16, 693, 3667, 862, 91, 23], [6, 816, 32, 10, 2, 91, 44, 20, 723, 322], [1, 82, 960, 2, 1, 897, 12, 264, 138, 57, 1894, 4, 1, 207, 15, 27, 3668, 3, 1733], [1, 13, 11, 14, 136, 3669, 3670, 384, 3, 3671, 48, 96, 90, 50, 23, 16, 23], [1, 13, 204, 20, 26, 2, 6, 94, 49, 22, 3, 46, 4, 97, 41, 129, 1196, 214, 3, 53, 1139, 4, 571], [1, 13, 1273, 981, 4, 247, 1497, 1099, 84, 8, 473, 596, 4, 470, 973, 221, 18, 1202, 542, 3672, 4, 182, 3673, 1599, 3674, 3675, 4, 1687, 3676], [1, 86, 12, 75, 3677, 1, 3678, 2, 1895, 1, 456, 55, 5, 1816, 18, 7, 588, 231, 643, 56, 1, 76, 170, 27, 3679, 19, 53, 11, 3680], [1, 82, 1185, 163, 2, 1, 224, 3681, 12, 298, 57, 620, 1158], [679, 296, 3, 3682, 53, 12, 7, 191, 13, 927, 1, 969, 84, 156, 496], [158, 37, 548, 3, 85, 831, 1837, 4, 1477, 1664, 182, 958, 1665, 191, 282, 780, 4, 256, 410, 535, 37, 129, 271, 42, 324, 3, 82, 125], [26, 574, 5, 1896, 17, 3683, 10, 64, 37, 1896, 17, 3684, 10], [1897, 1898, 145, 1122, 231, 636, 3685, 1686, 547, 4, 316, 231, 636, 3, 1, 1691, 472, 173, 967, 3686, 16, 1, 247, 2, 3687, 1899, 3688, 1897, 1898, 4, 3689], [3690, 3691, 44, 446, 133, 511, 8, 1244, 1245, 11, 3692, 55], [3693, 3694, 188, 2, 362, 3695, 34, 1, 13, 44, 967, 16, 1357, 4, 256, 410, 133, 69], [446, 1800, 512, 7, 1085, 328, 8, 1835, 244, 4, 352, 12, 703, 43, 1511, 519, 8, 110, 100, 611, 1762, 18, 80, 18, 5, 3696, 768], [91, 3697, 552, 1, 3698, 7, 3699, 553, 5, 1271, 8, 883, 9, 203, 849, 1655, 800, 3700, 3701, 3702, 4, 3703], [3704, 11, 231, 3705, 3706, 1, 1721, 622, 759, 3707], [230, 14, 72, 5, 6, 17, 3708, 10, 9, 6, 17, 3709, 3, 1, 68, 35, 3, 70], [1, 55, 12, 3710, 18, 2, 325, 17, 198, 3, 7, 953, 56, 113, 2, 642, 67, 12, 291, 212, 211, 3711, 1168, 76], [1, 1900, 792, 117, 185, 237, 1251, 9, 53], [1901, 3, 1313, 3712, 3713, 1688, 1001, 1088, 3714, 1001, 8, 3715], [1, 3716, 145, 3717, 1155, 665, 453, 11, 3718, 39, 17, 251, 65, 29, 1300, 3719, 602, 1902, 275, 1, 1605, 1606, 3720, 44, 17, 130, 96, 29, 31, 3721, 127, 1902], [150, 5, 1, 25, 544, 3722, 2, 1903, 189, 1, 302, 131, 155, 2, 53, 59, 33, 3, 147], [1, 92, 3723, 785, 541, 1904, 3724, 2, 332, 3725, 1586, 37, 3726, 756, 1905, 714, 53, 557, 793, 604], [617, 3727, 857, 3728, 3729, 3730, 4, 3731, 3732, 1, 92, 417, 100, 914, 3, 1, 542], [1, 1314, 12, 145, 777, 16, 3733, 173, 92, 1906, 767, 1314, 791, 3734], [20, 26, 72, 19, 138, 24, 23, 16, 23, 5, 3735, 42, 36, 18, 1, 262, 2, 1195, 512, 489, 65, 19, 799, 5, 1300, 50, 22, 3736], [3737, 99, 12, 7, 25, 869, 4, 131, 111, 13, 202, 3738, 4, 3739, 401, 1194, 473, 4, 401, 1907, 622, 75, 541, 1859, 1907], [1, 398, 877, 41, 117, 119, 327], [120, 1, 3740, 1, 262, 2, 677, 62, 15, 27, 50, 1908, 57, 4, 1, 262, 2, 7, 62, 498, 3741, 1908], [305, 132, 563, 105, 45, 25, 131, 13, 1191, 63, 103, 1792, 34, 97, 21, 20, 14, 89, 5, 6, 1172, 24, 22, 140, 1256, 17, 36, 8, 46, 9, 6, 587, 42, 22, 8, 48], [1182, 3742, 382, 2, 1, 514, 1378, 55, 29, 1455, 514, 389, 1, 521, 3743, 3744, 9, 180, 3745], [505, 33, 14, 9, 562, 76, 89, 19, 3746, 31, 5, 6, 502, 30, 10, 9, 6, 3747, 40, 10, 3, 48], [371, 1056, 314, 3748, 16, 199, 42], [1, 13, 1285, 3, 3749, 1594, 4, 817, 29, 131, 1608], [3750, 8, 1, 1492, 847, 187, 105, 90, 47, 414, 125, 1076, 1315, 1521, 641, 19, 1, 144, 16, 886, 235, 198], [815, 41, 1824, 3, 1, 342, 8, 1, 133, 2, 1, 864, 775, 274, 364, 48], [1, 3751, 13, 15, 341, 5, 27, 791, 1241], [3752, 1295, 55, 3753, 1296, 3754], [20, 26, 8, 1, 35, 59, 152, 5, 427, 80, 504, 56, 2, 121, 23, 4, 1, 174, 120, 177, 297, 269, 12, 152, 5, 27, 3, 1, 3755], [3756, 792, 117, 681, 21, 87, 313, 1, 803, 34], [3757, 165, 357, 3758, 180, 1909, 620, 1167, 196, 547, 4, 316, 1, 81, 1316, 3759, 1910, 418, 330, 75, 347, 1, 1909, 620, 1167, 1235, 1, 81, 1316, 3760, 1911, 418, 1, 81, 1316, 3761, 3762, 11, 1910, 418, 4, 1, 3763, 3764, 3765, 1911, 418], [3766, 3767, 243, 205, 198, 303, 404, 3768, 7, 82, 2, 130, 57, 594, 704, 13, 187, 11, 81, 62, 95, 435, 8, 283, 1, 35, 236, 17, 116, 198, 4, 871, 325, 198, 192, 1, 13, 11, 109, 436, 223, 1472], [222, 727, 12, 383, 11, 417, 79, 244, 126, 4, 41, 506, 65, 7, 142, 3, 3769, 3, 1079, 37, 3770, 1752, 2, 3771], [149, 15, 27, 1760, 3, 1074, 11, 3772, 3, 1426, 53, 4, 12, 507, 8, 1317, 283, 1, 58, 38, 2, 45], [25, 86, 2, 625, 15, 1843, 21, 311, 367, 775, 487, 3773, 29, 1, 1065, 2, 240, 47], [82, 33, 277, 157, 19, 284, 42, 23, 16, 23, 5, 3774], [1, 13, 41, 7, 3775, 648, 8, 3776, 221, 18, 1823, 3777, 3778, 3779, 4, 3780, 3, 21, 113, 34, 594], [1, 82, 3781, 2, 1, 207, 12, 77, 555, 57, 620, 1158, 4, 43, 12, 999, 29, 7, 82, 2, 264, 3782], [1, 55, 204, 915, 1912, 3783, 2, 3784, 32, 36, 1225, 24, 36, 3, 1313, 7, 20, 291, 1307, 2, 941, 4, 3785, 850, 3, 82, 37, 548, 3, 1, 691, 793, 4, 3786], [33, 14, 172, 6, 175, 17, 10, 65, 9, 6, 360, 42, 10, 3, 48, 460, 50, 40, 2, 20, 26], [14, 161, 356, 44, 6, 1318, 50, 1706, 40, 22], [925, 1, 1870, 1592, 55, 76, 1, 13, 3787, 302, 84, 4, 67, 1862, 375, 3788, 609, 4, 375, 214, 1253, 4, 855], [1051, 538, 265, 1157, 5, 1234, 21, 355, 527, 876, 29, 24, 55, 954, 3, 3789], [1, 79, 1390, 3790, 1, 3791, 2, 3792, 209, 18, 80, 18, 1719, 1337, 180, 484, 4, 3793, 3794], [790, 11, 20, 14, 8, 1, 118, 38, 2, 48, 477, 5, 30, 32, 28, 52, 31, 24, 28, 9, 31, 24, 28, 52, 24, 17, 28, 8, 1, 68, 35, 2, 66], [150, 5, 25, 3795, 86, 3796, 11, 153, 170, 27, 264, 6, 1147, 1767], [1, 3797, 59, 152, 5, 408, 115, 368, 487, 2, 160, 820, 3798], [700, 1441, 106, 865, 34, 43, 11, 255, 7, 344, 23, 67, 79, 5, 1731, 3799, 3800, 11, 257, 76, 3, 134, 1253, 3, 1778], [1, 107, 75, 373, 642, 67, 1247, 200, 3801, 18, 80, 18, 439, 67, 168, 430, 396], [957, 1913, 15, 78, 5, 3802, 1, 159, 161, 43, 216, 27, 1228], [801, 23, 928, 1914, 3803, 7, 146, 423, 1481, 3, 1915, 1916, 7, 3804, 637, 11, 3805, 692, 12, 3806, 98, 7, 3807, 101, 34, 1739, 3808, 511, 2, 441, 8, 3809, 11, 1914, 67, 196], [25, 86, 2, 625, 206, 33, 14, 2, 6, 30, 30, 10, 3, 1, 58, 38, 2, 47, 96, 9, 6, 42, 31, 10, 3, 1, 68, 35, 3, 45], [1, 58, 1803, 2, 1, 889, 897, 3810, 1, 733, 2, 160, 304, 57, 628, 36, 2, 889, 1083, 4, 1, 3811, 202, 3, 409, 46], [1917, 872, 3812, 3813, 1, 54, 873, 16, 456, 1918, 3814, 3815, 4, 3816, 126, 1917, 378, 5, 3817, 1309, 1204, 32, 258, 30, 52, 9, 3818, 1309, 623, 49, 293, 17, 52], [25, 3819, 51, 11, 33, 14, 72, 5, 6, 154, 24, 10, 3, 1, 58, 38, 2, 47, 9, 6, 49, 30, 10, 3, 1, 58, 38, 2, 45], [1490, 887, 3, 996, 37, 1, 3820, 3821, 3822, 75, 289, 541, 803, 432, 985, 4, 645, 1561, 18, 7, 111, 5, 335, 4, 523, 369, 1, 3823, 887, 218, 3824, 887, 803], [730, 1574, 1919, 262, 2, 62, 655, 3825, 153, 54, 3826, 120, 1, 534, 1002, 522, 7, 82, 2, 94, 3827, 3828, 347, 62], [1, 3829, 3830, 12, 349, 150, 5, 1, 853, 1920, 1921, 3831, 4, 1920, 1921, 3832], [25, 783, 41, 119, 459, 7, 79, 5, 393, 4, 1689, 176, 1690, 8, 1, 3833, 3834, 784, 3, 1250, 3, 208], [14, 8, 1, 35, 44, 6, 50, 49, 10, 65, 9, 6, 42, 39, 10, 3, 141], [183, 93, 54, 228, 238, 5, 184, 608, 65, 9, 1, 60, 2, 184, 3835], [1, 3836, 1922, 3837, 12, 7, 3838, 893, 5, 1151, 3839, 3840, 3841, 3842, 773, 4, 1922, 652], [371, 3843, 1857, 3, 1353, 5, 932, 211, 2, 21, 317, 55, 800, 4, 1183, 65, 1, 760, 2, 559, 4, 188, 3, 1923], [1, 13, 239, 238, 5, 1693, 284, 50, 3, 48], [1, 3844, 1260, 59, 5, 1820, 895, 3845, 5, 3846, 1, 76, 5, 1, 715, 113, 521], [87, 747, 4, 936, 1852, 59, 3847], [1, 224, 15, 3848, 545, 945, 9, 1, 306, 1319, 403], [3849, 3850, 2, 1, 3851, 922, 2, 3852, 3853, 3854, 7, 3855, 1509, 3856, 16, 1, 388, 11, 355, 485, 644, 1, 3857, 4, 489, 3858, 314, 1082, 77, 49, 7, 36, 627, 3859, 1, 3860, 3861, 1091], [2, 1, 13, 11, 20, 26, 555, 44, 1177, 3, 53, 175, 3, 110, 536, 321, 213, 3, 726, 4, 17, 3, 1, 246], [230, 60, 172, 6, 3862, 31, 10, 64, 5, 7, 14, 2, 6, 3863, 24, 10, 3, 48], [3864, 1, 13, 56, 552, 560, 310, 88, 44, 1924, 3, 3865, 494, 7, 1825, 3866, 1925, 1630, 3867, 44, 755, 7, 3868, 5, 1668, 7, 3869, 3870, 4, 3871, 818, 3, 1, 1742, 25, 3872, 2, 310], [1, 1926, 12, 3, 1659, 1178, 1, 171, 2, 1, 1320, 115, 400, 329, 4, 3873, 1, 1926, 5, 1310, 347, 62, 755, 19, 1, 400, 329, 339, 16, 143, 32, 48], [166, 259, 3874, 4, 259, 3875, 15, 27, 366, 75, 8, 1, 851, 135, 55, 174], [280, 11, 387, 578, 4, 1173, 226, 1003, 1163, 133, 4, 1, 13, 11, 658, 20, 26, 157, 19, 219, 23, 16, 23, 5, 3876, 188, 3877, 3878, 34], [1, 82, 83, 2, 266, 234, 938, 12, 168, 6, 175, 22], [488, 1927, 3879, 449, 426, 1815, 18, 801, 3880, 12, 3881, 5, 1, 1928, 37, 583, 690, 4, 1085, 3882], [3, 1, 92, 38, 2, 47, 1, 51, 11, 20, 14, 72, 5, 6, 31, 17, 22, 9, 6, 30, 24, 22, 3, 143, 240, 45], [56, 170, 27, 61, 148, 9, 281, 26, 2, 3883, 22, 121, 23], [1, 3884, 2, 1, 938, 1929, 1301, 3885], [1118, 11, 715, 3886, 3887, 895, 3888, 65, 5, 114, 1764, 18, 80, 18, 3889, 556, 4, 3890], [106, 3891, 11, 20, 26, 136, 6, 24, 40, 324, 65, 684, 9, 1, 68, 35, 3, 70], [1, 938, 236, 679, 88, 4, 3892, 3893, 969, 84, 452, 210, 73, 95, 265, 16, 31, 409, 47, 78, 1033, 787], [1, 51, 11, 105, 233, 33, 14, 157, 235, 71, 5, 3894, 49, 22, 194], [33, 174, 1003, 7, 60, 2, 6, 30, 50, 10, 275, 7, 23, 161, 43, 1003, 7, 14, 2, 6, 39, 42, 10], [1321, 444, 122, 3895, 1321, 4, 3896, 1321, 286, 3897], [25, 169, 200, 164, 411, 964, 63, 20, 14, 89, 5, 3898, 57, 52, 3899, 57, 8, 1, 58, 38, 2, 46, 9, 3900, 57, 52, 17, 39, 28, 8, 1, 102, 35, 2, 48], [348, 26, 89, 1004], [3901, 12, 1, 25, 222, 51, 1, 417, 536, 244, 245, 67, 13], [1, 257, 1078, 55, 12, 217, 2, 1799, 11, 1078, 4, 696, 55, 444, 4, 385, 623, 287, 3, 53, 4, 243, 287, 1930, 531, 3, 1, 246, 4, 726], [277, 157, 19, 30, 71, 5, 646, 3902, 22, 3903, 22, 9, 646, 3904, 22], [974, 975, 15, 828, 7, 195, 50, 251, 742, 723, 3, 1, 291, 13], [33, 14, 193, 5, 6, 252, 498, 10, 9, 6, 634, 1931, 10], [18, 221, 1, 517, 41, 3905, 969, 3906, 3907, 1, 1863, 2, 1, 970, 4, 7, 3908, 878, 3909], [300, 530, 9, 33, 350, 161, 334, 44, 6, 40, 42, 22, 6, 30, 24, 22], [1, 13, 792, 117, 681, 1, 877, 43, 1932, 8], [36, 4, 7, 1255, 2, 55, 772, 3910], [1, 3911, 51, 3912, 16, 3913, 83, 285, 101, 9, 3914, 5, 3915, 3916, 7, 1450, 1933, 2, 55, 3917, 220, 514, 1214, 746, 3918, 564, 988, 707, 186, 4, 781, 899, 1593], [1, 1874, 3919, 1137, 1129, 27, 3920, 9, 1, 54, 348, 153], [1, 232, 2, 1, 1260, 3921, 5, 790, 11, 1685, 342, 44, 265, 3, 190], [131, 763, 16, 1, 85, 3922, 950, 12, 5, 232, 91, 626, 37, 1, 82, 368, 2, 1, 207, 281, 29, 1297, 22, 194], [1, 13, 34, 56, 1, 76, 15, 27, 353, 5, 7, 3923, 526, 13, 3924, 1165, 370, 1, 715, 169, 2, 1, 3925, 55, 12, 7, 452, 774], [158, 11, 58, 256, 410, 437, 73, 204, 7, 82, 128, 591, 2, 52, 546, 22, 4, 421, 3, 240, 70, 657, 3, 1934, 636, 3, 1, 85, 3926, 163], [43, 307, 7, 239, 2, 32, 24, 28, 52, 42, 17, 28, 4, 61, 33, 14, 2, 17, 24, 28, 52, 30, 39, 28, 8, 66], [1084, 15, 3927, 21, 26, 4, 439, 111, 257, 212, 430, 1892, 800], [782, 414, 7, 14, 962, 16, 94, 143, 66], [25, 516, 923, 561, 797, 63, 34, 21, 20, 14, 489, 65, 5, 31, 24, 28, 52, 32, 24, 28, 3, 66, 9, 30, 30, 28, 52, 30, 49, 28, 3, 70], [61, 2, 1, 1935, 358, 19, 1, 1284, 231, 34, 7, 177, 3928, 1936, 1937, 12, 1924, 2, 34, 3929, 901, 1937], [3930, 3931, 260, 24, 1430, 3932, 62, 460, 32, 3933, 2, 1, 54, 125, 4, 315, 223], [337, 78, 7, 3934, 225, 37, 106, 357, 73, 3, 217, 3935, 16, 143, 50, 48], [1, 13, 352, 1280, 21, 20, 26, 3, 47, 5, 148, 3936, 9, 45, 4, 21, 33, 174, 5, 27, 3937, 528], [363, 757, 3938, 2, 1938, 1939, 3939, 3940, 389, 371, 15, 1289, 1, 169, 2, 25, 13, 797, 5, 1697, 318, 804, 386, 59, 332, 3941, 5, 1, 13, 11, 641, 5, 1080, 96, 21, 224, 3, 1938, 1939], [1, 521, 2, 718, 916, 261, 186, 15, 341, 5, 27, 3942], [5, 1298, 7, 1940, 1941, 2, 189, 1, 3943, 286, 1819, 9, 310], [600, 62, 421, 29, 646, 124, 1637, 3944, 1006], [1, 1001, 1187, 29, 106, 419, 135, 1942, 464, 2, 3945, 3, 454, 53, 3946, 1, 13, 11, 113, 232, 2, 1942, 1031, 3947, 3948, 515, 1203, 8, 1, 1042, 1322, 1290, 3, 143, 47, 4, 3949, 104, 1001, 37, 106, 16, 1, 3950, 1322, 4, 3951, 1322, 3952], [25, 201, 13, 497, 63, 11, 20, 14, 89, 5, 30, 24, 28, 52, 32, 39, 28, 8, 1, 58, 38, 2, 46, 9, 31, 39, 28, 52, 32, 40, 28, 8, 1, 102, 35, 2, 48], [1, 779, 34, 1, 3953, 3954, 4, 3955, 69, 44, 290, 77, 1538, 22, 194, 3, 1313], [150, 5, 25, 782, 11, 3956, 4, 279, 2, 1, 144, 3957, 1146, 3958, 1, 13, 41, 5, 934, 8, 167, 1930], [47, 124, 199, 47, 25, 176, 126, 783, 63, 103, 1716, 98, 280, 34, 97, 43, 1124, 5, 7, 20, 14, 2, 1555, 3, 1, 92, 38, 2, 47, 9, 7, 20, 60, 2, 3959, 3, 1, 68, 35, 121, 23], [43, 352, 547, 587, 3960, 62, 3, 1765, 749, 88, 3961, 39, 108, 2, 1, 13, 11, 54, 125, 4, 315, 223], [3, 1, 58, 38, 2, 47, 1, 1132, 5, 69, 174, 44, 7, 230, 14, 2, 6, 941, 22, 394, 7, 60, 2, 6, 634, 22, 3, 1, 102, 35, 121, 23], [1, 1323, 142, 41, 146, 162, 384, 402, 1324, 123, 4, 1, 262, 2, 115, 1026, 3962, 29, 1180, 211, 22], [61, 2, 1, 1935, 358, 19, 1, 1284, 231, 34, 1, 3963, 59, 3964], [25, 55, 200, 51, 3965, 63, 34, 21, 20, 14, 3966, 5, 17, 30, 28, 52, 17, 24, 28, 3, 1, 58, 134, 139, 2, 66, 9, 30, 30, 28, 52, 30, 49, 28, 3, 1, 102, 35, 2, 70], [14, 161, 356, 44, 6, 32, 39, 10, 96, 9, 6, 32, 50, 10], [266, 185, 200, 133, 8, 595, 4, 100, 867, 390, 294, 83, 391, 200, 87, 67, 272, 596, 165, 1449, 4, 244, 101, 1943, 3967], [1, 402, 1903, 949, 4, 1944, 15, 27, 1134, 19, 880, 355, 630, 338, 3968, 7, 428, 526, 3, 1, 472, 173, 121, 23], [25, 470, 525, 438, 764, 63, 34, 43, 1153, 5, 7, 20, 14, 2, 3969, 17, 28, 52, 1318, 42, 28, 3, 1, 58, 134, 139, 2, 66, 9, 7, 20, 60, 2, 30, 42, 28, 52, 31, 31, 28, 3, 1, 102, 35, 2, 70], [1, 13, 73, 41, 271, 49, 324, 3, 947, 3970, 899, 21, 344, 417, 335, 25, 3971, 3972, 32, 602, 4, 3973, 39, 304, 18, 80, 18, 1, 25, 397, 775, 437, 3974, 39, 1089], [1, 1904, 3975, 2, 1, 223, 597, 12, 5, 27, 377, 264, 252, 190, 45], [25, 200, 405, 3976, 164, 63, 34, 21, 20, 14, 74, 5, 31, 24, 28, 52, 32, 42, 28, 3, 66, 9, 30, 31, 28, 52, 31, 39, 28, 3, 70], [1, 13, 1015, 5, 61, 33, 60, 2, 6, 30, 42, 22, 9, 7, 14, 2, 6, 17, 31, 22], [150, 5, 25, 3977, 1838, 285, 3978, 11, 786, 511, 3979, 3980, 1, 13, 44, 3981, 5, 458, 898, 37, 3982, 226, 3, 1, 58, 179, 2, 46, 4, 352, 470, 226, 59, 824, 96, 701, 803, 450, 5, 957], [330, 59, 366, 8, 180, 347, 76, 420, 3983, 4, 1, 133, 2, 266], [513, 132, 135, 1675, 26, 89, 19, 243, 283, 1, 23], [1, 635, 83, 2, 1, 13, 11, 128, 636, 157, 5, 6, 30, 1737, 227, 29, 1, 171, 2, 205, 45, 9, 6, 30, 3984, 22, 7, 23, 295], [278, 1, 3985, 135, 3986, 16, 1, 109, 1945], [360, 90, 3987, 1, 432, 342, 216, 75, 27, 1946, 18, 7, 909, 1249, 645, 299, 1, 595, 3988, 29, 345, 993, 346], [1097, 2, 1, 545, 714, 903, 9, 383, 4, 1, 246, 4, 59, 331, 3, 194, 98, 246, 1779, 275, 26, 570, 553, 3, 1640], [337, 59, 3989, 37, 1, 3990, 2, 166, 3991, 3992, 4, 934, 3993, 5, 7, 3994, 317, 396, 1000, 101], [586, 285, 1595, 343, 11, 20, 26, 74, 19, 40, 39, 5, 6, 90, 49, 10], [3995, 3996, 12, 774, 2, 3997, 1712], [278, 20, 26, 3, 47, 59, 1861, 5, 78, 1558, 5, 3998, 31, 36, 9, 3999, 31, 36, 3, 45], [20, 14, 193, 19, 701, 179, 5, 1947, 24, 24, 22, 9, 1947, 50, 32, 22, 29, 1, 171, 2, 48], [33, 14, 72, 5, 6, 130, 24, 10, 9, 6, 50, 40, 10, 3, 1, 68, 35, 3, 66], [924, 1, 1274, 15, 1261, 1814, 379, 4, 15, 4000, 1, 1054, 4, 202, 4001], [91, 122, 7, 6, 623, 24, 10, 1798, 3, 1, 635, 83, 2, 128, 636], [18, 7, 174, 1, 13, 270, 4002, 20, 26, 5, 148, 4, 1, 33, 174, 5, 27, 528], [1, 79, 122, 642, 131, 387, 2, 149, 540, 4, 4003], [866, 73, 690, 7, 1948, 71, 249, 3, 1616, 299, 7, 1131, 1496, 34, 3, 21, 115, 137, 524, 104, 91, 23, 56, 1, 939, 1617, 11, 26, 1749, 127, 1240, 22, 194, 121, 23, 7, 443, 2, 114, 32, 71, 9, 105, 551, 22, 194, 3, 141], [544, 1949, 4004, 15, 4005, 4006, 3, 53, 4, 26, 3, 147, 15, 148, 75], [1832, 1292, 11, 1950, 772, 15, 27, 4007, 4, 4008, 856, 2, 43, 15, 27, 694, 5, 33, 350, 4, 51, 772, 19, 1, 171, 2, 1, 23], [1, 79, 12, 290, 160, 6, 17, 22], [228, 8, 1, 38, 416, 3, 29, 39, 433, 6, 65, 9, 39, 293, 6, 7, 23, 295, 4, 1000, 2, 697, 2, 39, 293, 6], [1, 1393, 56, 1, 144, 2, 354, 15, 458, 29, 1, 115, 400, 329, 12, 1649, 18, 7, 499, 5, 91, 303], [1, 1943, 12, 762, 21, 347, 535, 5, 1887, 7, 175, 42, 28, 7, 1315, 275, 1, 840, 4009, 2, 94, 28, 194, 41, 119, 4010, 5, 234, 25, 1934, 1286, 333, 86, 53, 187, 40, 40, 28, 194, 4, 743, 86, 187, 30, 31, 28, 194], [197, 110, 4011, 613, 95, 1205, 3, 91, 1713], [942, 943, 14, 136, 6, 1387, 32, 10, 65, 9, 6, 1736, 40, 10], [1, 1314, 170, 341, 5, 27, 1, 133, 1891, 8, 1660, 4, 4012], [770, 500, 1849, 4013, 44, 4014, 1306, 43, 4015, 1, 69, 3, 1414], [120, 177, 297, 269, 2, 6, 4016, 14, 238, 5, 6, 1181], [300, 530, 9, 33, 350, 161, 334, 44, 6, 39, 49, 17, 30, 22], [259, 4017, 4018, 382, 2, 558, 11, 215, 26, 4019, 4020, 289, 7, 4021, 4022, 2, 1, 1933, 2, 55, 1200, 4, 4023, 4024, 768, 59, 4025, 3, 180, 1333, 97], [505, 33, 14, 268, 211, 615, 269, 44, 6, 90, 42, 10, 65, 9, 6, 298, 42, 10, 7, 23, 104], [4026, 8, 475, 3, 1, 51, 609, 1, 196, 11, 20, 26, 74, 19, 17, 40], [1, 262, 2, 123, 12, 211, 2, 1, 1097, 1842, 4027, 3, 1915, 1, 153, 2, 1951, 218], [21, 69, 54, 1482, 5, 426, 502, 71, 9, 426, 235, 71, 7, 23, 104], [1, 13, 4028, 21, 961, 8, 45], [1, 381, 995, 1137, 19, 4029, 373, 77, 94, 2, 53, 11, 1951, 920], [85, 554, 1349, 476, 34, 43, 41, 255, 61, 107, 8, 317, 4030, 516, 4031, 1123, 9, 1780, 176, 946, 4032, 176, 4, 4033, 210], [1, 4034, 12, 366, 8, 786, 613, 4, 1582, 1952, 4, 7, 1953, 1928, 737, 662, 4035, 1189, 5, 1, 100, 766], [150, 5, 208, 11, 1722, 8, 363, 757, 4, 87, 247, 1954, 4036, 1, 641, 5, 619, 1, 397, 11, 62, 3, 1013, 51, 442, 216, 1882, 27, 761, 318, 3, 996, 37, 1, 397, 2, 53], [1, 54, 2, 1, 54, 125, 2, 166, 605, 1619, 335, 1955, 504, 24], [1, 907, 216, 75, 27, 1946, 18, 7, 909, 645, 29, 345, 399, 346], [25, 376, 13, 1299, 2, 1, 4037, 51, 206, 21, 20, 26, 89, 5, 6, 1758, 49, 10, 3, 116, 240, 45, 9, 6, 4038, 39, 10, 3, 1, 68, 35, 3, 46], [4039, 1325, 99, 1285, 3, 4040, 202, 4, 1273, 981, 4, 1070, 4041, 1880, 4042, 1325, 4043, 4044, 8, 1, 306, 1319, 69], [54, 868, 108, 886, 46, 3, 1, 85, 109, 178, 16, 4045, 2, 320, 187, 656, 86, 7, 173, 85, 588], [779, 322, 89, 5, 6, 31, 49, 10, 64, 5, 6, 32, 42, 10, 3, 1, 118, 38, 2, 48], [4046, 4047, 912, 32, 1956, 1957, 62, 460, 24, 195, 2, 1, 54, 125, 4, 315, 223], [1, 13, 12, 610, 16, 1, 182, 178, 3, 85], [1, 641, 15, 78, 5, 27, 448, 1916, 1, 51, 4048, 5, 1, 1275, 2, 1723, 725, 4, 725, 84, 5, 53, 1, 186, 391], [1, 13, 795, 532, 2, 4049, 17, 22, 283, 1, 664, 23, 665, 312, 48, 61, 148, 2, 252, 168, 66], [4050, 389, 1, 254, 15, 395, 21, 472, 677, 818, 5, 810], [4051, 98, 785, 185, 29, 918, 17, 57, 62, 4, 1, 83, 2, 1, 62, 4052, 1568, 5, 29, 918, 1119, 57], [1, 83, 2, 91, 1544, 2, 107, 952, 4053, 236, 52, 30, 4, 31, 22], [113, 1883, 78, 119, 1958, 37, 1120, 7, 311, 229, 295, 643, 7, 427, 3, 920, 15, 932, 5, 1867], [1, 20, 26, 89, 5, 6, 551, 49, 22, 9, 6, 809, 50, 22], [658, 33, 14, 136, 6, 32, 40, 10, 96, 9, 6, 24, 17, 10, 3, 1, 68, 35, 3, 70, 460, 40, 32, 2, 20, 26], [1, 13, 316, 496, 4, 385, 3, 82, 129, 1812, 57, 688], [4054, 554, 132, 4, 554, 87, 132, 4055, 59, 1666, 4056, 2, 554, 132, 1777], [1, 344, 4057, 4058, 771, 202, 15, 78, 7, 915, 1185, 163, 2, 77, 127, 57, 628, 36, 43, 15, 75, 185, 1229], [33, 14, 74, 5, 6, 151, 39, 10, 9, 6, 32, 50, 10, 3, 1, 68, 35, 3, 70], [575, 1959, 132, 1, 616, 3, 614, 11, 1223, 401, 4059, 3, 1312, 4060, 44, 65, 602, 50, 3, 509, 4061, 5, 121, 23], [230, 14, 72, 5, 6, 154, 49, 10, 9, 6, 151, 50, 10, 3, 70], [1901, 3, 4062, 4063, 1960, 73, 289, 1607, 794, 1215, 1192, 4, 1230, 263, 67, 41, 879, 214, 29, 94, 548, 3, 4064, 4065, 4066, 4067, 4068, 4, 4069], [166, 33, 14, 4, 20, 26, 8, 1, 203, 233, 35, 74, 365, 9, 1475, 39, 36, 4, 4070, 18, 64, 5, 1, 68, 38, 3, 66], [1, 13, 15, 565, 21, 87, 1707, 8, 46, 16, 325, 138, 45], [1, 1209, 299, 73, 1, 13, 316, 59, 987, 237, 55, 4071, 4072, 514, 55, 4073, 730, 4, 110, 55, 76], [934, 318, 8, 4074, 4075, 4076, 373, 4077, 1864, 4078, 4079, 927, 1961, 4080, 4081, 4, 713, 176, 4082, 1961], [1323, 67, 185, 4083, 1751, 4, 4084, 73, 4085, 186, 829, 212, 488, 1028, 4, 372, 55, 1026, 111, 662, 1, 420, 5, 828, 4, 1027, 829, 3, 61, 488, 1028], [3, 97, 173, 55, 805, 78, 5, 942, 4086, 994, 883, 1600, 34, 4087, 4088, 400, 606, 4089, 4090], [1, 87, 728, 4, 478, 206, 15, 27, 358, 264, 29, 50, 451, 7, 36, 25, 229, 16, 1, 755, 4091], [1, 55, 163, 11, 20, 26, 95, 1004, 168, 4092, 3, 66], [1, 1437, 78, 1782, 1958, 5, 1858, 4093, 318, 2, 1, 159], [810, 811, 44, 130, 42, 64, 5, 151, 31, 3, 1382, 45], [1, 20, 26, 2, 1, 499, 664, 23, 46, 15, 27, 709, 162, 3, 48, 4, 33, 14, 12, 281, 5, 27, 482], [3, 1, 273, 38, 2, 45, 739, 11, 20, 14, 489, 65, 19, 293, 49, 23, 16, 23, 5, 4094], [1, 1396, 4095, 98, 4096, 2, 554, 132, 390, 4097, 19, 4098, 98, 719, 1170, 12, 4099, 4100, 1559, 1, 4101, 1912, 4102, 2, 554, 132], [33, 14, 193, 5, 6, 555, 17, 10, 9, 6, 753, 31, 10, 3, 48], [1, 13, 377, 97, 61, 33, 60, 2, 184, 17, 36, 16, 20, 26, 2, 1119, 24, 36, 8, 1, 58, 38, 46], [43, 4103, 1881, 3, 53, 37, 115, 277, 3, 53, 2], [305, 132, 1962, 235, 46, 25, 237, 13, 769, 63, 253, 4104, 34, 97, 56, 21, 20, 14, 650, 5, 6, 124, 32, 22, 140, 114, 50, 36, 8, 1, 58, 134, 139, 2, 46, 9, 6, 17, 17, 22, 8, 1, 102, 35, 2, 30], [4105, 1325, 204, 20, 26, 2, 6, 32, 17, 10, 4, 43, 448, 61, 33, 14, 2, 6, 39, 32, 10, 3, 66], [395, 16, 128, 44, 24, 39, 64, 5, 7, 482, 32, 17, 3, 45], [1, 670, 4106, 12, 4107, 4108, 1169, 1, 1305, 4109, 250, 5, 1, 1222, 629], [577, 3, 1, 92, 179, 2, 45, 4110, 1470], [1756, 51, 12, 217, 2, 467, 11, 165, 196], [3, 1126, 1, 224, 15, 415, 16, 1, 113, 2, 4111, 495, 8, 1361, 1579, 4112], [1, 51, 1493, 173, 14, 161, 356, 44, 6, 39, 30, 40, 49, 22], [4113, 21, 69, 54, 72, 5, 551, 151, 71, 9, 426, 502, 71, 7, 23, 104], [1, 503, 416, 65, 3, 4114, 37, 4115, 37, 363, 1963, 550, 1, 254, 2, 484, 5, 473, 629], [75, 1, 133, 2, 971, 567, 15, 341], [471, 1, 568, 974, 975, 483, 3, 1241, 15, 599, 1243], [3, 1, 118, 38, 20, 26, 74, 19, 105, 23, 16, 23, 5, 6, 4116, 24, 22, 98, 19, 42, 29, 658, 659, 486, 167], [33, 14, 268, 434, 379, 157, 5, 6, 1277, 24, 22, 9, 6, 235, 40, 22, 275, 33, 14, 220, 434, 379, 1003, 1841, 4117, 167, 5, 6, 555, 24, 22, 9, 6, 40, 32, 22], [1836, 714, 15, 27, 307, 16, 1, 13, 11, 649, 345, 4118, 346, 3, 1, 1041, 4119, 101, 575, 16, 1, 645, 4120, 101, 4121], [114, 190, 47, 25, 794, 169, 13, 1104, 1105, 63, 103, 4122, 98, 343, 683, 34, 807, 43, 292, 21, 33, 14, 268, 177, 297, 269, 8, 1, 499, 47, 5, 27, 1004, 709, 162, 3, 45], [770, 4123, 4124, 12, 56, 1, 1936, 8, 4125, 4, 4126, 676, 44, 4127, 309, 5, 413, 4128, 135], [1, 351, 398, 153, 952, 5, 865, 304, 129, 6, 49, 40, 22, 4, 1813, 153, 865, 127, 6, 17, 49, 22, 29, 689], [978, 1734, 1315], [480, 88, 109, 178, 607, 252, 32, 48, 480, 88, 15, 565, 21, 58, 38, 87, 313, 48, 16, 431, 143, 284, 48, 129, 29, 49, 90, 7, 36, 25, 229], [1, 4129, 4130, 12, 7, 4131, 1941, 3, 933, 73, 12, 1291, 19, 1, 933, 4132, 757, 1964, 23, 1965, 4133, 1117, 200, 653, 4, 257, 84], [10, 4, 230, 14, 5, 6, 1308, 32, 10, 9, 6, 258, 49, 10, 3, 1, 118, 38, 2, 66], [85, 554, 921, 1, 100, 632, 4134, 438, 34, 43, 41, 955, 4135, 4136, 18, 21, 81, 188, 471, 1, 4137, 2, 1954, 4138], [1, 4139, 15, 27, 761, 318, 19, 1895, 740, 88, 11, 113, 309, 814, 224, 4, 149, 3, 53, 18, 80, 18, 21, 731, 3, 855, 4, 1960, 5, 740, 53, 99, 7, 483, 13, 4140, 406, 19, 740, 88], [33, 14, 425, 44, 49, 31, 64, 5, 108, 49, 7, 23, 104], [1, 601, 34, 56, 321, 221, 18, 711, 4141, 4142, 4, 1966, 15, 932, 1, 4143, 3, 1, 55, 1967, 67, 444, 275, 711, 4, 1966, 15, 27, 1, 640, 4144, 2, 914, 1967, 8, 100, 4145], [4146, 421, 29, 94, 1006, 16, 431, 16, 1, 527, 109, 178, 4147, 7, 69, 1208, 2, 4148, 22], [305, 132, 1962, 298, 46, 25, 1005, 149, 126, 476, 63, 253, 1524, 34, 97, 56, 21, 20, 14, 72, 5, 6, 1876, 42, 22, 140, 4149, 17, 36, 3, 1, 58, 134, 139, 2, 46, 9, 6, 4150, 42, 22, 8, 1, 173], [1, 82, 128, 2, 1, 207, 15, 27, 129, 6, 4151], [7, 82, 2, 1968, 22, 15, 27, 657, 3, 1, 207], [7, 82, 2, 124, 24, 10, 1312, 670, 4152, 1183, 553, 3, 1, 1133, 306, 1319, 3, 48, 1004, 96, 9, 124, 24, 10, 3, 66], [1, 4153, 8, 1405, 3, 1, 342, 4, 8, 4154, 2, 332, 4155, 12, 56, 375, 214, 1310, 467, 62, 5, 1, 549, 1851, 19, 1, 144, 3, 4156, 3, 1, 689], [1, 225, 12, 4157, 8, 317, 396], [1, 107, 44, 999, 29, 1786, 30, 36], [33, 60, 136, 6, 39, 31, 10, 64, 5, 7, 14, 2, 6, 30, 30, 10, 3, 1, 68, 35, 3, 48], [61, 319, 432, 985, 4, 1249, 645, 550, 1, 87, 174, 116, 205, 47, 15, 1188, 29, 151, 451, 508], [1, 520, 15, 78, 591, 5, 1530, 546, 57, 412, 2, 707, 93, 23], [20, 26, 2, 25, 237, 156, 13, 343, 989, 990, 11, 562, 76, 74, 19, 130, 3, 46, 5, 6, 4158, 17, 10, 9, 6, 4159, 42, 10, 3, 48], [43, 75, 122, 1, 540, 2, 81, 149, 1969, 4, 232, 65, 67, 18, 80, 18, 111, 763, 2, 1, 1726, 440, 512, 19, 1074, 3, 1923], [1526, 1527, 44, 1, 69, 4160, 2, 1233, 37, 7, 69, 54, 2, 433, 50, 96, 30, 30, 9, 1, 68, 35, 3, 141, 70], [1, 84, 78, 7, 1052, 4161, 4, 4162, 390], [3, 46, 1, 176, 156, 798, 8, 1198, 71, 2, 1, 461, 578, 4163, 4164, 1, 267, 156, 798, 8, 871, 71, 4, 110, 712, 8, 49, 71], [1002, 88, 15, 681, 21, 87, 728, 8, 66, 16, 453, 49, 325, 48], [4165, 7, 4166, 9, 1, 4167, 2, 1, 721, 4168, 4169, 337, 4170, 4171, 7, 844, 418, 2, 1918, 4172, 4173, 675, 221, 18, 4174, 1261, 4175, 4176, 4177, 4, 2, 4178, 4179, 4180], [20, 26, 157, 3, 1, 35, 5, 646, 4181, 22, 4182, 22, 9, 646, 4183, 22, 3, 66], [77, 433, 2, 91, 416, 9, 467, 781, 623, 9, 467, 376, 4, 138, 9, 467, 165], [266, 81, 209, 15, 27, 777, 29, 399, 11, 397, 2, 1, 1265, 245, 637, 3, 1899, 4184, 1866, 447, 73, 644, 76, 3, 45], [1, 83, 2, 1, 203, 23, 79, 12, 281, 29, 4185], [386, 15, 27, 395, 1553, 9, 4186, 1964, 1728, 18, 80, 18, 1970, 4187, 16, 4188, 4189, 4, 4190], [1, 13, 11, 144, 2, 354, 41, 1143, 7, 462, 2, 184, 105, 93, 54, 8, 66], [29, 91, 167, 652, 4191, 615, 1, 539, 951, 15, 27, 4192, 4193], [91, 4194, 5, 42, 1256, 71, 2, 374, 11, 54, 125, 4, 315, 223], [25, 782, 7, 165, 561, 4, 79, 438, 5, 1, 294, 392, 4, 1, 244, 156, 206, 21, 20, 26, 172, 6, 1948, 40, 10, 3, 1, 58, 179, 2, 47, 96, 9, 6, 655, 24, 10, 3, 1, 58, 179, 2, 45], [85, 1128, 87, 710, 34, 43, 41, 255, 317, 288, 3, 1889, 1890, 651, 4195, 4196, 4, 4197, 290, 213, 28, 6], [1, 137, 495, 4198, 155, 220, 833, 375, 4, 1040, 675, 220, 302, 789, 1233, 221, 18, 480, 88, 4199, 4200, 88, 4201, 678, 260, 4202], [43, 12, 152, 5, 27, 971, 19, 198], [1, 1944, 15, 1091, 91, 427, 3, 4203, 11, 4204, 708, 3, 1, 4205, 202, 101, 29, 1021, 1768, 4206], [25, 1566, 4, 836, 1007, 126, 310, 63, 912, 103, 1567, 34, 97, 21, 20, 14, 72, 5, 6, 449, 17, 22, 140, 293, 42, 36, 3, 1, 118, 38, 2, 47, 9, 6, 154, 50, 22, 7, 23, 104], [1, 4207, 4208, 3, 53, 3, 1, 640, 1854, 18, 7, 1969, 1274, 8, 1202, 542, 4209], [17, 466, 36, 972, 231, 2, 333, 86, 195, 31, 4210, 4211, 4212, 4213, 202, 17, 867, 4214, 4215, 602, 1239, 4216, 4217, 4218, 608, 1971, 198, 4219, 4220, 608, 1240, 1971, 198, 4221, 319, 55, 4222, 237, 55, 147, 198, 15, 570, 553], [1, 82, 549, 2, 348, 226, 44, 795, 3, 1, 437, 8, 657, 177, 4223, 742], [1, 1156, 37, 7, 4224, 2, 344, 396, 12, 217, 2, 1, 86, 11, 984, 1156, 342], [87, 326, 95, 4225, 327], [4226, 307, 5, 1, 4227, 346, 272, 4228, 272, 4229], [1229, 2, 362, 633, 248, 27, 1657, 3, 24, 1865, 2, 147, 370, 362, 855, 4230, 318, 180, 350, 490, 4, 490, 403, 581, 582, 4231, 4232, 4, 4233, 16, 4234], [1, 159, 12, 4235, 5, 1724, 19, 1, 864, 957, 1913], [797, 12, 7, 516, 392, 13, 37, 319, 76, 4, 113, 340, 468, 3, 53, 1, 1801, 208, 4, 1276], [300, 530, 120, 334, 238, 5, 4236, 96, 9, 4237], [25, 4238, 1304, 51, 4239, 4240, 63, 307, 7, 82, 20, 14, 2, 4241, 57, 52, 17, 17, 28, 3, 1, 58, 134, 139, 2, 66, 394, 7, 20, 60, 2, 4242, 57, 52, 4243, 57, 3, 1, 102, 35, 2, 70], [374, 292, 21, 20, 26, 8, 1, 58, 179, 2, 45, 5, 27, 1293, 162, 3, 46], [230, 14, 136, 6, 50, 39, 10, 96, 9, 6, 433, 31, 10, 3, 48], [166, 33, 14, 4, 20, 26, 8, 1, 105, 233, 35, 74, 365, 9, 1351, 49, 36, 4, 4244, 40, 36, 18, 64, 5, 1, 87, 23, 141], [158, 34, 1, 159, 11, 787, 16, 21, 300, 530, 8, 45, 1929, 1061, 32, 36, 622, 1, 323, 170, 117, 4245, 21, 87, 313, 8, 45, 18, 43, 44, 1090, 29, 635, 83], [1, 159, 122, 1, 1305, 1072, 2, 4246, 99, 906, 15, 534, 5, 1, 81, 13, 18, 643, 791, 1972, 214], [58, 38, 1860, 33, 14, 72, 5, 799, 28, 6, 9, 293, 28, 7, 23, 104], [3, 1, 273, 38, 2, 46, 20, 26, 74, 19, 30, 5, 6, 17, 4247, 40, 10, 9, 6, 17, 4248, 39, 10, 3, 1, 273, 38, 2, 48], [847, 4249, 1888, 4250, 4251, 34, 56, 1, 13, 1673, 4252, 1957, 57, 3, 70, 14, 73, 12, 114, 4253, 146, 56, 3, 141], [1, 33, 425, 416, 96, 5, 30, 32, 9, 24, 40], [37, 1, 81, 4254, 420, 4255, 15, 4256, 531, 1959], [230, 60, 172, 6, 551, 50, 10, 64, 5, 7, 60, 2, 6, 127, 32, 10, 3, 1, 68, 35, 3, 46], [25, 572, 88, 56, 552, 788, 789, 4, 976, 525, 41, 7, 224, 948, 4257, 3, 571, 56, 552, 976, 525], [33, 14, 136, 6, 154, 40, 10, 64, 5, 6, 154, 42, 10, 3, 1, 68, 35, 3, 48], [278, 26, 1793, 5, 167, 3, 143, 240, 47, 188, 4258, 4259, 34], [309, 1327, 4260, 4261, 506, 4262, 91, 12, 1, 4263, 2, 234, 1927, 2, 91, 440, 303], [19, 1, 171, 2, 66, 1, 262, 2, 1075, 588, 548, 15, 82, 4264], [153, 4265, 12, 3, 1, 767, 69, 1692, 1114, 1318, 4266, 163, 4, 1, 1613, 59, 1705, 4267, 4268, 4, 4269], [1, 13, 12, 406, 19, 1, 397, 2, 53, 4, 1, 536, 4270, 890, 4, 517, 13, 4271, 693, 4272, 732, 12, 61, 319, 200, 13, 56, 289, 164, 8, 202, 4, 131, 267, 407, 4, 1963], [33, 60, 44, 6, 4273, 64, 5, 7, 60, 2, 6, 4274, 3, 1, 92, 38, 2, 45], [742, 1307, 44, 745, 50, 64, 5, 4275, 30, 3, 1, 118, 38, 2, 48, 20, 26, 2, 1, 987, 988, 55, 136, 6, 108, 39, 65, 19, 77, 24, 9, 1, 118, 38, 2, 66], [893, 241, 3, 1, 163, 89, 19, 175, 5, 30, 40, 10, 209], [230, 14, 72, 5, 6, 39, 42, 10, 9, 6, 39, 32, 10, 3, 1, 68, 35, 3, 70], [942, 943, 60, 136, 6, 39, 31, 10, 64, 5, 7, 60, 2, 6, 30, 30, 10, 3, 1, 58, 38, 2, 70], [183, 93, 54, 95, 589, 29, 39, 426, 1868, 39, 902, 7, 23, 161, 4, 1000, 2, 69, 4276, 2, 39, 213, 6], [3, 116, 112, 48, 1299, 135, 20, 26, 72, 5, 6, 4277, 32, 10, 9, 6, 4278, 24, 10, 3, 1, 68, 35, 3, 66], [1, 288, 75, 185, 7, 1469, 756, 381, 1480, 8, 1, 926, 2, 4279, 4280], [1, 1610, 970, 196, 11, 26, 193, 19, 49, 42, 5, 6, 1297, 30, 10], [372, 88, 109, 178, 303, 509, 235, 47, 29, 124, 138, 372, 802, 7, 849, 159, 37, 61, 319, 473, 51, 372, 15, 408, 1324, 696, 328, 4, 1323, 67, 5, 61, 319, 473, 51], [43, 44, 1257, 56, 1, 4281, 59, 4282, 150, 5, 1324], [1311, 1973, 12, 519, 18, 7, 274, 328, 37, 1950, 1222, 4, 169, 2, 537, 390, 18, 80, 18, 7, 4283, 1953, 4284, 1311, 1973, 1829], [346, 4, 4285, 75, 299, 4286, 4287], [8, 1, 58, 134, 139, 2, 47, 594, 11, 20, 60, 493, 5, 6, 49, 31, 22, 9, 6, 175, 50, 22, 8, 1, 102, 35, 2, 45], [1677, 281, 82, 83, 2, 1, 79, 44, 1179, 57, 194, 268, 966], [270, 1, 940, 1932, 4288, 1945, 1237, 9, 1, 4289, 69, 226], [14, 161, 356, 238, 5, 6, 1069, 24, 10, 96, 9, 6, 4290, 50, 10, 7, 23, 295], [337, 1067, 56, 43, 4291, 101, 4292, 34], [765, 183, 93, 54, 228, 759, 5, 6, 39, 1968, 9, 6, 17, 4293], [1, 13, 248, 29, 332, 229, 78, 3, 21, 4294, 211, 4295, 2, 189, 21, 62, 29, 1, 689], [33, 14, 8, 562, 76, 193, 5, 6, 426, 31, 10, 9, 6, 1301, 32, 10, 3, 1, 58, 179, 2, 48], [106, 1821, 17, 17, 662, 123, 5, 828, 402, 4296, 9, 65, 5, 94, 402, 758, 1952, 16, 180, 100, 632, 4297, 189, 4298, 98, 4299, 402, 758, 67], [1949, 759, 19, 42, 71, 5, 124, 32, 22, 301], [183, 93, 54, 228, 3, 70, 89, 5, 276, 4300, 9, 276, 1326, 3, 917], [197, 111, 1753, 326, 95, 327], [4301, 11, 1246, 533, 328, 122, 1755, 8, 904, 4, 1160, 331, 1161, 533, 4, 905, 2, 750, 465, 621, 465, 4, 545, 181, 401, 8, 166, 100, 4, 351, 218], [1, 262, 2, 1362, 7, 62, 1955, 1243, 29, 50, 4302, 4303, 62], [4304, 20, 26, 9, 1, 261, 55, 193, 19, 455, 40, 4305, 450, 5, 1, 4306, 2, 1, 261, 79, 236, 1064, 4307, 11, 261, 1082, 841, 1453, 99, 4, 392, 4308, 4309, 201, 378, 3, 312, 45, 4, 1, 427, 3, 261, 226], [1, 1457, 15, 185, 1, 4310, 2, 1159, 1855, 4311, 4, 1, 540, 2, 741, 817, 4, 1790, 484, 4312, 165], [120, 1, 323, 979, 41, 197, 1302, 1303, 309, 76], [783, 34, 131, 51, 362, 41, 459, 43, 7, 30, 24, 28, 6, 79, 5, 393, 1, 176, 1231, 8, 7, 81, 784, 4313, 1, 4314, 4315, 3, 1133, 53], [305, 132, 563, 130, 45, 25, 4316, 1190, 63, 103, 4317, 34, 97, 21, 82, 26, 268, 83, 391, 943, 966, 593, 29, 6, 4318, 31, 22, 140, 4319, 17, 36, 3, 116, 45, 96, 127, 30, 23, 16, 4320], [994, 170, 805, 4321, 5, 1298, 1193, 16, 106, 11, 1320, 4322], [539, 4323, 8, 1, 1886, 1745, 185, 539, 4324, 8, 1, 1974, 3, 996, 37, 1, 1975, 2, 4325, 4, 1407, 67, 4, 1974, 4326], [364, 1, 1125, 2, 1, 62, 435, 3, 7, 687, 54, 503, 1, 81, 262, 2, 663, 62, 4, 315, 223, 12, 799, 4327, 4328], [1678, 1679, 12, 551, 396, 1972, 522, 7, 1255, 2, 780, 3, 1345, 263, 9, 1, 456, 1009, 1975, 2, 191], [270, 790, 385, 129, 17, 546, 688], [33, 14, 425, 74, 9, 108, 30, 5, 108, 40], [1002, 34, 100, 1806, 157, 40, 71, 283, 48, 531, 1306, 2, 123, 4329, 643, 791, 118, 1906, 100, 191], [33, 60, 238, 5, 6, 39, 40, 10, 64, 5, 7, 14, 2, 6, 39, 49, 10, 3, 1, 92, 38, 2, 70], [659, 4330, 59, 145, 16, 178, 486, 29, 1, 229, 2, 1, 159], [1, 4331, 59, 152, 5, 27, 1893, 19, 1, 171, 2, 1113], [939, 361, 4332, 353, 1844, 959, 22, 301, 2, 361, 3, 70, 7, 443, 2, 32, 24, 93, 846, 9, 1, 23, 104, 1900, 2, 4333, 1810, 22, 301], [1, 1264, 2, 266, 4334, 41, 204, 4, 15, 78, 482, 4335, 16, 66, 4, 48, 183, 101, 259, 4336, 34], [1, 970, 12, 468, 3, 4337, 3, 7, 4338, 464, 1925, 4339, 1, 13, 391], [33, 14, 44, 6, 50, 49, 10, 64, 5, 7, 60, 2, 6, 105, 40, 10, 3, 1, 68, 35, 3, 45], [1, 1110, 59, 507, 8, 1, 706, 4, 626, 2, 46], [4340, 281, 7, 58, 38, 14, 236, 1308, 4, 219, 925, 7, 54, 268, 4341, 269, 504, 1, 982, 826, 2, 1089, 925, 7, 54], [4342, 5, 1, 427, 3, 153, 773, 3, 4343, 41, 119, 1293, 1840], [1833, 260, 2, 1, 651, 1335, 416, 92, 37, 1317, 2, 4344, 32, 22, 209, 8, 7, 175, 31, 71, 69, 54, 908, 19, 992, 1282, 11, 1834, 244, 452, 37, 1317, 2, 1956, 39, 22, 209, 8, 61, 108, 42, 71, 54], [158, 41, 430, 128, 800, 158, 958, 158, 191, 158, 282, 780, 158, 147, 158, 888, 69, 4, 158, 256, 410, 4, 801, 2, 560, 41, 7, 1221, 418, 4, 535], [614, 11, 4345, 145, 428, 4346, 18, 761, 252, 4347, 673, 7, 835, 2, 745, 49, 16, 1194, 236, 85, 4, 1, 306, 4348, 4, 754, 861, 53], [1, 86, 11, 1709, 4349, 333, 4350, 665, 1, 23, 37, 7, 14, 2, 32, 32, 22, 194], [1, 13, 11, 505, 33, 14, 238, 5, 6, 127, 1931, 10, 65, 9, 6, 32, 151, 10, 23, 16, 23], [121, 23, 4351, 854, 657, 3, 4352, 286, 1067, 752, 3, 1, 202, 2, 4353, 4, 730, 553, 165, 4, 4354, 4355, 420, 164, 1291, 19, 43], [1, 576, 2, 1, 4356, 1063, 4, 261, 196, 513, 15, 27, 1193, 5, 513, 132], [1, 79, 83, 952, 5, 6, 30, 32, 22], [371, 4357, 7, 834, 4358, 556, 1208, 4, 7, 834, 4359], [29, 1, 4360, 386, 59, 129, 114, 1421, 26, 548, 3, 147], [399, 88, 440, 303, 509, 498, 46, 29, 94, 7, 36, 25, 229, 399, 11, 1884, 55, 163, 1227, 1522, 461, 735, 4, 1048, 4361, 735, 164, 41, 543, 423, 1048, 1653, 4362, 107], [1, 107, 44, 999, 29, 168, 4363], [1811, 15, 458, 1, 813, 3, 129, 211, 233, 3, 112, 48], [463, 69, 3, 1281, 215, 308, 181, 67, 524, 538, 7, 69, 566, 77, 1, 463, 247, 3, 1281], [1, 13, 44, 4364, 5, 408, 491, 5, 7, 980, 520, 3, 1, 4365, 403, 3, 147], [37, 158, 18, 7, 870, 337, 15, 27, 1347, 5, 380, 1348, 242, 55, 4, 341, 5, 415, 16, 1227, 1905, 1651, 67, 8, 242, 123, 101, 389, 4366, 4367, 188, 2, 4368, 1111, 11, 147], [278, 1, 167, 425, 4369, 96, 450, 5, 1, 87, 4370], [1, 79, 12, 8, 1320, 23], [43, 1976, 541, 37, 61, 4371, 1102, 4372, 274, 8, 1977, 2, 806, 4373, 901, 4, 226, 232, 29, 264, 1, 1542, 32, 4374, 1132], [1, 225, 4375, 242, 311, 367, 1436, 37, 106, 419, 218], [1, 107, 122, 7, 81, 4376, 4377, 4378, 4, 4379], [3, 91, 953, 1, 156, 11, 744, 4380, 41, 119, 1, 883, 135, 1784], [997, 53, 12, 1, 984, 142, 2, 491, 336, 13, 997, 63, 103, 4381], [20, 128, 322], [91, 935, 15, 4382, 1, 1532, 8, 76, 3, 147], [343, 989, 990, 11, 237, 196, 44, 4383, 212, 234, 747, 55, 209, 1978, 987, 988, 4, 4384, 4, 1978, 796], [336, 2, 202, 149, 798, 8, 959, 71, 2, 1, 33, 322], [4385, 59, 5, 27, 448, 18, 1447, 18, 4386], [330, 166, 15, 137, 5, 1144, 1145, 11, 1295, 601, 1296, 4387, 4388], [18, 217, 2, 1, 323, 1, 1400, 4389, 186, 520, 4390, 3, 36, 256, 11, 1263, 4, 884, 4391, 1265, 113, 8, 4392, 192, 7, 311, 367, 79], [127, 312, 47, 25, 860, 1631, 149, 126, 106, 419, 218, 34, 97, 43, 255, 7, 79, 5, 4393, 1, 1744, 257, 2, 633, 145, 1672, 13, 1002, 63, 103, 1919], [259, 4394, 644, 1, 1970, 37, 314, 347, 506, 1965, 4395, 9, 314, 4396, 4397, 4, 314, 4398, 4399, 396, 4, 7, 1977, 2, 978, 840, 1142, 4400, 56, 1149, 37, 839, 313], [1, 1471, 4401, 1, 1358, 4402, 4, 4403, 2, 4404, 4405, 2, 4406, 4407, 4408, 3, 498, 4409, 37, 4410, 4411, 4412], [710, 62, 477, 32, 17, 71, 5, 646, 455, 246, 753, 1239, 3, 85], [1, 796, 390, 2, 1, 4413, 12, 1573, 4, 1, 796, 1976, 9, 1802, 4, 53], [14, 8, 1, 35, 172, 6, 17, 17, 10, 96, 9, 6, 17, 42, 10, 3, 1, 118, 38, 2, 46], [4414, 11, 62, 421, 29, 1847, 50, 466, 29, 1, 229, 2, 824, 5, 440], [1, 584, 153, 15, 27, 331, 3, 300, 685, 1, 1554, 2, 1, 323, 507, 8, 143, 17, 45], [764, 63, 109, 178, 303, 124, 50, 46, 29, 130, 634, 764, 11, 125, 247, 481, 8, 4415, 523, 4, 729, 12, 339, 3, 454, 112, 124, 46, 744, 29, 130, 90, 4416, 25, 229], [1794, 121, 760, 3, 106, 419, 218, 44, 382, 2, 55, 4417, 564, 4418, 215, 43], [584, 43, 8, 1, 4419, 4420, 804, 4421, 4422], [1, 4423, 12, 61, 115, 968, 3, 280, 131, 11, 33, 14, 2, 146, 162, 6, 31, 22, 140, 32, 17, 36, 744, 3, 45], [1, 13, 34, 56, 186, 616, 74, 3, 189, 2, 21, 569, 247, 220, 2, 1703, 983, 4, 56, 43, 74, 819, 186, 226, 19, 32, 71, 64, 37, 121, 23], [192, 7, 1008, 4424, 1, 191, 954, 15, 4425, 77, 219, 57, 620, 4426], [43, 75, 1056, 21, 183, 1101, 8, 1, 499, 45, 414, 3, 21, 137, 8, 1, 499, 46], [299, 1, 182, 178, 253, 785, 1189, 5, 129, 587, 71, 2, 1, 182, 4, 306, 1014, 69], [656, 86, 7, 173, 656, 4427, 650, 31, 40, 71, 5, 941, 32, 4428, 4429, 9, 986, 173, 31, 24, 71, 1940], [994, 337, 4430], [1, 291, 83, 2, 1, 858, 334, 12, 77, 6, 1050], [1, 915, 163, 2, 698, 1252, 15, 27, 105, 4431, 1894], [343, 683, 12, 4432, 3, 53, 208, 734, 147, 4, 592], [1, 110, 4433, 170, 1103, 5, 4434, 4435, 61, 527, 37, 692, 2, 1, 586, 4, 338, 156, 4, 4436, 4437, 61, 4438, 37, 692, 3, 1, 1850, 749, 973, 55]]\n"
          ]
        }
      ]
    },
    {
      "cell_type": "code",
      "source": [
        "df_train = tf.keras.preprocessing.sequence.pad_sequences(df_train, maxlen=max_len_vec)\n",
        "df_test = tf.keras.preprocessing.sequence.pad_sequences(df_test, maxlen=max_len_vec)"
      ],
      "metadata": {
        "id": "rP0s27i1ypgI"
      },
      "execution_count": 128,
      "outputs": []
    },
    {
      "cell_type": "code",
      "source": [
        "df_train.shape, y_train.shape"
      ],
      "metadata": {
        "colab": {
          "base_uri": "https://localhost:8080/"
        },
        "id": "ueULt0GUy6d2",
        "outputId": "213107cb-79af-4f38-8866-878e2b64e7a6"
      },
      "execution_count": 129,
      "outputs": [
        {
          "output_type": "execute_result",
          "data": {
            "text/plain": [
              "((1267, 81), (1267, 3))"
            ]
          },
          "metadata": {},
          "execution_count": 129
        }
      ]
    },
    {
      "cell_type": "code",
      "source": [
        "df_test.shape, y_test.shape"
      ],
      "metadata": {
        "colab": {
          "base_uri": "https://localhost:8080/"
        },
        "id": "EqA3vJ4k3hTw",
        "outputId": "508c9d63-c52f-4911-efec-f7a456c31357"
      },
      "execution_count": 130,
      "outputs": [
        {
          "output_type": "execute_result",
          "data": {
            "text/plain": [
              "((544, 81), (544, 3))"
            ]
          },
          "metadata": {},
          "execution_count": 130
        }
      ]
    },
    {
      "cell_type": "code",
      "source": [
        "y_train"
      ],
      "metadata": {
        "colab": {
          "base_uri": "https://localhost:8080/"
        },
        "id": "2CNlHZ5C3kwj",
        "outputId": "8219038d-8735-4784-ec9d-e20fca224a6c"
      },
      "execution_count": 131,
      "outputs": [
        {
          "output_type": "execute_result",
          "data": {
            "text/plain": [
              "array([[0., 0., 1.],\n",
              "       [1., 0., 0.],\n",
              "       [0., 1., 0.],\n",
              "       ...,\n",
              "       [0., 1., 0.],\n",
              "       [0., 1., 0.],\n",
              "       [0., 1., 0.]], dtype=float32)"
            ]
          },
          "metadata": {},
          "execution_count": 131
        }
      ]
    },
    {
      "cell_type": "code",
      "source": [
        "y_train = y_train.astype('int32')\n",
        "y_test = y_test.astype('int32')"
      ],
      "metadata": {
        "id": "nZrdYGMW3oLf"
      },
      "execution_count": 132,
      "outputs": []
    },
    {
      "cell_type": "markdown",
      "source": [
        "## Choice thingy"
      ],
      "metadata": {
        "id": "aEZt0XxMViRe"
      }
    },
    {
      "cell_type": "code",
      "source": [
        "choice = int(input(\"Pick your model: 1-RNN, 2-LSTM, 3-FFNN, 4-Transformer\"))\n",
        "\n",
        "if choice == 1:\n",
        "\n",
        "  # fixing every word's embedding size to be 32\n",
        "  embd_len = 32\n",
        "  vocab_size =500\n",
        "\n",
        "  # Creating a RNN model\n",
        "  model = Sequential(name=\"Simple_RNN\")\n",
        "  model.add(Embedding(vocab_size,\n",
        "                          embd_len,\n",
        "                          input_length=df_train.shape[1]))\n",
        "\n",
        "  # In case of a stacked(more than one layer of RNN)\n",
        "  # use return_sequences=True\n",
        "  model.add(SimpleRNN(128,\n",
        "                          activation='tanh',\n",
        "                          return_sequences=True))\n",
        "  model.add(SimpleRNN(128,\n",
        "                          activation='tanh',\n",
        "                          return_sequences=True))\n",
        "\n",
        "  model.add(SimpleRNN(128,\n",
        "                          activation='tanh',\n",
        "                          return_sequences=True))\n",
        "\n",
        "  model.add(SimpleRNN(128,\n",
        "                          activation='tanh',\n",
        "                          return_sequences=False))\n",
        "\n",
        "  model.add(Dense(3, activation='sigmoid'))\n",
        "\n",
        "  # printing model summary\n",
        "  print(model.summary())\n",
        "\n",
        "  # Compiling model\n",
        "  model.compile(\n",
        "      loss=\"binary_crossentropy\",\n",
        "      optimizer='adam',\n",
        "      metrics=['accuracy']\n",
        "  )\n",
        "  # Printing model score on test data\n",
        "  # print()\n",
        "  # print(\"Simple_RNN Score---> \", model.evaluate(x_test, y_test, verbose=0))\n",
        "\n",
        "elif choice == 2:\n",
        "\n",
        "\n",
        "    \n",
        "\n",
        "  # fixing every word's embedding size to be 32\n",
        "  embd_len = 32\n",
        "  vocab_size =500\n",
        "\n",
        "  # Creating a RNN model\n",
        "  model = Sequential(name=\"LSTM\")\n",
        "  model.add(Embedding(vocab_size,\n",
        "                          embd_len,\n",
        "                          input_length=df_train.shape[1]))\n",
        "\n",
        "  # In case of a stacked(more than one layer of RNN)\n",
        "  # use return_sequences=True\n",
        "  model.add(LSTM(128, activation='tanh', return_sequences=True))\n",
        "  model.add(LSTM(128, activation='tanh', return_sequences=True))\n",
        "\n",
        "  model.add(LSTM(128, activation='tanh', return_sequences=True))\n",
        "\n",
        "  model.add(LSTM(128, activation='tanh', return_sequences=False))\n",
        "\n",
        "  model.add(Dense(3, activation='sigmoid'))\n",
        "\n",
        "  # printing model summary\n",
        "  print(model.summary())\n",
        "\n",
        "  # Compiling model\n",
        "  model.compile(\n",
        "      loss=\"binary_crossentropy\",\n",
        "      optimizer='adam',\n",
        "      metrics=['accuracy']\n",
        "  )\n",
        "  # Printing model score on test data\n",
        "  # print()\n",
        "  # print(\"Simple_RNN Score---> \", model.evaluate(x_test, y_test, verbose=0))\n",
        "\n",
        "\n",
        "elif choice == 3:\n",
        "\n",
        "  # fixing every word's embedding size to be 32\n",
        "  embd_len = 32\n",
        "  vocab_size =500\n",
        "\n",
        "  # Creating a RNN model\n",
        "  model = Sequential(name=\"FFNN\")\n",
        "  model.add(Embedding(vocab_size,\n",
        "                          embd_len,\n",
        "                          input_length=df_train.shape[1]))\n",
        "\n",
        "  # In case of a stacked(more than one layer of RNN)\n",
        "  # use return_sequences=True\n",
        "  model.add(Dense(128,\n",
        "                          activation='tanh'))\n",
        "  model.add(Dense(128,\n",
        "                          activation='tanh'))\n",
        "\n",
        "  model.add(Dense(128,\n",
        "                          activation='tanh'))\n",
        "\n",
        "  model.add(Dense(128,\n",
        "                          activation='tanh'))\n",
        "  model.add(Flatten())\n",
        "\n",
        "  model.add(Dense(3, activation='sigmoid'))\n",
        "\n",
        "  # printing model summary\n",
        "  print(model.summary())\n",
        "\n",
        "  # Compiling model\n",
        "  model.compile(\n",
        "      loss=\"binary_crossentropy\",\n",
        "      optimizer='adam',\n",
        "      metrics=['accuracy']\n",
        "  )\n",
        "  # Printing model score on test data\n",
        "  # print()\n",
        "  # print(\"Simple_RNN Score---> \", model.evaluate(x_test, y_test, verbose=0))\n",
        "\n",
        "\n",
        "elif choice == 4:\n",
        "\n",
        "\n",
        "  embed_dim = 32  # Embedding size for each token\n",
        "  num_heads = 2  # Number of attention heads\n",
        "  ff_dim = 32  # Hidden layer size in feed forward network inside transformer\n",
        "\n",
        "  inputs = Input(shape=(max_len_vec,))\n",
        "  embedding_layer = TokenAndPositionEmbedding(max_len_vec, vocab_size, embed_dim)\n",
        "  x = embedding_layer(inputs)\n",
        "  transformer_block = TransformerBlock(embed_dim, num_heads, ff_dim)\n",
        "  x = transformer_block(x)\n",
        "  x = transformer_block(x)\n",
        "  x = transformer_block(x)\n",
        "  x = transformer_block(x)\n",
        "  x = transformer_block(x)\n",
        "  x = GlobalAveragePooling1D()(x)\n",
        "  x = Dropout(0.1)(x)\n",
        "  x = Dense(20, activation=\"relu\")(x)\n",
        "  x = Dropout(0.1)(x)\n",
        "  outputs = Dense(3, activation=\"softmax\")(x)\n",
        "\n",
        "  model = Model(inputs=inputs, outputs=outputs)\n",
        "\n",
        "else:\n",
        "  print('wrong input')\n",
        "\n"
      ],
      "metadata": {
        "colab": {
          "base_uri": "https://localhost:8080/"
        },
        "id": "mnTyGh1zVgyJ",
        "outputId": "c5c56f4a-c9a4-40cd-e296-467e513ad6d9"
      },
      "execution_count": 133,
      "outputs": [
        {
          "name": "stdout",
          "output_type": "stream",
          "text": [
            "Pick your model: 1-RNN, 2-LSTM, 3-FFNN, 4-Transformer4\n"
          ]
        }
      ]
    },
    {
      "cell_type": "code",
      "source": [
        "model.compile(optimizer=\"adam\", loss=\"categorical_crossentropy\", metrics=[\"accuracy\"])\n"
      ],
      "metadata": {
        "id": "_R98pjWIXu5J"
      },
      "execution_count": 134,
      "outputs": []
    },
    {
      "cell_type": "code",
      "source": [
        "model.summary()"
      ],
      "metadata": {
        "colab": {
          "base_uri": "https://localhost:8080/"
        },
        "outputId": "48f6856a-d3c3-40a9-c523-985c2fdfdf51",
        "id": "g73MGmYrXu5K"
      },
      "execution_count": 135,
      "outputs": [
        {
          "output_type": "stream",
          "name": "stdout",
          "text": [
            "Model: \"model_1\"\n",
            "__________________________________________________________________________________________________\n",
            " Layer (type)                   Output Shape         Param #     Connected to                     \n",
            "==================================================================================================\n",
            " input_2 (InputLayer)           [(None, 81)]         0           []                               \n",
            "                                                                                                  \n",
            " token_and_position_embedding_1  (None, 81, 32)      63392       ['input_2[0][0]']                \n",
            "  (TokenAndPositionEmbedding)                                                                     \n",
            "                                                                                                  \n",
            " transformer_block_1 (Transform  (None, 81, 32)      10656       ['token_and_position_embedding_1[\n",
            " erBlock)                                                        0][0]',                          \n",
            "                                                                  'transformer_block_1[0][0]',    \n",
            "                                                                  'transformer_block_1[1][0]',    \n",
            "                                                                  'transformer_block_1[2][0]',    \n",
            "                                                                  'transformer_block_1[3][0]']    \n",
            "                                                                                                  \n",
            " global_average_pooling1d_1 (Gl  (None, 32)          0           ['transformer_block_1[4][0]']    \n",
            " obalAveragePooling1D)                                                                            \n",
            "                                                                                                  \n",
            " dropout_6 (Dropout)            (None, 32)           0           ['global_average_pooling1d_1[0][0\n",
            "                                                                 ]']                              \n",
            "                                                                                                  \n",
            " dense_13 (Dense)               (None, 20)           660         ['dropout_6[0][0]']              \n",
            "                                                                                                  \n",
            " dropout_7 (Dropout)            (None, 20)           0           ['dense_13[0][0]']               \n",
            "                                                                                                  \n",
            " dense_14 (Dense)               (None, 3)            63          ['dropout_7[0][0]']              \n",
            "                                                                                                  \n",
            "==================================================================================================\n",
            "Total params: 74,771\n",
            "Trainable params: 74,771\n",
            "Non-trainable params: 0\n",
            "__________________________________________________________________________________________________\n"
          ]
        }
      ]
    },
    {
      "cell_type": "code",
      "source": [
        "\n",
        "history = model.fit(df_train, y_train, epochs=10, \n",
        "                    validation_data=(df_test, y_test)\n",
        "                   )"
      ],
      "metadata": {
        "id": "hAYFttnbaF-I",
        "outputId": "900a267c-b69b-4603-b35f-2e3a1d14b3d5",
        "colab": {
          "base_uri": "https://localhost:8080/"
        }
      },
      "execution_count": 136,
      "outputs": [
        {
          "output_type": "stream",
          "name": "stdout",
          "text": [
            "Epoch 1/2\n",
            "40/40 [==============================] - 5s 36ms/step - loss: 0.9556 - accuracy: 0.5627 - val_loss: 0.8946 - val_accuracy: 0.6140\n",
            "Epoch 2/2\n",
            "40/40 [==============================] - 1s 21ms/step - loss: 0.7843 - accuracy: 0.6748 - val_loss: 0.7165 - val_accuracy: 0.7316\n"
          ]
        }
      ]
    },
    {
      "cell_type": "markdown",
      "source": [
        "# Prediction"
      ],
      "metadata": {
        "id": "f-40pw_VeTf_"
      }
    },
    {
      "cell_type": "code",
      "source": [
        "dataset_test = pd.read_csv('project2_test_data.txt', delimiter= '\\r\\n' , header = None, names=['text'])"
      ],
      "metadata": {
        "colab": {
          "base_uri": "https://localhost:8080/"
        },
        "id": "2NwQ6KygeD-i",
        "outputId": "3bfe235b-61eb-4e76-d2ef-9babd34bc409"
      },
      "execution_count": 55,
      "outputs": [
        {
          "output_type": "stream",
          "name": "stderr",
          "text": [
            "/usr/local/lib/python3.7/dist-packages/pandas/util/_decorators.py:311: ParserWarning: Falling back to the 'python' engine because the 'c' engine does not support regex separators (separators > 1 char and different from '\\s+' are interpreted as regex); you can avoid this warning by specifying engine='python'.\n",
            "  return func(*args, **kwargs)\n"
          ]
        }
      ]
    },
    {
      "cell_type": "code",
      "source": [
        "dataset_test.head()"
      ],
      "metadata": {
        "colab": {
          "base_uri": "https://localhost:8080/",
          "height": 204
        },
        "id": "Dwh4aZrFeRve",
        "outputId": "b174c022-bd84-4dc5-c932-e939fa970ddf"
      },
      "execution_count": 139,
      "outputs": [
        {
          "output_type": "execute_result",
          "data": {
            "text/plain": [
              "                                                text\n",
              "0  The company 's operating income ( EBIT ) total...\n",
              "1  Glaston 's own glass processing unit , Tamglas...\n",
              "2  In September alone , the market declined by 10...\n",
              "3  Goodwill and other intangible assets account f...\n",
              "4  Major Order in India Comptel Corporation has r..."
            ],
            "text/html": [
              "\n",
              "  <div id=\"df-4aa25afe-ccfe-42c8-87d7-2e21f6e9f07e\">\n",
              "    <div class=\"colab-df-container\">\n",
              "      <div>\n",
              "<style scoped>\n",
              "    .dataframe tbody tr th:only-of-type {\n",
              "        vertical-align: middle;\n",
              "    }\n",
              "\n",
              "    .dataframe tbody tr th {\n",
              "        vertical-align: top;\n",
              "    }\n",
              "\n",
              "    .dataframe thead th {\n",
              "        text-align: right;\n",
              "    }\n",
              "</style>\n",
              "<table border=\"1\" class=\"dataframe\">\n",
              "  <thead>\n",
              "    <tr style=\"text-align: right;\">\n",
              "      <th></th>\n",
              "      <th>text</th>\n",
              "    </tr>\n",
              "  </thead>\n",
              "  <tbody>\n",
              "    <tr>\n",
              "      <th>0</th>\n",
              "      <td>The company 's operating income ( EBIT ) total...</td>\n",
              "    </tr>\n",
              "    <tr>\n",
              "      <th>1</th>\n",
              "      <td>Glaston 's own glass processing unit , Tamglas...</td>\n",
              "    </tr>\n",
              "    <tr>\n",
              "      <th>2</th>\n",
              "      <td>In September alone , the market declined by 10...</td>\n",
              "    </tr>\n",
              "    <tr>\n",
              "      <th>3</th>\n",
              "      <td>Goodwill and other intangible assets account f...</td>\n",
              "    </tr>\n",
              "    <tr>\n",
              "      <th>4</th>\n",
              "      <td>Major Order in India Comptel Corporation has r...</td>\n",
              "    </tr>\n",
              "  </tbody>\n",
              "</table>\n",
              "</div>\n",
              "      <button class=\"colab-df-convert\" onclick=\"convertToInteractive('df-4aa25afe-ccfe-42c8-87d7-2e21f6e9f07e')\"\n",
              "              title=\"Convert this dataframe to an interactive table.\"\n",
              "              style=\"display:none;\">\n",
              "        \n",
              "  <svg xmlns=\"http://www.w3.org/2000/svg\" height=\"24px\"viewBox=\"0 0 24 24\"\n",
              "       width=\"24px\">\n",
              "    <path d=\"M0 0h24v24H0V0z\" fill=\"none\"/>\n",
              "    <path d=\"M18.56 5.44l.94 2.06.94-2.06 2.06-.94-2.06-.94-.94-2.06-.94 2.06-2.06.94zm-11 1L8.5 8.5l.94-2.06 2.06-.94-2.06-.94L8.5 2.5l-.94 2.06-2.06.94zm10 10l.94 2.06.94-2.06 2.06-.94-2.06-.94-.94-2.06-.94 2.06-2.06.94z\"/><path d=\"M17.41 7.96l-1.37-1.37c-.4-.4-.92-.59-1.43-.59-.52 0-1.04.2-1.43.59L10.3 9.45l-7.72 7.72c-.78.78-.78 2.05 0 2.83L4 21.41c.39.39.9.59 1.41.59.51 0 1.02-.2 1.41-.59l7.78-7.78 2.81-2.81c.8-.78.8-2.07 0-2.86zM5.41 20L4 18.59l7.72-7.72 1.47 1.35L5.41 20z\"/>\n",
              "  </svg>\n",
              "      </button>\n",
              "      \n",
              "  <style>\n",
              "    .colab-df-container {\n",
              "      display:flex;\n",
              "      flex-wrap:wrap;\n",
              "      gap: 12px;\n",
              "    }\n",
              "\n",
              "    .colab-df-convert {\n",
              "      background-color: #E8F0FE;\n",
              "      border: none;\n",
              "      border-radius: 50%;\n",
              "      cursor: pointer;\n",
              "      display: none;\n",
              "      fill: #1967D2;\n",
              "      height: 32px;\n",
              "      padding: 0 0 0 0;\n",
              "      width: 32px;\n",
              "    }\n",
              "\n",
              "    .colab-df-convert:hover {\n",
              "      background-color: #E2EBFA;\n",
              "      box-shadow: 0px 1px 2px rgba(60, 64, 67, 0.3), 0px 1px 3px 1px rgba(60, 64, 67, 0.15);\n",
              "      fill: #174EA6;\n",
              "    }\n",
              "\n",
              "    [theme=dark] .colab-df-convert {\n",
              "      background-color: #3B4455;\n",
              "      fill: #D2E3FC;\n",
              "    }\n",
              "\n",
              "    [theme=dark] .colab-df-convert:hover {\n",
              "      background-color: #434B5C;\n",
              "      box-shadow: 0px 1px 3px 1px rgba(0, 0, 0, 0.15);\n",
              "      filter: drop-shadow(0px 1px 2px rgba(0, 0, 0, 0.3));\n",
              "      fill: #FFFFFF;\n",
              "    }\n",
              "  </style>\n",
              "\n",
              "      <script>\n",
              "        const buttonEl =\n",
              "          document.querySelector('#df-4aa25afe-ccfe-42c8-87d7-2e21f6e9f07e button.colab-df-convert');\n",
              "        buttonEl.style.display =\n",
              "          google.colab.kernel.accessAllowed ? 'block' : 'none';\n",
              "\n",
              "        async function convertToInteractive(key) {\n",
              "          const element = document.querySelector('#df-4aa25afe-ccfe-42c8-87d7-2e21f6e9f07e');\n",
              "          const dataTable =\n",
              "            await google.colab.kernel.invokeFunction('convertToInteractive',\n",
              "                                                     [key], {});\n",
              "          if (!dataTable) return;\n",
              "\n",
              "          const docLinkHtml = 'Like what you see? Visit the ' +\n",
              "            '<a target=\"_blank\" href=https://colab.research.google.com/notebooks/data_table.ipynb>data table notebook</a>'\n",
              "            + ' to learn more about interactive tables.';\n",
              "          element.innerHTML = '';\n",
              "          dataTable['output_type'] = 'display_data';\n",
              "          await google.colab.output.renderOutput(dataTable, element);\n",
              "          const docLink = document.createElement('div');\n",
              "          docLink.innerHTML = docLinkHtml;\n",
              "          element.appendChild(docLink);\n",
              "        }\n",
              "      </script>\n",
              "    </div>\n",
              "  </div>\n",
              "  "
            ]
          },
          "metadata": {},
          "execution_count": 139
        }
      ]
    },
    {
      "cell_type": "code",
      "source": [
        "df2 = dataset_test.copy()"
      ],
      "metadata": {
        "id": "Wyhqmg6vesTA"
      },
      "execution_count": 140,
      "outputs": []
    },
    {
      "cell_type": "code",
      "source": [
        "# removing special characters\n",
        "df2 = df2.replace('\\*', ' ')\n",
        "df2 = df2.replace('\\xc2', ' ', regex=True)\n",
        "df2 = df2.replace('\\xf1', ' ', regex=True)\n",
        "df2 = df2.replace('\\xc1', ' ', regex=True)\n",
        "df2 = df2.replace('[^a-zA-Z]', ' ')\n",
        "# df = df.replace('\"+\"', ' ', regex=True)\n",
        "# df = df.replace('\"+\"', ' ', regex=True)\n"
      ],
      "metadata": {
        "id": "z_Qe3RZHebp5"
      },
      "execution_count": 141,
      "outputs": []
    },
    {
      "cell_type": "code",
      "source": [
        "df2"
      ],
      "metadata": {
        "colab": {
          "base_uri": "https://localhost:8080/",
          "height": 419
        },
        "id": "0cPwNAsugDSe",
        "outputId": "9a7a7dc2-5559-4cd7-c9f4-418769d5b9f5"
      },
      "execution_count": 142,
      "outputs": [
        {
          "output_type": "execute_result",
          "data": {
            "text/plain": [
              "                                                  text\n",
              "0    The company 's operating income ( EBIT ) total...\n",
              "1    Glaston 's own glass processing unit , Tamglas...\n",
              "2    In September alone , the market declined by 10...\n",
              "3    Goodwill and other intangible assets account f...\n",
              "4    Major Order in India Comptel Corporation has r...\n",
              "..                                                 ...\n",
              "448  Cargo traffic fell 1 % year-on-year to 8,561 t...\n",
              "449         The value of the orders is over EUR 10mn .\n",
              "450  The sellers include 40 shareholders , includin...\n",
              "451  In Sweden , operating profit for the period un...\n",
              "452  Payment for acquired shares will be made in ca...\n",
              "\n",
              "[453 rows x 1 columns]"
            ],
            "text/html": [
              "\n",
              "  <div id=\"df-9c5f214f-3157-43b2-93c3-f79a2f1e4cb4\">\n",
              "    <div class=\"colab-df-container\">\n",
              "      <div>\n",
              "<style scoped>\n",
              "    .dataframe tbody tr th:only-of-type {\n",
              "        vertical-align: middle;\n",
              "    }\n",
              "\n",
              "    .dataframe tbody tr th {\n",
              "        vertical-align: top;\n",
              "    }\n",
              "\n",
              "    .dataframe thead th {\n",
              "        text-align: right;\n",
              "    }\n",
              "</style>\n",
              "<table border=\"1\" class=\"dataframe\">\n",
              "  <thead>\n",
              "    <tr style=\"text-align: right;\">\n",
              "      <th></th>\n",
              "      <th>text</th>\n",
              "    </tr>\n",
              "  </thead>\n",
              "  <tbody>\n",
              "    <tr>\n",
              "      <th>0</th>\n",
              "      <td>The company 's operating income ( EBIT ) total...</td>\n",
              "    </tr>\n",
              "    <tr>\n",
              "      <th>1</th>\n",
              "      <td>Glaston 's own glass processing unit , Tamglas...</td>\n",
              "    </tr>\n",
              "    <tr>\n",
              "      <th>2</th>\n",
              "      <td>In September alone , the market declined by 10...</td>\n",
              "    </tr>\n",
              "    <tr>\n",
              "      <th>3</th>\n",
              "      <td>Goodwill and other intangible assets account f...</td>\n",
              "    </tr>\n",
              "    <tr>\n",
              "      <th>4</th>\n",
              "      <td>Major Order in India Comptel Corporation has r...</td>\n",
              "    </tr>\n",
              "    <tr>\n",
              "      <th>...</th>\n",
              "      <td>...</td>\n",
              "    </tr>\n",
              "    <tr>\n",
              "      <th>448</th>\n",
              "      <td>Cargo traffic fell 1 % year-on-year to 8,561 t...</td>\n",
              "    </tr>\n",
              "    <tr>\n",
              "      <th>449</th>\n",
              "      <td>The value of the orders is over EUR 10mn .</td>\n",
              "    </tr>\n",
              "    <tr>\n",
              "      <th>450</th>\n",
              "      <td>The sellers include 40 shareholders , includin...</td>\n",
              "    </tr>\n",
              "    <tr>\n",
              "      <th>451</th>\n",
              "      <td>In Sweden , operating profit for the period un...</td>\n",
              "    </tr>\n",
              "    <tr>\n",
              "      <th>452</th>\n",
              "      <td>Payment for acquired shares will be made in ca...</td>\n",
              "    </tr>\n",
              "  </tbody>\n",
              "</table>\n",
              "<p>453 rows × 1 columns</p>\n",
              "</div>\n",
              "      <button class=\"colab-df-convert\" onclick=\"convertToInteractive('df-9c5f214f-3157-43b2-93c3-f79a2f1e4cb4')\"\n",
              "              title=\"Convert this dataframe to an interactive table.\"\n",
              "              style=\"display:none;\">\n",
              "        \n",
              "  <svg xmlns=\"http://www.w3.org/2000/svg\" height=\"24px\"viewBox=\"0 0 24 24\"\n",
              "       width=\"24px\">\n",
              "    <path d=\"M0 0h24v24H0V0z\" fill=\"none\"/>\n",
              "    <path d=\"M18.56 5.44l.94 2.06.94-2.06 2.06-.94-2.06-.94-.94-2.06-.94 2.06-2.06.94zm-11 1L8.5 8.5l.94-2.06 2.06-.94-2.06-.94L8.5 2.5l-.94 2.06-2.06.94zm10 10l.94 2.06.94-2.06 2.06-.94-2.06-.94-.94-2.06-.94 2.06-2.06.94z\"/><path d=\"M17.41 7.96l-1.37-1.37c-.4-.4-.92-.59-1.43-.59-.52 0-1.04.2-1.43.59L10.3 9.45l-7.72 7.72c-.78.78-.78 2.05 0 2.83L4 21.41c.39.39.9.59 1.41.59.51 0 1.02-.2 1.41-.59l7.78-7.78 2.81-2.81c.8-.78.8-2.07 0-2.86zM5.41 20L4 18.59l7.72-7.72 1.47 1.35L5.41 20z\"/>\n",
              "  </svg>\n",
              "      </button>\n",
              "      \n",
              "  <style>\n",
              "    .colab-df-container {\n",
              "      display:flex;\n",
              "      flex-wrap:wrap;\n",
              "      gap: 12px;\n",
              "    }\n",
              "\n",
              "    .colab-df-convert {\n",
              "      background-color: #E8F0FE;\n",
              "      border: none;\n",
              "      border-radius: 50%;\n",
              "      cursor: pointer;\n",
              "      display: none;\n",
              "      fill: #1967D2;\n",
              "      height: 32px;\n",
              "      padding: 0 0 0 0;\n",
              "      width: 32px;\n",
              "    }\n",
              "\n",
              "    .colab-df-convert:hover {\n",
              "      background-color: #E2EBFA;\n",
              "      box-shadow: 0px 1px 2px rgba(60, 64, 67, 0.3), 0px 1px 3px 1px rgba(60, 64, 67, 0.15);\n",
              "      fill: #174EA6;\n",
              "    }\n",
              "\n",
              "    [theme=dark] .colab-df-convert {\n",
              "      background-color: #3B4455;\n",
              "      fill: #D2E3FC;\n",
              "    }\n",
              "\n",
              "    [theme=dark] .colab-df-convert:hover {\n",
              "      background-color: #434B5C;\n",
              "      box-shadow: 0px 1px 3px 1px rgba(0, 0, 0, 0.15);\n",
              "      filter: drop-shadow(0px 1px 2px rgba(0, 0, 0, 0.3));\n",
              "      fill: #FFFFFF;\n",
              "    }\n",
              "  </style>\n",
              "\n",
              "      <script>\n",
              "        const buttonEl =\n",
              "          document.querySelector('#df-9c5f214f-3157-43b2-93c3-f79a2f1e4cb4 button.colab-df-convert');\n",
              "        buttonEl.style.display =\n",
              "          google.colab.kernel.accessAllowed ? 'block' : 'none';\n",
              "\n",
              "        async function convertToInteractive(key) {\n",
              "          const element = document.querySelector('#df-9c5f214f-3157-43b2-93c3-f79a2f1e4cb4');\n",
              "          const dataTable =\n",
              "            await google.colab.kernel.invokeFunction('convertToInteractive',\n",
              "                                                     [key], {});\n",
              "          if (!dataTable) return;\n",
              "\n",
              "          const docLinkHtml = 'Like what you see? Visit the ' +\n",
              "            '<a target=\"_blank\" href=https://colab.research.google.com/notebooks/data_table.ipynb>data table notebook</a>'\n",
              "            + ' to learn more about interactive tables.';\n",
              "          element.innerHTML = '';\n",
              "          dataTable['output_type'] = 'display_data';\n",
              "          await google.colab.output.renderOutput(dataTable, element);\n",
              "          const docLink = document.createElement('div');\n",
              "          docLink.innerHTML = docLinkHtml;\n",
              "          element.appendChild(docLink);\n",
              "        }\n",
              "      </script>\n",
              "    </div>\n",
              "  </div>\n",
              "  "
            ]
          },
          "metadata": {},
          "execution_count": 142
        }
      ]
    },
    {
      "cell_type": "code",
      "source": [
        "df2['text'] = var3.texts_to_sequences(df2['text'])"
      ],
      "metadata": {
        "id": "rizpxX-KfDFB"
      },
      "execution_count": 143,
      "outputs": []
    },
    {
      "cell_type": "code",
      "source": [
        "df2"
      ],
      "metadata": {
        "colab": {
          "base_uri": "https://localhost:8080/",
          "height": 641
        },
        "id": "bRFyPb4GhqKY",
        "outputId": "7c1fd20a-7fbc-4908-91c1-b494982206aa"
      },
      "execution_count": 144,
      "outputs": [
        {
          "output_type": "execute_result",
          "data": {
            "text/plain": [
              "                                                  text\n",
              "0    [1, 13, 11, 33, 322, 811, 172, 6, 39, 39, 10, ...\n",
              "1    [790, 11, 347, 1267, 1037, 142, 1267, 1037, 12...\n",
              "2    [3, 112, 3222, 1, 69, 759, 19, 94, 30, 71, 23,...\n",
              "3    [1591, 4, 110, 947, 3773, 8, 160, 30, 39, 28, ...\n",
              "4    [302, 107, 3, 1778, 558, 88, 41, 543, 7, 423, ...\n",
              "..                                                 ...\n",
              "448  [461, 401, 193, 17, 23, 16, 23, 5, 49, 412, 3,...\n",
              "449               [1, 83, 2, 1, 288, 12, 168, 6, 1569]\n",
              "450  [1, 1485, 185, 213, 335, 220, 2859, 169, 214, ...\n",
              "451  [3, 208, 33, 14, 8, 1, 35, 192, 1236, 136, 6, ...\n",
              "452  [963, 8, 1177, 62, 15, 27, 448, 3, 300, 4, 1, ...\n",
              "\n",
              "[453 rows x 1 columns]"
            ],
            "text/html": [
              "\n",
              "  <div id=\"df-97b84cdf-a5b6-4213-801d-ada51a273f00\">\n",
              "    <div class=\"colab-df-container\">\n",
              "      <div>\n",
              "<style scoped>\n",
              "    .dataframe tbody tr th:only-of-type {\n",
              "        vertical-align: middle;\n",
              "    }\n",
              "\n",
              "    .dataframe tbody tr th {\n",
              "        vertical-align: top;\n",
              "    }\n",
              "\n",
              "    .dataframe thead th {\n",
              "        text-align: right;\n",
              "    }\n",
              "</style>\n",
              "<table border=\"1\" class=\"dataframe\">\n",
              "  <thead>\n",
              "    <tr style=\"text-align: right;\">\n",
              "      <th></th>\n",
              "      <th>text</th>\n",
              "    </tr>\n",
              "  </thead>\n",
              "  <tbody>\n",
              "    <tr>\n",
              "      <th>0</th>\n",
              "      <td>[1, 13, 11, 33, 322, 811, 172, 6, 39, 39, 10, ...</td>\n",
              "    </tr>\n",
              "    <tr>\n",
              "      <th>1</th>\n",
              "      <td>[790, 11, 347, 1267, 1037, 142, 1267, 1037, 12...</td>\n",
              "    </tr>\n",
              "    <tr>\n",
              "      <th>2</th>\n",
              "      <td>[3, 112, 3222, 1, 69, 759, 19, 94, 30, 71, 23,...</td>\n",
              "    </tr>\n",
              "    <tr>\n",
              "      <th>3</th>\n",
              "      <td>[1591, 4, 110, 947, 3773, 8, 160, 30, 39, 28, ...</td>\n",
              "    </tr>\n",
              "    <tr>\n",
              "      <th>4</th>\n",
              "      <td>[302, 107, 3, 1778, 558, 88, 41, 543, 7, 423, ...</td>\n",
              "    </tr>\n",
              "    <tr>\n",
              "      <th>...</th>\n",
              "      <td>...</td>\n",
              "    </tr>\n",
              "    <tr>\n",
              "      <th>448</th>\n",
              "      <td>[461, 401, 193, 17, 23, 16, 23, 5, 49, 412, 3,...</td>\n",
              "    </tr>\n",
              "    <tr>\n",
              "      <th>449</th>\n",
              "      <td>[1, 83, 2, 1, 288, 12, 168, 6, 1569]</td>\n",
              "    </tr>\n",
              "    <tr>\n",
              "      <th>450</th>\n",
              "      <td>[1, 1485, 185, 213, 335, 220, 2859, 169, 214, ...</td>\n",
              "    </tr>\n",
              "    <tr>\n",
              "      <th>451</th>\n",
              "      <td>[3, 208, 33, 14, 8, 1, 35, 192, 1236, 136, 6, ...</td>\n",
              "    </tr>\n",
              "    <tr>\n",
              "      <th>452</th>\n",
              "      <td>[963, 8, 1177, 62, 15, 27, 448, 3, 300, 4, 1, ...</td>\n",
              "    </tr>\n",
              "  </tbody>\n",
              "</table>\n",
              "<p>453 rows × 1 columns</p>\n",
              "</div>\n",
              "      <button class=\"colab-df-convert\" onclick=\"convertToInteractive('df-97b84cdf-a5b6-4213-801d-ada51a273f00')\"\n",
              "              title=\"Convert this dataframe to an interactive table.\"\n",
              "              style=\"display:none;\">\n",
              "        \n",
              "  <svg xmlns=\"http://www.w3.org/2000/svg\" height=\"24px\"viewBox=\"0 0 24 24\"\n",
              "       width=\"24px\">\n",
              "    <path d=\"M0 0h24v24H0V0z\" fill=\"none\"/>\n",
              "    <path d=\"M18.56 5.44l.94 2.06.94-2.06 2.06-.94-2.06-.94-.94-2.06-.94 2.06-2.06.94zm-11 1L8.5 8.5l.94-2.06 2.06-.94-2.06-.94L8.5 2.5l-.94 2.06-2.06.94zm10 10l.94 2.06.94-2.06 2.06-.94-2.06-.94-.94-2.06-.94 2.06-2.06.94z\"/><path d=\"M17.41 7.96l-1.37-1.37c-.4-.4-.92-.59-1.43-.59-.52 0-1.04.2-1.43.59L10.3 9.45l-7.72 7.72c-.78.78-.78 2.05 0 2.83L4 21.41c.39.39.9.59 1.41.59.51 0 1.02-.2 1.41-.59l7.78-7.78 2.81-2.81c.8-.78.8-2.07 0-2.86zM5.41 20L4 18.59l7.72-7.72 1.47 1.35L5.41 20z\"/>\n",
              "  </svg>\n",
              "      </button>\n",
              "      \n",
              "  <style>\n",
              "    .colab-df-container {\n",
              "      display:flex;\n",
              "      flex-wrap:wrap;\n",
              "      gap: 12px;\n",
              "    }\n",
              "\n",
              "    .colab-df-convert {\n",
              "      background-color: #E8F0FE;\n",
              "      border: none;\n",
              "      border-radius: 50%;\n",
              "      cursor: pointer;\n",
              "      display: none;\n",
              "      fill: #1967D2;\n",
              "      height: 32px;\n",
              "      padding: 0 0 0 0;\n",
              "      width: 32px;\n",
              "    }\n",
              "\n",
              "    .colab-df-convert:hover {\n",
              "      background-color: #E2EBFA;\n",
              "      box-shadow: 0px 1px 2px rgba(60, 64, 67, 0.3), 0px 1px 3px 1px rgba(60, 64, 67, 0.15);\n",
              "      fill: #174EA6;\n",
              "    }\n",
              "\n",
              "    [theme=dark] .colab-df-convert {\n",
              "      background-color: #3B4455;\n",
              "      fill: #D2E3FC;\n",
              "    }\n",
              "\n",
              "    [theme=dark] .colab-df-convert:hover {\n",
              "      background-color: #434B5C;\n",
              "      box-shadow: 0px 1px 3px 1px rgba(0, 0, 0, 0.15);\n",
              "      filter: drop-shadow(0px 1px 2px rgba(0, 0, 0, 0.3));\n",
              "      fill: #FFFFFF;\n",
              "    }\n",
              "  </style>\n",
              "\n",
              "      <script>\n",
              "        const buttonEl =\n",
              "          document.querySelector('#df-97b84cdf-a5b6-4213-801d-ada51a273f00 button.colab-df-convert');\n",
              "        buttonEl.style.display =\n",
              "          google.colab.kernel.accessAllowed ? 'block' : 'none';\n",
              "\n",
              "        async function convertToInteractive(key) {\n",
              "          const element = document.querySelector('#df-97b84cdf-a5b6-4213-801d-ada51a273f00');\n",
              "          const dataTable =\n",
              "            await google.colab.kernel.invokeFunction('convertToInteractive',\n",
              "                                                     [key], {});\n",
              "          if (!dataTable) return;\n",
              "\n",
              "          const docLinkHtml = 'Like what you see? Visit the ' +\n",
              "            '<a target=\"_blank\" href=https://colab.research.google.com/notebooks/data_table.ipynb>data table notebook</a>'\n",
              "            + ' to learn more about interactive tables.';\n",
              "          element.innerHTML = '';\n",
              "          dataTable['output_type'] = 'display_data';\n",
              "          await google.colab.output.renderOutput(dataTable, element);\n",
              "          const docLink = document.createElement('div');\n",
              "          docLink.innerHTML = docLinkHtml;\n",
              "          element.appendChild(docLink);\n",
              "        }\n",
              "      </script>\n",
              "    </div>\n",
              "  </div>\n",
              "  "
            ]
          },
          "metadata": {},
          "execution_count": 144
        }
      ]
    },
    {
      "cell_type": "code",
      "source": [
        "df2['text'] = tf.keras.preprocessing.sequence.pad_sequences(df2['text'], maxlen=max_len_vec)"
      ],
      "metadata": {
        "id": "1BLKyJ-IfXCD"
      },
      "execution_count": 146,
      "outputs": []
    },
    {
      "cell_type": "code",
      "source": [
        "df2"
      ],
      "metadata": {
        "colab": {
          "base_uri": "https://localhost:8080/",
          "height": 419
        },
        "id": "hNyAksDNfeyM",
        "outputId": "3799057c-778c-44ce-9363-f515bb1807c5"
      },
      "execution_count": 147,
      "outputs": [
        {
          "output_type": "execute_result",
          "data": {
            "text/plain": [
              "     text\n",
              "0       0\n",
              "1       0\n",
              "2       0\n",
              "3       0\n",
              "4       0\n",
              "..    ...\n",
              "448     0\n",
              "449     0\n",
              "450     0\n",
              "451     0\n",
              "452     0\n",
              "\n",
              "[453 rows x 1 columns]"
            ],
            "text/html": [
              "\n",
              "  <div id=\"df-3ec3e141-7d1d-4285-b3a2-4c6a2d1aca8c\">\n",
              "    <div class=\"colab-df-container\">\n",
              "      <div>\n",
              "<style scoped>\n",
              "    .dataframe tbody tr th:only-of-type {\n",
              "        vertical-align: middle;\n",
              "    }\n",
              "\n",
              "    .dataframe tbody tr th {\n",
              "        vertical-align: top;\n",
              "    }\n",
              "\n",
              "    .dataframe thead th {\n",
              "        text-align: right;\n",
              "    }\n",
              "</style>\n",
              "<table border=\"1\" class=\"dataframe\">\n",
              "  <thead>\n",
              "    <tr style=\"text-align: right;\">\n",
              "      <th></th>\n",
              "      <th>text</th>\n",
              "    </tr>\n",
              "  </thead>\n",
              "  <tbody>\n",
              "    <tr>\n",
              "      <th>0</th>\n",
              "      <td>0</td>\n",
              "    </tr>\n",
              "    <tr>\n",
              "      <th>1</th>\n",
              "      <td>0</td>\n",
              "    </tr>\n",
              "    <tr>\n",
              "      <th>2</th>\n",
              "      <td>0</td>\n",
              "    </tr>\n",
              "    <tr>\n",
              "      <th>3</th>\n",
              "      <td>0</td>\n",
              "    </tr>\n",
              "    <tr>\n",
              "      <th>4</th>\n",
              "      <td>0</td>\n",
              "    </tr>\n",
              "    <tr>\n",
              "      <th>...</th>\n",
              "      <td>...</td>\n",
              "    </tr>\n",
              "    <tr>\n",
              "      <th>448</th>\n",
              "      <td>0</td>\n",
              "    </tr>\n",
              "    <tr>\n",
              "      <th>449</th>\n",
              "      <td>0</td>\n",
              "    </tr>\n",
              "    <tr>\n",
              "      <th>450</th>\n",
              "      <td>0</td>\n",
              "    </tr>\n",
              "    <tr>\n",
              "      <th>451</th>\n",
              "      <td>0</td>\n",
              "    </tr>\n",
              "    <tr>\n",
              "      <th>452</th>\n",
              "      <td>0</td>\n",
              "    </tr>\n",
              "  </tbody>\n",
              "</table>\n",
              "<p>453 rows × 1 columns</p>\n",
              "</div>\n",
              "      <button class=\"colab-df-convert\" onclick=\"convertToInteractive('df-3ec3e141-7d1d-4285-b3a2-4c6a2d1aca8c')\"\n",
              "              title=\"Convert this dataframe to an interactive table.\"\n",
              "              style=\"display:none;\">\n",
              "        \n",
              "  <svg xmlns=\"http://www.w3.org/2000/svg\" height=\"24px\"viewBox=\"0 0 24 24\"\n",
              "       width=\"24px\">\n",
              "    <path d=\"M0 0h24v24H0V0z\" fill=\"none\"/>\n",
              "    <path d=\"M18.56 5.44l.94 2.06.94-2.06 2.06-.94-2.06-.94-.94-2.06-.94 2.06-2.06.94zm-11 1L8.5 8.5l.94-2.06 2.06-.94-2.06-.94L8.5 2.5l-.94 2.06-2.06.94zm10 10l.94 2.06.94-2.06 2.06-.94-2.06-.94-.94-2.06-.94 2.06-2.06.94z\"/><path d=\"M17.41 7.96l-1.37-1.37c-.4-.4-.92-.59-1.43-.59-.52 0-1.04.2-1.43.59L10.3 9.45l-7.72 7.72c-.78.78-.78 2.05 0 2.83L4 21.41c.39.39.9.59 1.41.59.51 0 1.02-.2 1.41-.59l7.78-7.78 2.81-2.81c.8-.78.8-2.07 0-2.86zM5.41 20L4 18.59l7.72-7.72 1.47 1.35L5.41 20z\"/>\n",
              "  </svg>\n",
              "      </button>\n",
              "      \n",
              "  <style>\n",
              "    .colab-df-container {\n",
              "      display:flex;\n",
              "      flex-wrap:wrap;\n",
              "      gap: 12px;\n",
              "    }\n",
              "\n",
              "    .colab-df-convert {\n",
              "      background-color: #E8F0FE;\n",
              "      border: none;\n",
              "      border-radius: 50%;\n",
              "      cursor: pointer;\n",
              "      display: none;\n",
              "      fill: #1967D2;\n",
              "      height: 32px;\n",
              "      padding: 0 0 0 0;\n",
              "      width: 32px;\n",
              "    }\n",
              "\n",
              "    .colab-df-convert:hover {\n",
              "      background-color: #E2EBFA;\n",
              "      box-shadow: 0px 1px 2px rgba(60, 64, 67, 0.3), 0px 1px 3px 1px rgba(60, 64, 67, 0.15);\n",
              "      fill: #174EA6;\n",
              "    }\n",
              "\n",
              "    [theme=dark] .colab-df-convert {\n",
              "      background-color: #3B4455;\n",
              "      fill: #D2E3FC;\n",
              "    }\n",
              "\n",
              "    [theme=dark] .colab-df-convert:hover {\n",
              "      background-color: #434B5C;\n",
              "      box-shadow: 0px 1px 3px 1px rgba(0, 0, 0, 0.15);\n",
              "      filter: drop-shadow(0px 1px 2px rgba(0, 0, 0, 0.3));\n",
              "      fill: #FFFFFF;\n",
              "    }\n",
              "  </style>\n",
              "\n",
              "      <script>\n",
              "        const buttonEl =\n",
              "          document.querySelector('#df-3ec3e141-7d1d-4285-b3a2-4c6a2d1aca8c button.colab-df-convert');\n",
              "        buttonEl.style.display =\n",
              "          google.colab.kernel.accessAllowed ? 'block' : 'none';\n",
              "\n",
              "        async function convertToInteractive(key) {\n",
              "          const element = document.querySelector('#df-3ec3e141-7d1d-4285-b3a2-4c6a2d1aca8c');\n",
              "          const dataTable =\n",
              "            await google.colab.kernel.invokeFunction('convertToInteractive',\n",
              "                                                     [key], {});\n",
              "          if (!dataTable) return;\n",
              "\n",
              "          const docLinkHtml = 'Like what you see? Visit the ' +\n",
              "            '<a target=\"_blank\" href=https://colab.research.google.com/notebooks/data_table.ipynb>data table notebook</a>'\n",
              "            + ' to learn more about interactive tables.';\n",
              "          element.innerHTML = '';\n",
              "          dataTable['output_type'] = 'display_data';\n",
              "          await google.colab.output.renderOutput(dataTable, element);\n",
              "          const docLink = document.createElement('div');\n",
              "          docLink.innerHTML = docLinkHtml;\n",
              "          element.appendChild(docLink);\n",
              "        }\n",
              "      </script>\n",
              "    </div>\n",
              "  </div>\n",
              "  "
            ]
          },
          "metadata": {},
          "execution_count": 147
        }
      ]
    },
    {
      "cell_type": "code",
      "source": [
        "predicts = model.predict(df2['text'])"
      ],
      "metadata": {
        "colab": {
          "base_uri": "https://localhost:8080/"
        },
        "id": "7IiXpaeVf4WG",
        "outputId": "417b5c52-f845-43c1-91c5-f3a356a58f59"
      },
      "execution_count": 153,
      "outputs": [
        {
          "output_type": "stream",
          "name": "stdout",
          "text": [
            "15/15 [==============================] - 0s 13ms/step\n"
          ]
        }
      ]
    },
    {
      "cell_type": "code",
      "source": [
        "print(predicts)"
      ],
      "metadata": {
        "colab": {
          "base_uri": "https://localhost:8080/"
        },
        "id": "AUMuPVQ6jR3A",
        "outputId": "8163511f-5ca3-4a1a-f61c-bf7f6fa56949"
      },
      "execution_count": 154,
      "outputs": [
        {
          "output_type": "stream",
          "name": "stdout",
          "text": [
            "[[0.00629144 0.9334995  0.06020897]\n",
            " [0.00629144 0.9334995  0.06020897]\n",
            " [0.00629144 0.9334995  0.06020897]\n",
            " ...\n",
            " [0.00629144 0.9334995  0.06020899]\n",
            " [0.00629144 0.9334995  0.06020899]\n",
            " [0.00629144 0.9334995  0.06020899]]\n"
          ]
        }
      ]
    },
    {
      "cell_type": "code",
      "source": [
        "lst_pred = []\n",
        "\n",
        "for element in predicts:\n",
        "  element = np.argmax(element)\n",
        "  lst_pred.append(element)"
      ],
      "metadata": {
        "id": "_lUWaF7fgjQY"
      },
      "execution_count": 155,
      "outputs": []
    },
    {
      "cell_type": "code",
      "source": [
        "final_pred = le.inverse_transform(lst_pred)\n"
      ],
      "metadata": {
        "id": "5N7JQZHahDRr"
      },
      "execution_count": 174,
      "outputs": []
    },
    {
      "cell_type": "markdown",
      "source": [
        "# Predicted class labels\n"
      ],
      "metadata": {
        "id": "e4oPL6DukC3Q"
      }
    },
    {
      "cell_type": "code",
      "source": [
        "final_pred"
      ],
      "metadata": {
        "colab": {
          "base_uri": "https://localhost:8080/"
        },
        "id": "8mV1ai55hQsc",
        "outputId": "ec2dcc32-df71-45da-adf9-45d7907c6841"
      },
      "execution_count": 175,
      "outputs": [
        {
          "output_type": "execute_result",
          "data": {
            "text/plain": [
              "array(['neutral', 'neutral', 'neutral', 'neutral', 'neutral', 'neutral',\n",
              "       'neutral', 'neutral', 'neutral', 'neutral', 'neutral', 'neutral',\n",
              "       'neutral', 'neutral', 'neutral', 'neutral', 'neutral', 'neutral',\n",
              "       'neutral', 'neutral', 'neutral', 'neutral', 'neutral', 'neutral',\n",
              "       'neutral', 'neutral', 'neutral', 'neutral', 'neutral', 'neutral',\n",
              "       'neutral', 'neutral', 'neutral', 'neutral', 'neutral', 'neutral',\n",
              "       'neutral', 'neutral', 'neutral', 'neutral', 'neutral', 'neutral',\n",
              "       'neutral', 'neutral', 'neutral', 'neutral', 'neutral', 'neutral',\n",
              "       'neutral', 'neutral', 'neutral', 'neutral', 'neutral', 'neutral',\n",
              "       'neutral', 'neutral', 'neutral', 'neutral', 'neutral', 'neutral',\n",
              "       'neutral', 'neutral', 'neutral', 'neutral', 'neutral', 'neutral',\n",
              "       'neutral', 'neutral', 'neutral', 'neutral', 'neutral', 'neutral',\n",
              "       'neutral', 'neutral', 'neutral', 'neutral', 'neutral', 'neutral',\n",
              "       'neutral', 'neutral', 'neutral', 'neutral', 'neutral', 'neutral',\n",
              "       'neutral', 'neutral', 'neutral', 'neutral', 'neutral', 'neutral',\n",
              "       'neutral', 'neutral', 'neutral', 'neutral', 'neutral', 'neutral',\n",
              "       'neutral', 'neutral', 'neutral', 'neutral', 'neutral', 'neutral',\n",
              "       'neutral', 'neutral', 'neutral', 'neutral', 'neutral', 'neutral',\n",
              "       'neutral', 'neutral', 'neutral', 'neutral', 'neutral', 'neutral',\n",
              "       'neutral', 'neutral', 'neutral', 'neutral', 'neutral', 'neutral',\n",
              "       'neutral', 'neutral', 'neutral', 'neutral', 'neutral', 'neutral',\n",
              "       'neutral', 'neutral', 'neutral', 'neutral', 'neutral', 'neutral',\n",
              "       'neutral', 'neutral', 'neutral', 'neutral', 'neutral', 'neutral',\n",
              "       'neutral', 'neutral', 'neutral', 'neutral', 'neutral', 'neutral',\n",
              "       'neutral', 'neutral', 'neutral', 'neutral', 'neutral', 'neutral',\n",
              "       'neutral', 'neutral', 'neutral', 'neutral', 'neutral', 'neutral',\n",
              "       'neutral', 'neutral', 'neutral', 'neutral', 'neutral', 'neutral',\n",
              "       'neutral', 'neutral', 'neutral', 'neutral', 'neutral', 'neutral',\n",
              "       'neutral', 'neutral', 'neutral', 'neutral', 'neutral', 'neutral',\n",
              "       'neutral', 'neutral', 'neutral', 'neutral', 'neutral', 'neutral',\n",
              "       'neutral', 'neutral', 'neutral', 'neutral', 'neutral', 'neutral',\n",
              "       'neutral', 'neutral', 'neutral', 'neutral', 'neutral', 'neutral',\n",
              "       'neutral', 'neutral', 'neutral', 'neutral', 'neutral', 'neutral',\n",
              "       'neutral', 'neutral', 'neutral', 'neutral', 'neutral', 'neutral',\n",
              "       'neutral', 'neutral', 'neutral', 'neutral', 'neutral', 'neutral',\n",
              "       'neutral', 'neutral', 'neutral', 'neutral', 'neutral', 'neutral',\n",
              "       'neutral', 'neutral', 'neutral', 'neutral', 'neutral', 'neutral',\n",
              "       'neutral', 'neutral', 'neutral', 'neutral', 'neutral', 'neutral',\n",
              "       'neutral', 'neutral', 'neutral', 'neutral', 'neutral', 'neutral',\n",
              "       'neutral', 'neutral', 'neutral', 'neutral', 'neutral', 'neutral',\n",
              "       'neutral', 'neutral', 'neutral', 'neutral', 'neutral', 'neutral',\n",
              "       'neutral', 'neutral', 'neutral', 'neutral', 'neutral', 'neutral',\n",
              "       'neutral', 'neutral', 'neutral', 'neutral', 'neutral', 'neutral',\n",
              "       'neutral', 'neutral', 'neutral', 'neutral', 'neutral', 'neutral',\n",
              "       'neutral', 'neutral', 'neutral', 'neutral', 'neutral', 'neutral',\n",
              "       'neutral', 'neutral', 'neutral', 'neutral', 'neutral', 'neutral',\n",
              "       'neutral', 'neutral', 'neutral', 'neutral', 'neutral', 'neutral',\n",
              "       'neutral', 'neutral', 'neutral', 'neutral', 'neutral', 'neutral',\n",
              "       'neutral', 'neutral', 'neutral', 'neutral', 'neutral', 'neutral',\n",
              "       'neutral', 'neutral', 'neutral', 'neutral', 'neutral', 'neutral',\n",
              "       'neutral', 'neutral', 'neutral', 'neutral', 'neutral', 'neutral',\n",
              "       'neutral', 'neutral', 'neutral', 'neutral', 'neutral', 'neutral',\n",
              "       'neutral', 'neutral', 'neutral', 'neutral', 'neutral', 'neutral',\n",
              "       'neutral', 'neutral', 'neutral', 'neutral', 'neutral', 'neutral',\n",
              "       'neutral', 'neutral', 'neutral', 'neutral', 'neutral', 'neutral',\n",
              "       'neutral', 'neutral', 'neutral', 'neutral', 'neutral', 'neutral',\n",
              "       'neutral', 'neutral', 'neutral', 'neutral', 'neutral', 'neutral',\n",
              "       'neutral', 'neutral', 'neutral', 'neutral', 'neutral', 'neutral',\n",
              "       'neutral', 'neutral', 'neutral', 'neutral', 'neutral', 'neutral',\n",
              "       'neutral', 'neutral', 'neutral', 'neutral', 'neutral', 'neutral',\n",
              "       'neutral', 'neutral', 'neutral', 'neutral', 'neutral', 'neutral',\n",
              "       'neutral', 'neutral', 'neutral', 'neutral', 'neutral', 'neutral',\n",
              "       'neutral', 'neutral', 'neutral', 'neutral', 'neutral', 'neutral',\n",
              "       'neutral', 'neutral', 'neutral', 'neutral', 'neutral', 'neutral',\n",
              "       'neutral', 'neutral', 'neutral', 'neutral', 'neutral', 'neutral',\n",
              "       'neutral', 'neutral', 'neutral', 'neutral', 'neutral', 'neutral',\n",
              "       'neutral', 'neutral', 'neutral', 'neutral', 'neutral', 'neutral',\n",
              "       'neutral', 'neutral', 'neutral', 'neutral', 'neutral', 'neutral',\n",
              "       'neutral', 'neutral', 'neutral', 'neutral', 'neutral', 'neutral',\n",
              "       'neutral', 'neutral', 'neutral', 'neutral', 'neutral', 'neutral',\n",
              "       'neutral', 'neutral', 'neutral', 'neutral', 'neutral', 'neutral',\n",
              "       'neutral', 'neutral', 'neutral', 'neutral', 'neutral', 'neutral',\n",
              "       'neutral', 'neutral', 'neutral', 'neutral', 'neutral', 'neutral',\n",
              "       'neutral', 'neutral', 'neutral', 'neutral', 'neutral', 'neutral',\n",
              "       'neutral', 'neutral', 'neutral', 'neutral', 'neutral', 'neutral',\n",
              "       'neutral', 'neutral', 'neutral'], dtype=object)"
            ]
          },
          "metadata": {},
          "execution_count": 175
        }
      ]
    },
    {
      "cell_type": "code",
      "source": [
        "with open('class_labels.txt', 'w+') as f:\n",
        "  #final_pred = str(final_pred)\n",
        "  for pred in final_pred:\n",
        "    f.write(pred + '\\n')"
      ],
      "metadata": {
        "id": "c__aBlnaknLB"
      },
      "execution_count": 176,
      "outputs": []
    }
  ]
}